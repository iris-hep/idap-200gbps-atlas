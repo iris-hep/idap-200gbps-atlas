{
 "cells": [
  {
   "cell_type": "code",
   "execution_count": 1,
   "id": "180f4d32-e5c4-42f9-84e8-430034493a55",
   "metadata": {
    "tags": []
   },
   "outputs": [
    {
     "name": "stdout",
     "output_type": "stream",
     "text": [
      "awkward: 2.6.2\n",
      "dask-awkward: 2024.3.0\n",
      "uproot: 5.3.2\n",
      "hist: 2.7.2\n",
      "coffea: 2024.3.0\n"
     ]
    }
   ],
   "source": [
    "import glob\n",
    "import json\n",
    "import os\n",
    "from collections import defaultdict\n",
    "from pathlib import Path\n",
    "\n",
    "import awkward as ak\n",
    "import dask\n",
    "import dask_awkward as dak\n",
    "import hist.dask\n",
    "import coffea\n",
    "import numpy as np\n",
    "import uproot\n",
    "from dask.distributed import Client\n",
    "import matplotlib.pyplot as plt\n",
    "import matplotlib as mpl\n",
    "mpl.style.use(\"ggplot\")\n",
    "\n",
    "from coffea.nanoevents import NanoEventsFactory, PHYSLITESchema\n",
    "from coffea import dataset_tools\n",
    "\n",
    "import time\n",
    "import warnings\n",
    "\n",
    "warnings.filterwarnings(\"ignore\")\n",
    "\n",
    "from input_files import utils\n",
    "\n",
    "from dask.distributed import LocalCluster, Client, progress, performance_report\n",
    "\n",
    "# local: single thread, single worker\n",
    "# cluster = LocalCluster(n_workers=1, processes=False, threads_per_worker=1)\n",
    "# client = Client(cluster)\n",
    "\n",
    "# for UChicago\n",
    "client = Client(\"tcp://dask-alheld-f730f827-a.af-jupyter:8786\")  # update this to point to your own client!\n",
    "\n",
    "figures_dir = Path.cwd() / \"figures\"\n",
    "figures_dir.mkdir(exist_ok=True)\n",
    "\n",
    "print(f\"awkward: {ak.__version__}\")\n",
    "print(f\"dask-awkward: {dak.__version__}\")\n",
    "print(f\"uproot: {uproot.__version__}\")\n",
    "print(f\"hist: {hist.__version__}\")\n",
    "print(f\"coffea: {coffea.__version__}\")"
   ]
  },
  {
   "cell_type": "markdown",
   "id": "d7dc48bd-585e-4c95-848b-3a59dc920f51",
   "metadata": {},
   "source": [
    "### interactive coffea for debugging"
   ]
  },
  {
   "cell_type": "code",
   "execution_count": 2,
   "id": "d68e654e-0987-4bc6-865d-273c983e932b",
   "metadata": {},
   "outputs": [],
   "source": [
    "# fname = \"/data/alheld/200gbps-atlas/data18_13TeV.periodAllYear.physics_Main.PhysCont.DAOD_PHYSLITE.grp18_v01_p6026/DAOD_PHYSLITE.37021624._000036.pool.root.1\"\n",
    "# treename = \"CollectionTree\"\n",
    "# events = NanoEventsFactory.from_root({fname: treename}, schemaclass=PHYSLITESchema).events()"
   ]
  },
  {
   "cell_type": "markdown",
   "id": "208ff780-6dcb-4448-89de-0f1ac6a1b0a0",
   "metadata": {},
   "source": [
    "### distributed coffea"
   ]
  },
  {
   "cell_type": "markdown",
   "id": "f7f24e12-3fd8-481c-8318-7f9277f72c50",
   "metadata": {},
   "source": [
    "build a `fileset` using the list of files corresponding to some selected containers"
   ]
  },
  {
   "cell_type": "code",
   "execution_count": 3,
   "id": "0ef7dd8d-68e5-43fa-b8bf-5d8f972520c5",
   "metadata": {},
   "outputs": [
    {
     "name": "stdout",
     "output_type": "stream",
     "text": [
      "fileset summary\n",
      " - number of files: 3\n",
      "cannot determine total size / number of events when max_files_per_container is being used\n"
     ]
    }
   ],
   "source": [
    "# -------------\n",
    "# CONFIGURATION\n",
    "# -------------\n",
    "# modify this to change how many files are being processed\n",
    "# full list is list(find_containers.container_dict.keys()) + [\"data15_13TeV\", \"data16_13TeV\", \"data17_13TeV\", \"data18_13TeV\"]\n",
    "\n",
    "PROCESSES_TO_USE = [\"ttbar\"]  # 6.7 TB\n",
    "# PROCESSES_TO_USE = [\"db\", \"zjets\", \"wjets\", \"ttV\", \"othertop\", \"ttbar\"]  # all simulation, 48.4 TB\n",
    "# PROCESSES_TO_USE = [\"db\", \"zjets\", \"wjets\", \"ttV\", \"othertop\", \"ttbar\", \"data15_13TeV\", \"data16_13TeV\", \"data17_13TeV\", \"data18_13TeV\"]  # 191 TB\n",
    "\n",
    "fileset = utils.get_fileset(PROCESSES_TO_USE, max_files_per_container=1)"
   ]
  },
  {
   "cell_type": "code",
   "execution_count": 5,
   "id": "0a38efe4-8024-422c-ba42-12bd3a3b44cd",
   "metadata": {
    "tags": []
   },
   "outputs": [],
   "source": [
    "def materialize_branches(events):\n",
    "    # track number of events\n",
    "    num_events = ak.num(events, axis=0)\n",
    "\n",
    "    # this will read around 25% of data files\n",
    "    # materialize branches, just derive integers from them that will be aggregated to avoid memory issues\n",
    "    _counter = 0\n",
    "    _counter += ak.count_nonzero(events.Jets.pt)\n",
    "    _counter += ak.count_nonzero(events.Jets.eta)\n",
    "    _counter += ak.count_nonzero(events.Jets.phi)\n",
    "    _counter += ak.count_nonzero(events.Jets.m)\n",
    "    _counter += ak.count_nonzero(events.Electrons.pt)\n",
    "    _counter += ak.count_nonzero(events.Electrons.eta)\n",
    "    _counter += ak.count_nonzero(events.Electrons.phi)\n",
    "    _counter += ak.count_nonzero(events.Electrons.m)\n",
    "    _counter += ak.count_nonzero(events.Muons.pt)\n",
    "    _counter += ak.count_nonzero(events.Muons.eta)\n",
    "    _counter += ak.count_nonzero(events.Muons.phi)\n",
    "    _counter += ak.count_nonzero(events.Jets.EnergyPerSampling)\n",
    "    _counter += ak.count_nonzero(events.Jets.SumPtTrkPt500)\n",
    "    _counter += ak.count_nonzero(events.Jets.TrackWidthPt1000)\n",
    "    _counter += ak.count_nonzero(events.PrimaryVertices.z)\n",
    "    _counter += ak.count_nonzero(events.PrimaryVertices.x)\n",
    "    _counter += ak.count_nonzero(events.PrimaryVertices.y)\n",
    "    _counter += ak.count_nonzero(events.Jets.NumTrkPt500)\n",
    "    _counter += ak.count_nonzero(events.Jets.NumTrkPt1000)\n",
    "    _counter += ak.count_nonzero(events.Jets.SumPtChargedPFOPt500)\n",
    "    _counter += ak.count_nonzero(events.Jets.Timing)\n",
    "    _counter += ak.count_nonzero(events.Jets.JetConstitScaleMomentum_eta)\n",
    "    _counter += ak.count_nonzero(events.Jets.ActiveArea4vec_eta)\n",
    "    _counter += ak.count_nonzero(events.Jets.DetectorEta)\n",
    "    _counter += ak.count_nonzero(events.Jets.JetConstitScaleMomentum_phi)\n",
    "    _counter += ak.count_nonzero(events.Jets.ActiveArea4vec_phi)\n",
    "    _counter += ak.count_nonzero(events.Jets.JetConstitScaleMomentum_m)\n",
    "    _counter += ak.count_nonzero(events.Jets.JetConstitScaleMomentum_pt)\n",
    "    _counter += ak.count_nonzero(events.Jets.EMFrac)\n",
    "    _counter += ak.count_nonzero(events.Jets.Width)\n",
    "    _counter += ak.count_nonzero(events.Jets.ActiveArea4vec_m)\n",
    "    _counter += ak.count_nonzero(events.Jets.ActiveArea4vec_pt)\n",
    "    _counter += ak.count_nonzero(events.Jets.DFCommonJets_QGTagger_TracksWidth)\n",
    "    _counter += ak.count_nonzero(events.Jets.PSFrac)\n",
    "    _counter += ak.count_nonzero(events.Jets.JVFCorr)\n",
    "    _counter += ak.count_nonzero(events.Jets.DFCommonJets_QGTagger_TracksC1)\n",
    "    _counter += ak.count_nonzero(events.Jets.DFCommonJets_fJvt)\n",
    "    _counter += ak.count_nonzero(events.Jets.DFCommonJets_QGTagger_NTracks)\n",
    "    _counter += ak.count_nonzero(events.Jets.GhostMuonSegmentCount)\n",
    "    _counter += ak.count_nonzero(events.Muons.muonSegmentLinks['m_persIndex'])\n",
    "    _counter += ak.count_nonzero(events.Muons.msOnlyExtrapolatedMuonSpectrometerTrackParticleLink['m_persIndex'])\n",
    "    _counter += ak.count_nonzero(events.Muons.extrapolatedMuonSpectrometerTrackParticleLink['m_persIndex'])\n",
    "    _counter += ak.count_nonzero(events.Muons.inDetTrackParticleLink['m_persIndex'])\n",
    "    _counter += ak.count_nonzero(events.Muons.muonSpectrometerTrackParticleLink['m_persIndex'])\n",
    "    _counter += ak.count_nonzero(events.Muons.momentumBalanceSignificance)\n",
    "    _counter += ak.count_nonzero(events.Muons.topoetcone20_CloseByCorr)\n",
    "    _counter += ak.count_nonzero(events.Muons.scatteringCurvatureSignificance)\n",
    "    _counter += ak.count_nonzero(events.Muons.scatteringNeighbourSignificance)\n",
    "    _counter += ak.count_nonzero(events.Muons.neflowisol20_CloseByCorr)\n",
    "    _counter += ak.count_nonzero(events.Muons.topoetcone20)\n",
    "    _counter += ak.count_nonzero(events.Muons.topoetcone30)\n",
    "    _counter += ak.count_nonzero(events.Muons.topoetcone40)\n",
    "    _counter += ak.count_nonzero(events.Muons.neflowisol20)\n",
    "    _counter += ak.count_nonzero(events.Muons.segmentDeltaEta)\n",
    "    _counter += ak.count_nonzero(events.Muons.DFCommonJetDr)\n",
    "    _counter += ak.count_nonzero(events.Muons.combinedTrackParticleLink['m_persIndex'])\n",
    "    _counter += ak.count_nonzero(events.Muons.InnerDetectorPt)\n",
    "    _counter += ak.count_nonzero(events.Muons.MuonSpectrometerPt)\n",
    "    _counter += ak.count_nonzero(events.Muons.clusterLink['m_persIndex'])\n",
    "    _counter += ak.count_nonzero(events.Muons.spectrometerFieldIntegral)\n",
    "    _counter += ak.count_nonzero(events.Electrons.ambiguityLink['m_persIndex'])\n",
    "    _counter += ak.count_nonzero(events.Muons.EnergyLoss)\n",
    "    _counter += ak.count_nonzero(events.Jets.NNJvtPass)\n",
    "    _counter += ak.count_nonzero(events.Electrons.topoetcone20_CloseByCorr)\n",
    "    _counter += ak.count_nonzero(events.Electrons.topoetcone20ptCorrection)\n",
    "    _counter += ak.count_nonzero(events.Electrons.topoetcone20)\n",
    "    _counter += ak.count_nonzero(events.Muons.ptvarcone30_Nonprompt_All_MaxWeightTTVA_pt500_CloseByCorr)\n",
    "    _counter += ak.count_nonzero(events.Electrons.DFCommonElectronsECIDSResult)\n",
    "    _counter += ak.count_nonzero(events.Electrons.neflowisol20)\n",
    "    _counter += ak.count_nonzero(events.Muons.ptvarcone30_Nonprompt_All_MaxWeightTTVA_pt500)\n",
    "    _counter += ak.count_nonzero(events.Muons.ptcone40)\n",
    "    _counter += ak.count_nonzero(events.Muons.ptvarcone30_Nonprompt_All_MaxWeightTTVA_pt1000_CloseByCorr)\n",
    "    _counter += ak.count_nonzero(events.Muons.ptvarcone30_Nonprompt_All_MaxWeightTTVA_pt1000)\n",
    "    _counter += ak.count_nonzero(events.Muons.ptvarcone40)\n",
    "    _counter += ak.count_nonzero(events.Electrons.f1)\n",
    "    _counter += ak.count_nonzero(events.Muons.ptcone20_Nonprompt_All_MaxWeightTTVA_pt500)\n",
    "    _counter += ak.count_nonzero(events.PrimaryVertices.vertexType)\n",
    "    _counter += ak.count_nonzero(events.Muons.ptvarcone30)\n",
    "    _counter += ak.count_nonzero(events.Muons.ptcone30)\n",
    "    _counter += ak.count_nonzero(events.Muons.ptcone20_Nonprompt_All_MaxWeightTTVA_pt1000)\n",
    "    _counter += ak.count_nonzero(events.Electrons.ptvarcone30_Nonprompt_All_MaxWeightTTVALooseCone_pt500)\n",
    "    _counter += ak.count_nonzero(events.Muons.CaloLRLikelihood)\n",
    "\n",
    "    return {\"nevts\": num_events, \"_counter\": _counter}"
   ]
  },
  {
   "cell_type": "code",
   "execution_count": 6,
   "id": "ed1ecc41-0a72-44ec-a8b8-654286a02196",
   "metadata": {
    "tags": []
   },
   "outputs": [
    {
     "name": "stdout",
     "output_type": "stream",
     "text": [
      "CPU times: user 75.5 ms, sys: 7.04 ms, total: 82.5 ms\n",
      "Wall time: 4.91 s\n"
     ]
    }
   ],
   "source": [
    "%%time\n",
    "# pre-process\n",
    "samples, _ = dataset_tools.preprocess(fileset)"
   ]
  },
  {
   "cell_type": "code",
   "execution_count": 7,
   "id": "dca7b2ea-ae18-41ac-a4a8-cf257621dd10",
   "metadata": {},
   "outputs": [],
   "source": [
    "BRANCH_LIST = [\n",
    "    \"AnalysisJetsAuxDyn.pt\",\n",
    "    \"AnalysisJetsAuxDyn.eta\",\n",
    "    \"AnalysisJetsAuxDyn.phi\",\n",
    "    \"AnalysisJetsAuxDyn.m\",\n",
    "    \"AnalysisElectronsAuxDyn.pt\",\n",
    "    \"AnalysisElectronsAuxDyn.eta\",\n",
    "    \"AnalysisElectronsAuxDyn.phi\",\n",
    "    \"AnalysisElectronsAuxDyn.m\",\n",
    "    \"AnalysisMuonsAuxDyn.pt\",\n",
    "    \"AnalysisMuonsAuxDyn.eta\",\n",
    "    \"AnalysisMuonsAuxDyn.phi\",\n",
    "    \"AnalysisJetsAuxDyn.EnergyPerSampling\",\n",
    "    \"AnalysisJetsAuxDyn.SumPtTrkPt500\",\n",
    "    \"AnalysisJetsAuxDyn.TrackWidthPt1000\",\n",
    "    \"PrimaryVerticesAuxDyn.z\",\n",
    "    \"PrimaryVerticesAuxDyn.x\",\n",
    "    \"PrimaryVerticesAuxDyn.y\",\n",
    "    \"AnalysisJetsAuxDyn.NumTrkPt500\",\n",
    "    \"AnalysisJetsAuxDyn.NumTrkPt1000\",\n",
    "    \"AnalysisJetsAuxDyn.SumPtChargedPFOPt500\",\n",
    "    \"AnalysisJetsAuxDyn.Timing\",\n",
    "    \"AnalysisJetsAuxDyn.JetConstitScaleMomentum_eta\",\n",
    "    \"AnalysisJetsAuxDyn.ActiveArea4vec_eta\",\n",
    "    \"AnalysisJetsAuxDyn.DetectorEta\",\n",
    "    \"AnalysisJetsAuxDyn.JetConstitScaleMomentum_phi\",\n",
    "    \"AnalysisJetsAuxDyn.ActiveArea4vec_phi\",\n",
    "    \"AnalysisJetsAuxDyn.JetConstitScaleMomentum_m\",\n",
    "    \"AnalysisJetsAuxDyn.JetConstitScaleMomentum_pt\",\n",
    "    \"AnalysisJetsAuxDyn.EMFrac\",\n",
    "    \"AnalysisJetsAuxDyn.Width\",\n",
    "    \"AnalysisJetsAuxDyn.ActiveArea4vec_m\",\n",
    "    \"AnalysisJetsAuxDyn.ActiveArea4vec_pt\",\n",
    "    \"AnalysisJetsAuxDyn.DFCommonJets_QGTagger_TracksWidth\",\n",
    "    \"AnalysisJetsAuxDyn.PSFrac\",\n",
    "    \"AnalysisJetsAuxDyn.JVFCorr\",\n",
    "    \"AnalysisJetsAuxDyn.DFCommonJets_QGTagger_TracksC1\",\n",
    "    \"AnalysisJetsAuxDyn.DFCommonJets_fJvt\",\n",
    "    \"AnalysisJetsAuxDyn.DFCommonJets_QGTagger_NTracks\",\n",
    "    \"AnalysisJetsAuxDyn.GhostMuonSegmentCount\",\n",
    "    \"AnalysisMuonsAuxDyn.muonSegmentLinks\",\n",
    "    \"AnalysisMuonsAuxDyn.msOnlyExtrapolatedMuonSpectrometerTrackParticleLink\",\n",
    "    \"AnalysisMuonsAuxDyn.extrapolatedMuonSpectrometerTrackParticleLink\",\n",
    "    \"AnalysisMuonsAuxDyn.inDetTrackParticleLink\",\n",
    "    \"AnalysisMuonsAuxDyn.muonSpectrometerTrackParticleLink\",\n",
    "    \"AnalysisMuonsAuxDyn.momentumBalanceSignificance\",\n",
    "    \"AnalysisMuonsAuxDyn.topoetcone20_CloseByCorr\",\n",
    "    \"AnalysisMuonsAuxDyn.scatteringCurvatureSignificance\",\n",
    "    \"AnalysisMuonsAuxDyn.scatteringNeighbourSignificance\",\n",
    "    \"AnalysisMuonsAuxDyn.neflowisol20_CloseByCorr\",\n",
    "    \"AnalysisMuonsAuxDyn.topoetcone20\",\n",
    "    \"AnalysisMuonsAuxDyn.topoetcone30\",\n",
    "    \"AnalysisMuonsAuxDyn.topoetcone40\",\n",
    "    \"AnalysisMuonsAuxDyn.neflowisol20\",\n",
    "    \"AnalysisMuonsAuxDyn.segmentDeltaEta\",\n",
    "    \"AnalysisMuonsAuxDyn.DFCommonJetDr\",\n",
    "    \"AnalysisMuonsAuxDyn.combinedTrackParticleLink\",\n",
    "    \"AnalysisMuonsAuxDyn.InnerDetectorPt\",\n",
    "    \"AnalysisMuonsAuxDyn.MuonSpectrometerPt\",\n",
    "    \"AnalysisMuonsAuxDyn.clusterLink\",\n",
    "    \"AnalysisMuonsAuxDyn.spectrometerFieldIntegral\",\n",
    "    \"AnalysisElectronsAuxDyn.ambiguityLink\",\n",
    "    \"AnalysisMuonsAuxDyn.EnergyLoss\",\n",
    "    \"AnalysisJetsAuxDyn.NNJvtPass\",\n",
    "    \"AnalysisElectronsAuxDyn.topoetcone20_CloseByCorr\",\n",
    "    \"AnalysisElectronsAuxDyn.topoetcone20ptCorrection\",\n",
    "    \"AnalysisElectronsAuxDyn.topoetcone20\",\n",
    "    \"AnalysisMuonsAuxDyn.ptvarcone30_Nonprompt_All_MaxWeightTTVA_pt500_CloseByCorr\",\n",
    "    \"AnalysisElectronsAuxDyn.DFCommonElectronsECIDSResult\",\n",
    "    \"AnalysisElectronsAuxDyn.neflowisol20\",\n",
    "    \"AnalysisMuonsAuxDyn.ptvarcone30_Nonprompt_All_MaxWeightTTVA_pt500\",\n",
    "    \"AnalysisMuonsAuxDyn.ptcone40\",\n",
    "    \"AnalysisMuonsAuxDyn.ptvarcone30_Nonprompt_All_MaxWeightTTVA_pt1000_CloseByCorr\",\n",
    "    \"AnalysisMuonsAuxDyn.ptvarcone30_Nonprompt_All_MaxWeightTTVA_pt1000\",\n",
    "    \"AnalysisMuonsAuxDyn.ptvarcone40\",\n",
    "    \"AnalysisElectronsAuxDyn.f1\",\n",
    "    \"AnalysisMuonsAuxDyn.ptcone20_Nonprompt_All_MaxWeightTTVA_pt500\",\n",
    "    \"PrimaryVerticesAuxDyn.vertexType\",\n",
    "    \"AnalysisMuonsAuxDyn.ptvarcone30\",\n",
    "    \"AnalysisMuonsAuxDyn.ptcone30\",\n",
    "    \"AnalysisMuonsAuxDyn.ptcone20_Nonprompt_All_MaxWeightTTVA_pt1000\",\n",
    "    \"AnalysisElectronsAuxDyn.ptvarcone30_Nonprompt_All_MaxWeightTTVALooseCone_pt500\",\n",
    "    \"AnalysisMuonsAuxDyn.CaloLRLikelihood\"\n",
    "]\n",
    "\n",
    "filter_name = lambda name: name in BRANCH_LIST"
   ]
  },
  {
   "cell_type": "code",
   "execution_count": 19,
   "id": "15835a57-1182-4efb-8306-07f36af7a5b2",
   "metadata": {
    "tags": []
   },
   "outputs": [
    {
     "name": "stdout",
     "output_type": "stream",
     "text": [
      "CPU times: user 2.56 s, sys: 47 ms, total: 2.61 s\n",
      "Wall time: 2.62 s\n"
     ]
    }
   ],
   "source": [
    "%%time\n",
    "# create the task graph\n",
    "# filter_name seems to not do anything here in terms of performance\n",
    "tasks = dataset_tools.apply_to_fileset(materialize_branches,\n",
    "                                       samples,\n",
    "                                       uproot_options={\"allow_read_errors_with_report\": True, \"filter_name\": filter_name},\n",
    "                                       schemaclass=PHYSLITESchema)"
   ]
  },
  {
   "cell_type": "markdown",
   "id": "e1953d6d",
   "metadata": {},
   "source": [
    "execute task graph"
   ]
  },
  {
   "cell_type": "code",
   "execution_count": 20,
   "id": "6b6dfb17-6806-46c8-aa59-cd475e40cf64",
   "metadata": {
    "tags": []
   },
   "outputs": [
    {
     "name": "stdout",
     "output_type": "stream",
     "text": [
      "total time spent in uproot reading data: 35.41 s\n",
      "wall time: 20.53s\n",
      "CPU times: user 423 ms, sys: 7.15 ms, total: 430 ms\n",
      "Wall time: 20.5 s\n"
     ]
    }
   ],
   "source": [
    "%%time\n",
    "# execute\n",
    "t0 = time.perf_counter()\n",
    "with performance_report(filename=\"dask-report.html\"):\n",
    "    ((out, report),) = dask.compute(tasks)  # feels strange that this is a tuple-of-tuple\n",
    "t1 = time.perf_counter()\n",
    "\n",
    "print(f\"total time spent in uproot reading data: {ak.sum([v['duration'] for v in report.values()]):.2f} s\")\n",
    "print(f\"wall time: {t1-t0:.2f}s\")"
   ]
  },
  {
   "cell_type": "code",
   "execution_count": 10,
   "id": "bb47e9e5-57ea-4385-b8f8-b2a22ded030e",
   "metadata": {},
   "outputs": [
    {
     "name": "stdout",
     "output_type": "stream",
     "text": [
      "output: {'ttbar': {'nevts': 80000, '_counter': 53556499}}\n",
      "\n",
      "performance metrics:\n"
     ]
    },
    {
     "ename": "KeyError",
     "evalue": "'data'",
     "output_type": "error",
     "traceback": [
      "\u001b[0;31m---------------------------------------------------------------------------\u001b[0m",
      "\u001b[0;31mKeyError\u001b[0m                                  Traceback (most recent call last)",
      "Cell \u001b[0;32mIn[10], line 5\u001b[0m\n\u001b[1;32m      1\u001b[0m \u001b[38;5;28mprint\u001b[39m(\u001b[38;5;124mf\u001b[39m\u001b[38;5;124m\"\u001b[39m\u001b[38;5;124moutput: \u001b[39m\u001b[38;5;132;01m{\u001b[39;00mout\u001b[38;5;132;01m}\u001b[39;00m\u001b[38;5;124m\"\u001b[39m)\n\u001b[1;32m      3\u001b[0m \u001b[38;5;28mprint\u001b[39m(\u001b[38;5;124m\"\u001b[39m\u001b[38;5;130;01m\\n\u001b[39;00m\u001b[38;5;124mperformance metrics:\u001b[39m\u001b[38;5;124m\"\u001b[39m)\n\u001b[0;32m----> 5\u001b[0m event_rate \u001b[38;5;241m=\u001b[39m \u001b[43mout\u001b[49m\u001b[43m[\u001b[49m\u001b[38;5;124;43m\"\u001b[39;49m\u001b[38;5;124;43mdata\u001b[39;49m\u001b[38;5;124;43m\"\u001b[39;49m\u001b[43m]\u001b[49m[\u001b[38;5;124m\"\u001b[39m\u001b[38;5;124mnevts\u001b[39m\u001b[38;5;124m\"\u001b[39m] \u001b[38;5;241m/\u001b[39m (t1\u001b[38;5;241m-\u001b[39mt0)\n\u001b[1;32m      6\u001b[0m \u001b[38;5;28mprint\u001b[39m(\u001b[38;5;124mf\u001b[39m\u001b[38;5;124m\"\u001b[39m\u001b[38;5;124m - event rate: \u001b[39m\u001b[38;5;132;01m{\u001b[39;00mevent_rate\u001b[38;5;250m \u001b[39m\u001b[38;5;241m/\u001b[39m\u001b[38;5;250m \u001b[39m\u001b[38;5;241m1_000\u001b[39m\u001b[38;5;132;01m:\u001b[39;00m\u001b[38;5;124m.2f\u001b[39m\u001b[38;5;132;01m}\u001b[39;00m\u001b[38;5;124m kHz\u001b[39m\u001b[38;5;124m\"\u001b[39m)\n\u001b[1;32m      8\u001b[0m \u001b[38;5;66;03m# need uproot>=5.3.2 to get these useful performance stats\u001b[39;00m\n",
      "\u001b[0;31mKeyError\u001b[0m: 'data'"
     ]
    }
   ],
   "source": [
    "print(f\"output: {out}\")\n",
    "\n",
    "print(\"\\nperformance metrics:\")\n",
    "\n",
    "event_rate = sum([out[process][\"nevts\"] for process in out.keys()]) / (t1-t0)\n",
    "print(f\" - event rate: {event_rate / 1_000:.2f} kHz\")\n",
    "\n",
    "# need uproot>=5.3.2 to get these useful performance stats\n",
    "read_MB = sum(report['data']['performance_counters']['num_requested_bytes']) / 1_000**2  # this needs fixing\n",
    "rate_Mbs = read_MB / (t1-t0)\n",
    "print(f\" - read {read_MB:.2f} MB in {t1-t0:.2f} s -> {rate_Mbs:.2f} MBps (need to scale by x{200/8/rate_Mbs*1000:.0f} to reach 200 Gbps)\")"
   ]
  },
  {
   "cell_type": "code",
   "execution_count": 21,
   "id": "51fb1ab6-0be4-4b99-942a-c1b53eda5639",
   "metadata": {},
   "outputs": [
    {
     "data": {
      "text/plain": [
       "{'from-uproot-5d2b7fc5329490b7df217602ba7e3e4a': frozenset({'AnalysisElectronsAuxDyn.DFCommonElectronsECIDSResult',\n",
       "            'AnalysisElectronsAuxDyn.ambiguityLink',\n",
       "            'AnalysisElectronsAuxDyn.eta',\n",
       "            'AnalysisElectronsAuxDyn.f1',\n",
       "            'AnalysisElectronsAuxDyn.m',\n",
       "            'AnalysisElectronsAuxDyn.neflowisol20',\n",
       "            'AnalysisElectronsAuxDyn.phi',\n",
       "            'AnalysisElectronsAuxDyn.pt',\n",
       "            'AnalysisElectronsAuxDyn.ptvarcone30_Nonprompt_All_MaxWeightTTVALooseCone_pt500',\n",
       "            'AnalysisElectronsAuxDyn.topoetcone20',\n",
       "            'AnalysisElectronsAuxDyn.topoetcone20_CloseByCorr',\n",
       "            'AnalysisElectronsAuxDyn.topoetcone20ptCorrection',\n",
       "            'AnalysisJetsAuxDyn.ActiveArea4vec_eta',\n",
       "            'AnalysisJetsAuxDyn.ActiveArea4vec_m',\n",
       "            'AnalysisJetsAuxDyn.ActiveArea4vec_phi',\n",
       "            'AnalysisJetsAuxDyn.ActiveArea4vec_pt',\n",
       "            'AnalysisJetsAuxDyn.DFCommonJets_QGTagger_NTracks',\n",
       "            'AnalysisJetsAuxDyn.DFCommonJets_QGTagger_TracksC1',\n",
       "            'AnalysisJetsAuxDyn.DFCommonJets_QGTagger_TracksWidth',\n",
       "            'AnalysisJetsAuxDyn.DFCommonJets_fJvt',\n",
       "            'AnalysisJetsAuxDyn.DetectorEta',\n",
       "            'AnalysisJetsAuxDyn.EMFrac',\n",
       "            'AnalysisJetsAuxDyn.EnergyPerSampling',\n",
       "            'AnalysisJetsAuxDyn.GhostMuonSegmentCount',\n",
       "            'AnalysisJetsAuxDyn.JVFCorr',\n",
       "            'AnalysisJetsAuxDyn.JetConstitScaleMomentum_eta',\n",
       "            'AnalysisJetsAuxDyn.JetConstitScaleMomentum_m',\n",
       "            'AnalysisJetsAuxDyn.JetConstitScaleMomentum_phi',\n",
       "            'AnalysisJetsAuxDyn.JetConstitScaleMomentum_pt',\n",
       "            'AnalysisJetsAuxDyn.NNJvtPass',\n",
       "            'AnalysisJetsAuxDyn.NumTrkPt1000',\n",
       "            'AnalysisJetsAuxDyn.NumTrkPt500',\n",
       "            'AnalysisJetsAuxDyn.PSFrac',\n",
       "            'AnalysisJetsAuxDyn.SumPtChargedPFOPt500',\n",
       "            'AnalysisJetsAuxDyn.SumPtTrkPt500',\n",
       "            'AnalysisJetsAuxDyn.Timing',\n",
       "            'AnalysisJetsAuxDyn.TrackWidthPt1000',\n",
       "            'AnalysisJetsAuxDyn.Width',\n",
       "            'AnalysisJetsAuxDyn.eta',\n",
       "            'AnalysisJetsAuxDyn.m',\n",
       "            'AnalysisJetsAuxDyn.phi',\n",
       "            'AnalysisJetsAuxDyn.pt',\n",
       "            'AnalysisMuonsAuxDyn.CaloLRLikelihood',\n",
       "            'AnalysisMuonsAuxDyn.DFCommonJetDr',\n",
       "            'AnalysisMuonsAuxDyn.EnergyLoss',\n",
       "            'AnalysisMuonsAuxDyn.InnerDetectorPt',\n",
       "            'AnalysisMuonsAuxDyn.MuonSpectrometerPt',\n",
       "            'AnalysisMuonsAuxDyn.clusterLink',\n",
       "            'AnalysisMuonsAuxDyn.combinedTrackParticleLink',\n",
       "            'AnalysisMuonsAuxDyn.eta',\n",
       "            'AnalysisMuonsAuxDyn.extrapolatedMuonSpectrometerTrackParticleLink',\n",
       "            'AnalysisMuonsAuxDyn.inDetTrackParticleLink',\n",
       "            'AnalysisMuonsAuxDyn.momentumBalanceSignificance',\n",
       "            'AnalysisMuonsAuxDyn.msOnlyExtrapolatedMuonSpectrometerTrackParticleLink',\n",
       "            'AnalysisMuonsAuxDyn.muonSegmentLinks',\n",
       "            'AnalysisMuonsAuxDyn.muonSpectrometerTrackParticleLink',\n",
       "            'AnalysisMuonsAuxDyn.neflowisol20',\n",
       "            'AnalysisMuonsAuxDyn.neflowisol20_CloseByCorr',\n",
       "            'AnalysisMuonsAuxDyn.phi',\n",
       "            'AnalysisMuonsAuxDyn.pt',\n",
       "            'AnalysisMuonsAuxDyn.ptcone20_Nonprompt_All_MaxWeightTTVA_pt1000',\n",
       "            'AnalysisMuonsAuxDyn.ptcone20_Nonprompt_All_MaxWeightTTVA_pt500',\n",
       "            'AnalysisMuonsAuxDyn.ptcone30',\n",
       "            'AnalysisMuonsAuxDyn.ptcone40',\n",
       "            'AnalysisMuonsAuxDyn.ptvarcone30',\n",
       "            'AnalysisMuonsAuxDyn.ptvarcone30_Nonprompt_All_MaxWeightTTVA_pt1000',\n",
       "            'AnalysisMuonsAuxDyn.ptvarcone30_Nonprompt_All_MaxWeightTTVA_pt1000_CloseByCorr',\n",
       "            'AnalysisMuonsAuxDyn.ptvarcone30_Nonprompt_All_MaxWeightTTVA_pt500',\n",
       "            'AnalysisMuonsAuxDyn.ptvarcone30_Nonprompt_All_MaxWeightTTVA_pt500_CloseByCorr',\n",
       "            'AnalysisMuonsAuxDyn.ptvarcone40',\n",
       "            'AnalysisMuonsAuxDyn.scatteringCurvatureSignificance',\n",
       "            'AnalysisMuonsAuxDyn.scatteringNeighbourSignificance',\n",
       "            'AnalysisMuonsAuxDyn.segmentDeltaEta',\n",
       "            'AnalysisMuonsAuxDyn.spectrometerFieldIntegral',\n",
       "            'AnalysisMuonsAuxDyn.topoetcone20',\n",
       "            'AnalysisMuonsAuxDyn.topoetcone20_CloseByCorr',\n",
       "            'AnalysisMuonsAuxDyn.topoetcone30',\n",
       "            'AnalysisMuonsAuxDyn.topoetcone40',\n",
       "            'PrimaryVerticesAuxDyn.vertexType',\n",
       "            'PrimaryVerticesAuxDyn.x',\n",
       "            'PrimaryVerticesAuxDyn.y',\n",
       "            'PrimaryVerticesAuxDyn.z'})}"
      ]
     },
     "execution_count": 21,
     "metadata": {},
     "output_type": "execute_result"
    }
   ],
   "source": [
    "# sanity check that the right colums are being touched\n",
    "dak.report_necessary_columns(tasks)"
   ]
  },
  {
   "cell_type": "markdown",
   "id": "5e95cec3-d919-4973-9989-e343f6745199",
   "metadata": {},
   "source": [
    "## sanity check: read those columns without any Dask / coffea, compare footprint\n",
    "\n",
    "this does not scale and uses a single hardcoded file"
   ]
  },
  {
   "cell_type": "code",
   "execution_count": null,
   "id": "49190b2a-0953-48b1-b56a-83b6e8298cfd",
   "metadata": {},
   "outputs": [],
   "source": [
    "branches_touched = list(list(dak.report_necessary_columns(tasks).values())[0])\n",
    "\n",
    "fname = \"/data/alheld/200gbps-atlas/data18_13TeV.periodAllYear.physics_Main.PhysCont.DAOD_PHYSLITE.grp18_v01_p6026/DAOD_PHYSLITE.37021624._000036.pool.root.1\"\n",
    "t = uproot.open({fname: \"CollectionTree\"})\n",
    "\n",
    "initial_size_in_MB = t.file.source.num_requested_bytes/1000**2  # non-zero at the start (some metadata read)\n",
    "\n",
    "t.arrays(branches_touched)\n",
    "\n",
    "new_size_in_MB = t.file.source.num_requested_bytes/1000**2\n",
    "print(initial_size_in_MB, new_size_in_MB)"
   ]
  },
  {
   "cell_type": "markdown",
   "id": "0e4f9b10-ece8-4a8b-bf39-b3994cb78bcb",
   "metadata": {},
   "source": [
    "This should match the numbers reported above through coffea, but it currently does not! This needs to be understood."
   ]
  },
  {
   "cell_type": "markdown",
   "id": "d083e1b1-76b6-40cd-8602-215e652a1ca5",
   "metadata": {},
   "source": [
    "## rest of the notebook: non-Dask / non-coffea local tests for performance comparisons"
   ]
  },
  {
   "cell_type": "code",
   "execution_count": null,
   "id": "5acaa518-16e2-444b-b086-d778fb096163",
   "metadata": {},
   "outputs": [],
   "source": [
    "# time each branch individually, compare to size of the branch, ensure no extreme outliers are present\n",
    "for i in range(len(BRANCH_LIST)):\n",
    "    with uproot.open({fname: treename}, filter_name=filter_name) as f:\n",
    "        initial_metadata_in_MB = f.file.source.num_requested_bytes/1000**2\n",
    "        t0 = time.perf_counter()\n",
    "        f[BRANCH_LIST[i]].array()\n",
    "        t1 = time.perf_counter()\n",
    "        new_size_in_MB = f.file.source.num_requested_bytes/1000**2\n",
    "        time_ms = (t1-t0)*1000\n",
    "        size_MB = (new_size_in_MB-initial_metadata_in_MB)\n",
    "        print(f\"{BRANCH_LIST[i]:<80}: {time_ms:4.0f} ms\\t\\t{size_MB:>5.2f} MB\\t\\t{size_MB / time_ms * 1000:>5.1f} MB/s\")"
   ]
  },
  {
   "cell_type": "code",
   "execution_count": null,
   "id": "55e321f6-3ae6-4af3-a9e3-b7e5e469cffa",
   "metadata": {},
   "outputs": [],
   "source": [
    "file_size = os.path.getsize(fname) / 1000**2  # all sizes in MB\n",
    "\n",
    "time_per_fraction_read = {}\n",
    "for i in range(len(BRANCH_LIST)//12+1):\n",
    "    with uproot.open({fname: treename}, filter_name=filter_name) as f:  # re-open every time for accurate tracking of data read\n",
    "        branches = BRANCH_LIST[0:(i+1)*12]\n",
    "        print(f\"reading {len(branches)} branch(es)\")\n",
    "        initial_metadata_in_MB = f.file.source.num_requested_bytes/1000**2\n",
    "        t0 = time.perf_counter()\n",
    "        f.arrays(branches)\n",
    "        t1 = time.perf_counter()\n",
    "        new_size_in_MB = f.file.source.num_requested_bytes/1000**2\n",
    "        fraction_read = (new_size_in_MB - initial_metadata_in_MB) / file_size\n",
    "        time_per_fraction_read[fraction_read] = t1 - t0\n",
    "        print(f\"  - read {new_size_in_MB - initial_metadata_in_MB:.2f} MB in {t1 - t0:.2f} s\")\n",
    "\n",
    "with uproot.open({fname: treename}) as f:\n",
    "    nevts = f.num_entries"
   ]
  },
  {
   "cell_type": "markdown",
   "id": "27d3a221-7f9e-4a7c-aeb3-571d117398c8",
   "metadata": {},
   "source": [
    "The fraction of the file being depends on the file type and may differ from data, where the derivation of these branches was performed to hit 25%."
   ]
  },
  {
   "cell_type": "code",
   "execution_count": null,
   "id": "ed8b860f-5df8-4fad-b405-8c8d2e7fc871",
   "metadata": {},
   "outputs": [],
   "source": [
    "for k, v in time_per_fraction_read.items():\n",
    "    print(f\"fraction read: {k:.2%} in {v:.2f} s\")"
   ]
  },
  {
   "cell_type": "code",
   "execution_count": null,
   "id": "0f10517f-c2bf-4155-a829-2123a828386e",
   "metadata": {},
   "outputs": [],
   "source": [
    "event_rate_in_kHz = nevts / np.fromiter(time_per_fraction_read.values(), np.float32) / 1_000\n",
    "\n",
    "fig, (ax0, ax1) = plt.subplots(figsize=(11,4), ncols=2)\n",
    "\n",
    "ax0.plot(time_per_fraction_read.keys(), time_per_fraction_read.values(), \"o\")\n",
    "ax0.set_xlabel(\"fraction read\")\n",
    "ax0.set_ylabel(\"time [s]\")\n",
    "ax0.set_xlim([0, ax0.get_xlim()[1]])\n",
    "ax0.set_ylim([0, ax0.get_ylim()[1]])\n",
    "\n",
    "ax1.plot(time_per_fraction_read.keys(), event_rate_in_kHz, \"o\")\n",
    "ax1.set_xlabel(\"fraction read\")\n",
    "ax1.set_ylabel(\"event rate [kHz]\")\n",
    "ax1.set_xlim([0, ax1.get_xlim()[1]])\n",
    "ax1.set_ylim([0, ax1.get_ylim()[1]])\n",
    "\n",
    "fig.tight_layout()\n",
    "fig.savefig(figures_dir / \"file_read_time.png\", dpi=300)"
   ]
  },
  {
   "cell_type": "code",
   "execution_count": null,
   "id": "ba6889dc-52a3-40d1-8e65-f8317437035f",
   "metadata": {},
   "outputs": [],
   "source": [
    "# pure \"metadata\" (?) part, would be read on every open call\n",
    "with uproot.open({fname: treename}) as f:\n",
    "    print(f\"{f.file.source.num_requested_bytes/1000**2:.2f} MB\")"
   ]
  },
  {
   "cell_type": "code",
   "execution_count": null,
   "id": "3d41622a-a7ba-41d6-a818-d1147e1f9213",
   "metadata": {},
   "outputs": [],
   "source": [
    "# fraction read * file size (in MB) * 8 (to Mb) / time (in s)\n",
    "io_in_Mbps = np.fromiter(time_per_fraction_read.keys(), np.float32) * file_size * 8 / np.fromiter(time_per_fraction_read.values(), np.float32)\n",
    "\n",
    "fig, ax = plt.subplots()\n",
    "\n",
    "ax.plot(time_per_fraction_read.keys(), io_in_Mbps, \"o\")\n",
    "ax.set_xlabel(\"fraction read\")\n",
    "ax.set_ylabel(\"rate [Mbps]\")\n",
    "ax.set_xlim([0, ax.get_xlim()[1]])\n",
    "ax.set_ylim([0, ax.get_ylim()[1]])\n",
    "\n",
    "fig.savefig(figures_dir / \"file_read_rate.png\", dpi=300)"
   ]
  }
 ],
 "metadata": {
  "jupytext": {
   "notebook_metadata_filter": "all,-jupytext.text_representation.jupytext_version"
  },
  "kernelspec": {
   "display_name": "Python 3 (ipykernel)",
   "language": "python",
   "name": "python3"
  },
  "language_info": {
   "codemirror_mode": {
    "name": "ipython",
    "version": 3
   },
   "file_extension": ".py",
   "mimetype": "text/x-python",
   "name": "python",
   "nbconvert_exporter": "python",
   "pygments_lexer": "ipython3",
   "version": "3.9.12"
  }
 },
 "nbformat": 4,
 "nbformat_minor": 5
}
