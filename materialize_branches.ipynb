{
 "cells": [
  {
   "cell_type": "code",
   "execution_count": 1,
   "id": "180f4d32-e5c4-42f9-84e8-430034493a55",
   "metadata": {
    "tags": []
   },
   "outputs": [
    {
     "name": "stdout",
     "output_type": "stream",
     "text": [
      "awkward: 2.6.2\n",
      "dask-awkward: 2024.3.0\n",
      "uproot: 5.3.2\n",
      "hist: 2.7.2\n",
      "coffea: 2024.3.0\n"
     ]
    }
   ],
   "source": [
    "import os\n",
    "from pathlib import Path\n",
    "\n",
    "import awkward as ak\n",
    "import dask\n",
    "import dask_awkward as dak\n",
    "import hist.dask\n",
    "import coffea\n",
    "import numpy as np\n",
    "import uproot\n",
    "from dask.distributed import Client\n",
    "import matplotlib.pyplot as plt\n",
    "import matplotlib as mpl\n",
    "mpl.style.use(\"ggplot\")\n",
    "\n",
    "from coffea.nanoevents import NanoEventsFactory, PHYSLITESchema\n",
    "from coffea import dataset_tools\n",
    "\n",
    "import time\n",
    "import warnings\n",
    "\n",
    "warnings.filterwarnings(\"ignore\")\n",
    "\n",
    "from dask.distributed import LocalCluster, Client, progress, performance_report\n",
    "\n",
    "# local: single thread, single worker\n",
    "cluster = LocalCluster(n_workers=1, processes=False, threads_per_worker=1)\n",
    "client = Client(cluster)\n",
    "\n",
    "# for UChicago\n",
    "# client = Client(\"tcp://dask-alheld-a76c9434-b.af-jupyter:8786\")\n",
    "\n",
    "print(f\"awkward: {ak.__version__}\")\n",
    "print(f\"dask-awkward: {dak.__version__}\")\n",
    "print(f\"uproot: {uproot.__version__}\")\n",
    "print(f\"hist: {hist.__version__}\")\n",
    "print(f\"coffea: {coffea.__version__}\")"
   ]
  },
  {
   "cell_type": "markdown",
   "id": "d7dc48bd-585e-4c95-848b-3a59dc920f51",
   "metadata": {},
   "source": [
    "### interactive coffea for debugging"
   ]
  },
  {
   "cell_type": "code",
   "execution_count": 2,
   "id": "d68e654e-0987-4bc6-865d-273c983e932b",
   "metadata": {},
   "outputs": [],
   "source": [
    "fname = \"/data/alheld/200gbps-atlas/data18_13TeV.periodAllYear.physics_Main.PhysCont.DAOD_PHYSLITE.grp18_v01_p6026/DAOD_PHYSLITE.37021624._000036.pool.root.1\"\n",
    "treename = \"CollectionTree\"\n",
    "events = NanoEventsFactory.from_root({fname: treename}, schemaclass=PHYSLITESchema).events()"
   ]
  },
  {
   "cell_type": "markdown",
   "id": "208ff780-6dcb-4448-89de-0f1ac6a1b0a0",
   "metadata": {},
   "source": [
    "### distributed coffea"
   ]
  },
  {
   "cell_type": "code",
   "execution_count": 3,
   "id": "0a38efe4-8024-422c-ba42-12bd3a3b44cd",
   "metadata": {
    "tags": []
   },
   "outputs": [],
   "source": [
    "def materialize_branches(events):\n",
    "    # track number of events\n",
    "    num_events = ak.num(events, axis=0)\n",
    "\n",
    "    # this will read around 25% of data files\n",
    "    # materialize branches, just derive integers from them that will be aggregated to avoid memory issues\n",
    "    _counter = 0\n",
    "    _counter += ak.count_nonzero(events.Jets.pt)\n",
    "    _counter += ak.count_nonzero(events.Jets.eta)\n",
    "    _counter += ak.count_nonzero(events.Jets.phi)\n",
    "    _counter += ak.count_nonzero(events.Jets.m)\n",
    "    _counter += ak.count_nonzero(events.Electrons.pt)\n",
    "    _counter += ak.count_nonzero(events.Electrons.eta)\n",
    "    _counter += ak.count_nonzero(events.Electrons.phi)\n",
    "    _counter += ak.count_nonzero(events.Electrons.m)\n",
    "    _counter += ak.count_nonzero(events.Muons.pt)\n",
    "    _counter += ak.count_nonzero(events.Muons.eta)\n",
    "    _counter += ak.count_nonzero(events.Muons.phi)\n",
    "    _counter += ak.count_nonzero(events.Jets.EnergyPerSampling)\n",
    "    _counter += ak.count_nonzero(events.Jets.SumPtTrkPt500)\n",
    "    _counter += ak.count_nonzero(events.Jets.TrackWidthPt1000)\n",
    "    _counter += ak.count_nonzero(events.PrimaryVertices.z)\n",
    "    _counter += ak.count_nonzero(events.PrimaryVertices.x)\n",
    "    _counter += ak.count_nonzero(events.PrimaryVertices.y)\n",
    "    _counter += ak.count_nonzero(events.Jets.NumTrkPt500)\n",
    "    _counter += ak.count_nonzero(events.Jets.NumTrkPt1000)\n",
    "    _counter += ak.count_nonzero(events.Jets.SumPtChargedPFOPt500)\n",
    "    _counter += ak.count_nonzero(events.Jets.Timing)\n",
    "    _counter += ak.count_nonzero(events.Jets.JetConstitScaleMomentum_eta)\n",
    "    _counter += ak.count_nonzero(events.Jets.ActiveArea4vec_eta)\n",
    "    _counter += ak.count_nonzero(events.Jets.DetectorEta)\n",
    "    _counter += ak.count_nonzero(events.Jets.JetConstitScaleMomentum_phi)\n",
    "    _counter += ak.count_nonzero(events.Jets.ActiveArea4vec_phi)\n",
    "    _counter += ak.count_nonzero(events.Jets.JetConstitScaleMomentum_m)\n",
    "    _counter += ak.count_nonzero(events.Jets.JetConstitScaleMomentum_pt)\n",
    "    _counter += ak.count_nonzero(events.Jets.EMFrac)\n",
    "    _counter += ak.count_nonzero(events.Jets.Width)\n",
    "    _counter += ak.count_nonzero(events.Jets.ActiveArea4vec_m)\n",
    "    _counter += ak.count_nonzero(events.Jets.ActiveArea4vec_pt)\n",
    "    _counter += ak.count_nonzero(events.Jets.DFCommonJets_QGTagger_TracksWidth)\n",
    "    _counter += ak.count_nonzero(events.Jets.PSFrac)\n",
    "    _counter += ak.count_nonzero(events.Jets.JVFCorr)\n",
    "    _counter += ak.count_nonzero(events.Jets.DFCommonJets_QGTagger_TracksC1)\n",
    "    _counter += ak.count_nonzero(events.Jets.DFCommonJets_fJvt)\n",
    "    _counter += ak.count_nonzero(events.Jets.DFCommonJets_QGTagger_NTracks)\n",
    "    _counter += ak.count_nonzero(events.Jets.GhostMuonSegmentCount)\n",
    "    _counter += ak.count_nonzero(events.Muons.muonSegmentLinks['m_persIndex'])\n",
    "    _counter += ak.count_nonzero(events.Muons.msOnlyExtrapolatedMuonSpectrometerTrackParticleLink['m_persIndex'])\n",
    "    _counter += ak.count_nonzero(events.Muons.extrapolatedMuonSpectrometerTrackParticleLink['m_persIndex'])\n",
    "    _counter += ak.count_nonzero(events.Muons.inDetTrackParticleLink['m_persIndex'])\n",
    "    _counter += ak.count_nonzero(events.Muons.muonSpectrometerTrackParticleLink['m_persIndex'])\n",
    "    _counter += ak.count_nonzero(events.Muons.momentumBalanceSignificance)\n",
    "    _counter += ak.count_nonzero(events.Muons.topoetcone20_CloseByCorr)\n",
    "    _counter += ak.count_nonzero(events.Muons.scatteringCurvatureSignificance)\n",
    "    _counter += ak.count_nonzero(events.Muons.scatteringNeighbourSignificance)\n",
    "    _counter += ak.count_nonzero(events.Muons.neflowisol20_CloseByCorr)\n",
    "    _counter += ak.count_nonzero(events.Muons.topoetcone20)\n",
    "    _counter += ak.count_nonzero(events.Muons.topoetcone30)\n",
    "    _counter += ak.count_nonzero(events.Muons.topoetcone40)\n",
    "    _counter += ak.count_nonzero(events.Muons.neflowisol20)\n",
    "    _counter += ak.count_nonzero(events.Muons.segmentDeltaEta)\n",
    "    _counter += ak.count_nonzero(events.Muons.DFCommonJetDr)\n",
    "    _counter += ak.count_nonzero(events.Muons.combinedTrackParticleLink['m_persIndex'])\n",
    "    _counter += ak.count_nonzero(events.Muons.InnerDetectorPt)\n",
    "    _counter += ak.count_nonzero(events.Muons.MuonSpectrometerPt)\n",
    "    _counter += ak.count_nonzero(events.Muons.clusterLink['m_persIndex'])\n",
    "    _counter += ak.count_nonzero(events.Muons.spectrometerFieldIntegral)\n",
    "    _counter += ak.count_nonzero(events.Electrons.ambiguityLink['m_persIndex'])\n",
    "    _counter += ak.count_nonzero(events.Muons.EnergyLoss)\n",
    "    _counter += ak.count_nonzero(events.Jets.NNJvtPass)\n",
    "    _counter += ak.count_nonzero(events.Electrons.topoetcone20_CloseByCorr)\n",
    "    _counter += ak.count_nonzero(events.Electrons.topoetcone20ptCorrection)\n",
    "    _counter += ak.count_nonzero(events.Electrons.topoetcone20)\n",
    "    _counter += ak.count_nonzero(events.Muons.ptvarcone30_Nonprompt_All_MaxWeightTTVA_pt500_CloseByCorr)\n",
    "    _counter += ak.count_nonzero(events.Electrons.DFCommonElectronsECIDSResult)\n",
    "    _counter += ak.count_nonzero(events.Electrons.neflowisol20)\n",
    "    _counter += ak.count_nonzero(events.Muons.ptvarcone30_Nonprompt_All_MaxWeightTTVA_pt500)\n",
    "    _counter += ak.count_nonzero(events.Muons.ptcone40)\n",
    "    _counter += ak.count_nonzero(events.Muons.ptvarcone30_Nonprompt_All_MaxWeightTTVA_pt1000_CloseByCorr)\n",
    "    _counter += ak.count_nonzero(events.Muons.ptvarcone30_Nonprompt_All_MaxWeightTTVA_pt1000)\n",
    "    _counter += ak.count_nonzero(events.Muons.ptvarcone40)\n",
    "    _counter += ak.count_nonzero(events.Electrons.f1)\n",
    "    _counter += ak.count_nonzero(events.Muons.ptcone20_Nonprompt_All_MaxWeightTTVA_pt500)\n",
    "    _counter += ak.count_nonzero(events.PrimaryVertices.vertexType)\n",
    "    _counter += ak.count_nonzero(events.Muons.ptvarcone30)\n",
    "    _counter += ak.count_nonzero(events.Muons.ptcone30)\n",
    "    _counter += ak.count_nonzero(events.Muons.ptcone20_Nonprompt_All_MaxWeightTTVA_pt1000)\n",
    "    _counter += ak.count_nonzero(events.Electrons.ptvarcone30_Nonprompt_All_MaxWeightTTVALooseCone_pt500)\n",
    "    _counter += ak.count_nonzero(events.Muons.CaloLRLikelihood)\n",
    "\n",
    "    return {\"nevts\": num_events, \"_counter\": _counter}"
   ]
  },
  {
   "cell_type": "markdown",
   "id": "f7f24e12-3fd8-481c-8318-7f9277f72c50",
   "metadata": {},
   "source": [
    "just run over a local data file here as an example"
   ]
  },
  {
   "cell_type": "code",
   "execution_count": 4,
   "id": "684f1240-a754-4dd1-b861-1bfac65ec288",
   "metadata": {
    "tags": []
   },
   "outputs": [
    {
     "data": {
      "text/plain": [
       "{'data': {'files': {'/data/alheld/200gbps-atlas/data18_13TeV.periodAllYear.physics_Main.PhysCont.DAOD_PHYSLITE.grp18_v01_p6026/DAOD_PHYSLITE.37021624._000036.pool.root.1': 'CollectionTree'}}}"
      ]
     },
     "execution_count": 4,
     "metadata": {},
     "output_type": "execute_result"
    }
   ],
   "source": [
    "fileset = {\"data\": {\"files\": {fname: treename}}}\n",
    "fileset"
   ]
  },
  {
   "cell_type": "code",
   "execution_count": 5,
   "id": "ed1ecc41-0a72-44ec-a8b8-654286a02196",
   "metadata": {
    "tags": []
   },
   "outputs": [
    {
     "name": "stdout",
     "output_type": "stream",
     "text": [
      "CPU times: user 1.17 s, sys: 25.1 ms, total: 1.2 s\n",
      "Wall time: 1.18 s\n"
     ]
    }
   ],
   "source": [
    "%%time\n",
    "# pre-process\n",
    "samples, _ = dataset_tools.preprocess(fileset, step_size=1_000_000)"
   ]
  },
  {
   "cell_type": "code",
   "execution_count": 6,
   "id": "dca7b2ea-ae18-41ac-a4a8-cf257621dd10",
   "metadata": {},
   "outputs": [],
   "source": [
    "BRANCH_LIST = [\n",
    "    \"AnalysisJetsAuxDyn.pt\",\n",
    "    \"AnalysisJetsAuxDyn.eta\",\n",
    "    \"AnalysisJetsAuxDyn.phi\",\n",
    "    \"AnalysisJetsAuxDyn.m\",\n",
    "    \"AnalysisElectronsAuxDyn.pt\",\n",
    "    \"AnalysisElectronsAuxDyn.eta\",\n",
    "    \"AnalysisElectronsAuxDyn.phi\",\n",
    "    \"AnalysisElectronsAuxDyn.m\",\n",
    "    \"AnalysisMuonsAuxDyn.pt\",\n",
    "    \"AnalysisMuonsAuxDyn.eta\",\n",
    "    \"AnalysisMuonsAuxDyn.phi\",\n",
    "    \"AnalysisJetsAuxDyn.EnergyPerSampling\",\n",
    "    \"AnalysisJetsAuxDyn.SumPtTrkPt500\",\n",
    "    \"AnalysisJetsAuxDyn.TrackWidthPt1000\",\n",
    "    \"PrimaryVerticesAuxDyn.z\",\n",
    "    \"PrimaryVerticesAuxDyn.x\",\n",
    "    \"PrimaryVerticesAuxDyn.y\",\n",
    "    \"AnalysisJetsAuxDyn.NumTrkPt500\",\n",
    "    \"AnalysisJetsAuxDyn.NumTrkPt1000\",\n",
    "    \"AnalysisJetsAuxDyn.SumPtChargedPFOPt500\",\n",
    "    \"AnalysisJetsAuxDyn.Timing\",\n",
    "    \"AnalysisJetsAuxDyn.JetConstitScaleMomentum_eta\",\n",
    "    \"AnalysisJetsAuxDyn.ActiveArea4vec_eta\",\n",
    "    \"AnalysisJetsAuxDyn.DetectorEta\",\n",
    "    \"AnalysisJetsAuxDyn.JetConstitScaleMomentum_phi\",\n",
    "    \"AnalysisJetsAuxDyn.ActiveArea4vec_phi\",\n",
    "    \"AnalysisJetsAuxDyn.JetConstitScaleMomentum_m\",\n",
    "    \"AnalysisJetsAuxDyn.JetConstitScaleMomentum_pt\",\n",
    "    \"AnalysisJetsAuxDyn.EMFrac\",\n",
    "    \"AnalysisJetsAuxDyn.Width\",\n",
    "    \"AnalysisJetsAuxDyn.ActiveArea4vec_m\",\n",
    "    \"AnalysisJetsAuxDyn.ActiveArea4vec_pt\",\n",
    "    \"AnalysisJetsAuxDyn.DFCommonJets_QGTagger_TracksWidth\",\n",
    "    \"AnalysisJetsAuxDyn.PSFrac\",\n",
    "    \"AnalysisJetsAuxDyn.JVFCorr\",\n",
    "    \"AnalysisJetsAuxDyn.DFCommonJets_QGTagger_TracksC1\",\n",
    "    \"AnalysisJetsAuxDyn.DFCommonJets_fJvt\",\n",
    "    \"AnalysisJetsAuxDyn.DFCommonJets_QGTagger_NTracks\",\n",
    "    \"AnalysisJetsAuxDyn.GhostMuonSegmentCount\",\n",
    "    \"AnalysisMuonsAuxDyn.muonSegmentLinks\",\n",
    "    \"AnalysisMuonsAuxDyn.msOnlyExtrapolatedMuonSpectrometerTrackParticleLink\",\n",
    "    \"AnalysisMuonsAuxDyn.extrapolatedMuonSpectrometerTrackParticleLink\",\n",
    "    \"AnalysisMuonsAuxDyn.inDetTrackParticleLink\",\n",
    "    \"AnalysisMuonsAuxDyn.muonSpectrometerTrackParticleLink\",\n",
    "    \"AnalysisMuonsAuxDyn.momentumBalanceSignificance\",\n",
    "    \"AnalysisMuonsAuxDyn.topoetcone20_CloseByCorr\",\n",
    "    \"AnalysisMuonsAuxDyn.scatteringCurvatureSignificance\",\n",
    "    \"AnalysisMuonsAuxDyn.scatteringNeighbourSignificance\",\n",
    "    \"AnalysisMuonsAuxDyn.neflowisol20_CloseByCorr\",\n",
    "    \"AnalysisMuonsAuxDyn.topoetcone20\",\n",
    "    \"AnalysisMuonsAuxDyn.topoetcone30\",\n",
    "    \"AnalysisMuonsAuxDyn.topoetcone40\",\n",
    "    \"AnalysisMuonsAuxDyn.neflowisol20\",\n",
    "    \"AnalysisMuonsAuxDyn.segmentDeltaEta\",\n",
    "    \"AnalysisMuonsAuxDyn.DFCommonJetDr\",\n",
    "    \"AnalysisMuonsAuxDyn.combinedTrackParticleLink\",\n",
    "    \"AnalysisMuonsAuxDyn.InnerDetectorPt\",\n",
    "    \"AnalysisMuonsAuxDyn.MuonSpectrometerPt\",\n",
    "    \"AnalysisMuonsAuxDyn.clusterLink\",\n",
    "    \"AnalysisMuonsAuxDyn.spectrometerFieldIntegral\",\n",
    "    \"AnalysisElectronsAuxDyn.ambiguityLink\",\n",
    "    \"AnalysisMuonsAuxDyn.EnergyLoss\",\n",
    "    \"AnalysisJetsAuxDyn.NNJvtPass\",\n",
    "    \"AnalysisElectronsAuxDyn.topoetcone20_CloseByCorr\",\n",
    "    \"AnalysisElectronsAuxDyn.topoetcone20ptCorrection\",\n",
    "    \"AnalysisElectronsAuxDyn.topoetcone20\",\n",
    "    \"AnalysisMuonsAuxDyn.ptvarcone30_Nonprompt_All_MaxWeightTTVA_pt500_CloseByCorr\",\n",
    "    \"AnalysisElectronsAuxDyn.DFCommonElectronsECIDSResult\",\n",
    "    \"AnalysisElectronsAuxDyn.neflowisol20\",\n",
    "    \"AnalysisMuonsAuxDyn.ptvarcone30_Nonprompt_All_MaxWeightTTVA_pt500\",\n",
    "    \"AnalysisMuonsAuxDyn.ptcone40\",\n",
    "    \"AnalysisMuonsAuxDyn.ptvarcone30_Nonprompt_All_MaxWeightTTVA_pt1000_CloseByCorr\",\n",
    "    \"AnalysisMuonsAuxDyn.ptvarcone30_Nonprompt_All_MaxWeightTTVA_pt1000\",\n",
    "    \"AnalysisMuonsAuxDyn.ptvarcone40\",\n",
    "    \"AnalysisElectronsAuxDyn.f1\",\n",
    "    \"AnalysisMuonsAuxDyn.ptcone20_Nonprompt_All_MaxWeightTTVA_pt500\",\n",
    "    \"PrimaryVerticesAuxDyn.vertexType\",\n",
    "    \"AnalysisMuonsAuxDyn.ptvarcone30\",\n",
    "    \"AnalysisMuonsAuxDyn.ptcone30\",\n",
    "    \"AnalysisMuonsAuxDyn.ptcone20_Nonprompt_All_MaxWeightTTVA_pt1000\",\n",
    "    \"AnalysisElectronsAuxDyn.ptvarcone30_Nonprompt_All_MaxWeightTTVALooseCone_pt500\",\n",
    "    \"AnalysisMuonsAuxDyn.CaloLRLikelihood\"\n",
    "]\n",
    "\n",
    "filter_name = lambda name: name in BRANCH_LIST"
   ]
  },
  {
   "cell_type": "code",
   "execution_count": 7,
   "id": "15835a57-1182-4efb-8306-07f36af7a5b2",
   "metadata": {
    "tags": []
   },
   "outputs": [
    {
     "name": "stdout",
     "output_type": "stream",
     "text": [
      "CPU times: user 2.15 s, sys: 34.3 ms, total: 2.18 s\n",
      "Wall time: 2.16 s\n"
     ]
    }
   ],
   "source": [
    "%%time\n",
    "# create the task graph\n",
    "# filter_name seems to not do anything here in terms of performance\n",
    "tasks = dataset_tools.apply_to_fileset(materialize_branches,\n",
    "                                       samples,\n",
    "                                       uproot_options={\"allow_read_errors_with_report\": True, \"filter_name\": filter_name},\n",
    "                                       schemaclass=PHYSLITESchema)"
   ]
  },
  {
   "cell_type": "markdown",
   "id": "e1953d6d",
   "metadata": {},
   "source": [
    "execute task graph"
   ]
  },
  {
   "cell_type": "code",
   "execution_count": 8,
   "id": "6b6dfb17-6806-46c8-aa59-cd475e40cf64",
   "metadata": {
    "tags": []
   },
   "outputs": [
    {
     "name": "stdout",
     "output_type": "stream",
     "text": [
      "total time spent in uproot reading data: 65.92 s\n",
      "wall time: 69.24s\n",
      "CPU times: user 30.3 s, sys: 40.3 s, total: 1min 10s\n",
      "Wall time: 1min 9s\n"
     ]
    }
   ],
   "source": [
    "%%time\n",
    "# execute\n",
    "t0 = time.perf_counter()\n",
    "with performance_report(filename=\"dask-report.html\"):\n",
    "    ((out, report),) = dask.compute(tasks)  # feels strange that this is a tuple-of-tuple\n",
    "t1 = time.perf_counter()\n",
    "\n",
    "print(f\"total time spent in uproot reading data: {ak.sum([v['duration'] for v in report.values()]):.2f} s\")\n",
    "print(f\"wall time: {t1-t0:.2f}s\")"
   ]
  },
  {
   "cell_type": "code",
   "execution_count": 9,
   "id": "bb47e9e5-57ea-4385-b8f8-b2a22ded030e",
   "metadata": {},
   "outputs": [
    {
     "name": "stdout",
     "output_type": "stream",
     "text": [
      "output: {'data': {'nevts': 127482, '_counter': 97995532}}\n",
      "\n",
      "performance metrics:\n",
      " - event rate: 1.84 kHz\n",
      " - read 409.56 MB in 69.24 s -> 5.92 MBps (need to scale by x4226 to reach 200 Gbps)\n"
     ]
    }
   ],
   "source": [
    "print(f\"output: {out}\")\n",
    "\n",
    "print(\"\\nperformance metrics:\")\n",
    "\n",
    "event_rate = out[\"data\"][\"nevts\"] / (t1-t0)\n",
    "print(f\" - event rate: {event_rate / 1_000:.2f} kHz\")\n",
    "\n",
    "# need uproot>=5.3.2 to get these useful performance stats\n",
    "read_MB = sum(report['data']['performance_counters']['num_requested_bytes']) / 1_000**2\n",
    "rate_Mbs = read_MB / (t1-t0)\n",
    "print(f\" - read {read_MB:.2f} MB in {t1-t0:.2f} s -> {rate_Mbs:.2f} MBps (need to scale by x{200/8/rate_Mbs*1000:.0f} to reach 200 Gbps)\")"
   ]
  },
  {
   "cell_type": "code",
   "execution_count": 10,
   "id": "51fb1ab6-0be4-4b99-942a-c1b53eda5639",
   "metadata": {},
   "outputs": [
    {
     "data": {
      "text/plain": [
       "{'from-uproot-a425e4500d963f22bf8285371d571b32': frozenset({'AnalysisElectronsAuxDyn.DFCommonElectronsECIDSResult',\n",
       "            'AnalysisElectronsAuxDyn.ambiguityLink',\n",
       "            'AnalysisElectronsAuxDyn.eta',\n",
       "            'AnalysisElectronsAuxDyn.f1',\n",
       "            'AnalysisElectronsAuxDyn.m',\n",
       "            'AnalysisElectronsAuxDyn.neflowisol20',\n",
       "            'AnalysisElectronsAuxDyn.phi',\n",
       "            'AnalysisElectronsAuxDyn.pt',\n",
       "            'AnalysisElectronsAuxDyn.ptvarcone30_Nonprompt_All_MaxWeightTTVALooseCone_pt500',\n",
       "            'AnalysisElectronsAuxDyn.topoetcone20',\n",
       "            'AnalysisElectronsAuxDyn.topoetcone20_CloseByCorr',\n",
       "            'AnalysisElectronsAuxDyn.topoetcone20ptCorrection',\n",
       "            'AnalysisJetsAuxDyn.ActiveArea4vec_eta',\n",
       "            'AnalysisJetsAuxDyn.ActiveArea4vec_m',\n",
       "            'AnalysisJetsAuxDyn.ActiveArea4vec_phi',\n",
       "            'AnalysisJetsAuxDyn.ActiveArea4vec_pt',\n",
       "            'AnalysisJetsAuxDyn.DFCommonJets_QGTagger_NTracks',\n",
       "            'AnalysisJetsAuxDyn.DFCommonJets_QGTagger_TracksC1',\n",
       "            'AnalysisJetsAuxDyn.DFCommonJets_QGTagger_TracksWidth',\n",
       "            'AnalysisJetsAuxDyn.DFCommonJets_fJvt',\n",
       "            'AnalysisJetsAuxDyn.DetectorEta',\n",
       "            'AnalysisJetsAuxDyn.EMFrac',\n",
       "            'AnalysisJetsAuxDyn.EnergyPerSampling',\n",
       "            'AnalysisJetsAuxDyn.GhostMuonSegmentCount',\n",
       "            'AnalysisJetsAuxDyn.JVFCorr',\n",
       "            'AnalysisJetsAuxDyn.JetConstitScaleMomentum_eta',\n",
       "            'AnalysisJetsAuxDyn.JetConstitScaleMomentum_m',\n",
       "            'AnalysisJetsAuxDyn.JetConstitScaleMomentum_phi',\n",
       "            'AnalysisJetsAuxDyn.JetConstitScaleMomentum_pt',\n",
       "            'AnalysisJetsAuxDyn.NNJvtPass',\n",
       "            'AnalysisJetsAuxDyn.NumTrkPt1000',\n",
       "            'AnalysisJetsAuxDyn.NumTrkPt500',\n",
       "            'AnalysisJetsAuxDyn.PSFrac',\n",
       "            'AnalysisJetsAuxDyn.SumPtChargedPFOPt500',\n",
       "            'AnalysisJetsAuxDyn.SumPtTrkPt500',\n",
       "            'AnalysisJetsAuxDyn.Timing',\n",
       "            'AnalysisJetsAuxDyn.TrackWidthPt1000',\n",
       "            'AnalysisJetsAuxDyn.Width',\n",
       "            'AnalysisJetsAuxDyn.eta',\n",
       "            'AnalysisJetsAuxDyn.m',\n",
       "            'AnalysisJetsAuxDyn.phi',\n",
       "            'AnalysisJetsAuxDyn.pt',\n",
       "            'AnalysisMuonsAuxDyn.CaloLRLikelihood',\n",
       "            'AnalysisMuonsAuxDyn.DFCommonJetDr',\n",
       "            'AnalysisMuonsAuxDyn.EnergyLoss',\n",
       "            'AnalysisMuonsAuxDyn.InnerDetectorPt',\n",
       "            'AnalysisMuonsAuxDyn.MuonSpectrometerPt',\n",
       "            'AnalysisMuonsAuxDyn.clusterLink',\n",
       "            'AnalysisMuonsAuxDyn.combinedTrackParticleLink',\n",
       "            'AnalysisMuonsAuxDyn.eta',\n",
       "            'AnalysisMuonsAuxDyn.extrapolatedMuonSpectrometerTrackParticleLink',\n",
       "            'AnalysisMuonsAuxDyn.inDetTrackParticleLink',\n",
       "            'AnalysisMuonsAuxDyn.momentumBalanceSignificance',\n",
       "            'AnalysisMuonsAuxDyn.msOnlyExtrapolatedMuonSpectrometerTrackParticleLink',\n",
       "            'AnalysisMuonsAuxDyn.muonSegmentLinks',\n",
       "            'AnalysisMuonsAuxDyn.muonSpectrometerTrackParticleLink',\n",
       "            'AnalysisMuonsAuxDyn.neflowisol20',\n",
       "            'AnalysisMuonsAuxDyn.neflowisol20_CloseByCorr',\n",
       "            'AnalysisMuonsAuxDyn.phi',\n",
       "            'AnalysisMuonsAuxDyn.pt',\n",
       "            'AnalysisMuonsAuxDyn.ptcone20_Nonprompt_All_MaxWeightTTVA_pt1000',\n",
       "            'AnalysisMuonsAuxDyn.ptcone20_Nonprompt_All_MaxWeightTTVA_pt500',\n",
       "            'AnalysisMuonsAuxDyn.ptcone30',\n",
       "            'AnalysisMuonsAuxDyn.ptcone40',\n",
       "            'AnalysisMuonsAuxDyn.ptvarcone30',\n",
       "            'AnalysisMuonsAuxDyn.ptvarcone30_Nonprompt_All_MaxWeightTTVA_pt1000',\n",
       "            'AnalysisMuonsAuxDyn.ptvarcone30_Nonprompt_All_MaxWeightTTVA_pt1000_CloseByCorr',\n",
       "            'AnalysisMuonsAuxDyn.ptvarcone30_Nonprompt_All_MaxWeightTTVA_pt500',\n",
       "            'AnalysisMuonsAuxDyn.ptvarcone30_Nonprompt_All_MaxWeightTTVA_pt500_CloseByCorr',\n",
       "            'AnalysisMuonsAuxDyn.ptvarcone40',\n",
       "            'AnalysisMuonsAuxDyn.scatteringCurvatureSignificance',\n",
       "            'AnalysisMuonsAuxDyn.scatteringNeighbourSignificance',\n",
       "            'AnalysisMuonsAuxDyn.segmentDeltaEta',\n",
       "            'AnalysisMuonsAuxDyn.spectrometerFieldIntegral',\n",
       "            'AnalysisMuonsAuxDyn.topoetcone20',\n",
       "            'AnalysisMuonsAuxDyn.topoetcone20_CloseByCorr',\n",
       "            'AnalysisMuonsAuxDyn.topoetcone30',\n",
       "            'AnalysisMuonsAuxDyn.topoetcone40',\n",
       "            'PrimaryVerticesAuxDyn.vertexType',\n",
       "            'PrimaryVerticesAuxDyn.x',\n",
       "            'PrimaryVerticesAuxDyn.y',\n",
       "            'PrimaryVerticesAuxDyn.z'})}"
      ]
     },
     "execution_count": 10,
     "metadata": {},
     "output_type": "execute_result"
    }
   ],
   "source": [
    "# sanity check that the right colums are being touched\n",
    "dak.report_necessary_columns(tasks)"
   ]
  },
  {
   "cell_type": "markdown",
   "id": "5e95cec3-d919-4973-9989-e343f6745199",
   "metadata": {},
   "source": [
    "## sanity check: read those columns without any Dask / coffea, compare footprint"
   ]
  },
  {
   "cell_type": "code",
   "execution_count": 11,
   "id": "49190b2a-0953-48b1-b56a-83b6e8298cfd",
   "metadata": {},
   "outputs": [
    {
     "name": "stdout",
     "output_type": "stream",
     "text": [
      "2.260006 283.192324\n"
     ]
    }
   ],
   "source": [
    "branches_touched = list(list(dak.report_necessary_columns(tasks).values())[0])\n",
    "\n",
    "t = uproot.open({fname: \"CollectionTree\"})\n",
    "\n",
    "initial_size_in_MB = t.file.source.num_requested_bytes/1000**2  # non-zero at the start (some metadata read)\n",
    "\n",
    "t.arrays(branches_touched)\n",
    "\n",
    "new_size_in_MB = t.file.source.num_requested_bytes/1000**2\n",
    "print(initial_size_in_MB, new_size_in_MB)"
   ]
  },
  {
   "cell_type": "markdown",
   "id": "0e4f9b10-ece8-4a8b-bf39-b3994cb78bcb",
   "metadata": {},
   "source": [
    "This should match the numbers reported above through coffea, but it currently does not! This needs to be understood."
   ]
  },
  {
   "cell_type": "markdown",
   "id": "d083e1b1-76b6-40cd-8602-215e652a1ca5",
   "metadata": {},
   "source": [
    "## rest of the notebook: non-Dask / non-coffea local tests for performance comparisons"
   ]
  },
  {
   "cell_type": "code",
   "execution_count": 12,
   "id": "5acaa518-16e2-444b-b086-d778fb096163",
   "metadata": {},
   "outputs": [
    {
     "name": "stdout",
     "output_type": "stream",
     "text": [
      "AnalysisJetsAuxDyn.pt                                                           :  249 ms\t\t 5.03 MB\t\t 20.2 MB/s\n",
      "AnalysisJetsAuxDyn.eta                                                          :  251 ms\t\t 5.25 MB\t\t 20.9 MB/s\n",
      "AnalysisJetsAuxDyn.phi                                                          :  248 ms\t\t 5.24 MB\t\t 21.1 MB/s\n",
      "AnalysisJetsAuxDyn.m                                                            :  248 ms\t\t 5.05 MB\t\t 20.4 MB/s\n",
      "AnalysisElectronsAuxDyn.pt                                                      :  367 ms\t\t 0.67 MB\t\t  1.8 MB/s\n",
      "AnalysisElectronsAuxDyn.eta                                                     :  371 ms\t\t 0.68 MB\t\t  1.8 MB/s\n",
      "AnalysisElectronsAuxDyn.phi                                                     :  372 ms\t\t 0.68 MB\t\t  1.8 MB/s\n",
      "AnalysisElectronsAuxDyn.m                                                       :  373 ms\t\t 0.43 MB\t\t  1.2 MB/s\n",
      "AnalysisMuonsAuxDyn.pt                                                          :  377 ms\t\t 0.74 MB\t\t  2.0 MB/s\n",
      "AnalysisMuonsAuxDyn.eta                                                         :  377 ms\t\t 0.75 MB\t\t  2.0 MB/s\n",
      "AnalysisMuonsAuxDyn.phi                                                         :  374 ms\t\t 0.75 MB\t\t  2.0 MB/s\n",
      "AnalysisJetsAuxDyn.EnergyPerSampling                                            : 1982 ms\t\t38.83 MB\t\t 19.6 MB/s\n",
      "AnalysisJetsAuxDyn.SumPtTrkPt500                                                : 2107 ms\t\t30.52 MB\t\t 14.5 MB/s\n",
      "AnalysisJetsAuxDyn.TrackWidthPt1000                                             : 1999 ms\t\t17.00 MB\t\t  8.5 MB/s\n",
      "PrimaryVerticesAuxDyn.z                                                         :  324 ms\t\t13.11 MB\t\t 40.4 MB/s\n",
      "PrimaryVerticesAuxDyn.x                                                         :  322 ms\t\t10.82 MB\t\t 33.6 MB/s\n",
      "PrimaryVerticesAuxDyn.y                                                         :  323 ms\t\t10.53 MB\t\t 32.6 MB/s\n",
      "AnalysisJetsAuxDyn.NumTrkPt500                                                  : 2279 ms\t\t10.36 MB\t\t  4.5 MB/s\n",
      "AnalysisJetsAuxDyn.NumTrkPt1000                                                 : 1987 ms\t\t 7.63 MB\t\t  3.8 MB/s\n",
      "AnalysisJetsAuxDyn.SumPtChargedPFOPt500                                         : 1945 ms\t\t 5.96 MB\t\t  3.1 MB/s\n",
      "AnalysisJetsAuxDyn.Timing                                                       :  293 ms\t\t 5.31 MB\t\t 18.1 MB/s\n",
      "AnalysisJetsAuxDyn.JetConstitScaleMomentum_eta                                  :  292 ms\t\t 5.26 MB\t\t 18.0 MB/s\n",
      "AnalysisJetsAuxDyn.ActiveArea4vec_eta                                           :  293 ms\t\t 5.25 MB\t\t 18.0 MB/s\n",
      "AnalysisJetsAuxDyn.DetectorEta                                                  :  293 ms\t\t 5.25 MB\t\t 17.9 MB/s\n",
      "AnalysisJetsAuxDyn.JetConstitScaleMomentum_phi                                  :  295 ms\t\t 5.25 MB\t\t 17.8 MB/s\n",
      "AnalysisJetsAuxDyn.ActiveArea4vec_phi                                           :  598 ms\t\t 5.24 MB\t\t  8.8 MB/s\n",
      "AnalysisJetsAuxDyn.JetConstitScaleMomentum_m                                    :  292 ms\t\t 5.13 MB\t\t 17.6 MB/s\n",
      "AnalysisJetsAuxDyn.JetConstitScaleMomentum_pt                                   :  292 ms\t\t 5.07 MB\t\t 17.4 MB/s\n",
      "AnalysisJetsAuxDyn.EMFrac                                                       :  292 ms\t\t 5.04 MB\t\t 17.3 MB/s\n",
      "AnalysisJetsAuxDyn.Width                                                        :  291 ms\t\t 5.01 MB\t\t 17.2 MB/s\n",
      "AnalysisJetsAuxDyn.ActiveArea4vec_m                                             :  292 ms\t\t 4.90 MB\t\t 16.8 MB/s\n",
      "AnalysisJetsAuxDyn.ActiveArea4vec_pt                                            :  293 ms\t\t 4.85 MB\t\t 16.5 MB/s\n",
      "AnalysisJetsAuxDyn.DFCommonJets_QGTagger_TracksWidth                            :  295 ms\t\t 3.78 MB\t\t 12.8 MB/s\n",
      "AnalysisJetsAuxDyn.PSFrac                                                       :  294 ms\t\t 3.67 MB\t\t 12.5 MB/s\n",
      "AnalysisJetsAuxDyn.JVFCorr                                                      :  297 ms\t\t 3.49 MB\t\t 11.7 MB/s\n",
      "AnalysisJetsAuxDyn.DFCommonJets_QGTagger_TracksC1                               :  292 ms\t\t 3.39 MB\t\t 11.6 MB/s\n",
      "AnalysisJetsAuxDyn.DFCommonJets_fJvt                                            :  291 ms\t\t 1.67 MB\t\t  5.7 MB/s\n",
      "AnalysisJetsAuxDyn.DFCommonJets_QGTagger_NTracks                                :  291 ms\t\t 1.50 MB\t\t  5.2 MB/s\n",
      "AnalysisJetsAuxDyn.GhostMuonSegmentCount                                        :  293 ms\t\t 1.24 MB\t\t  4.2 MB/s\n",
      "AnalysisMuonsAuxDyn.muonSegmentLinks                                            :  566 ms\t\t 0.82 MB\t\t  1.5 MB/s\n",
      "AnalysisMuonsAuxDyn.msOnlyExtrapolatedMuonSpectrometerTrackParticleLink         : 1102 ms\t\t 0.46 MB\t\t  0.4 MB/s\n",
      "AnalysisMuonsAuxDyn.extrapolatedMuonSpectrometerTrackParticleLink               :  817 ms\t\t 0.44 MB\t\t  0.5 MB/s\n",
      "AnalysisMuonsAuxDyn.inDetTrackParticleLink                                      : 1092 ms\t\t 0.44 MB\t\t  0.4 MB/s\n",
      "AnalysisMuonsAuxDyn.muonSpectrometerTrackParticleLink                           :  819 ms\t\t 0.44 MB\t\t  0.5 MB/s\n",
      "AnalysisMuonsAuxDyn.momentumBalanceSignificance                                 :  454 ms\t\t 0.77 MB\t\t  1.7 MB/s\n",
      "AnalysisMuonsAuxDyn.topoetcone20_CloseByCorr                                    :  453 ms\t\t 0.76 MB\t\t  1.7 MB/s\n",
      "AnalysisMuonsAuxDyn.scatteringCurvatureSignificance                             :  452 ms\t\t 0.76 MB\t\t  1.7 MB/s\n",
      "AnalysisMuonsAuxDyn.scatteringNeighbourSignificance                             :  454 ms\t\t 0.76 MB\t\t  1.7 MB/s\n",
      "AnalysisMuonsAuxDyn.neflowisol20_CloseByCorr                                    :  455 ms\t\t 0.76 MB\t\t  1.7 MB/s\n",
      "AnalysisMuonsAuxDyn.topoetcone20                                                :  458 ms\t\t 0.76 MB\t\t  1.7 MB/s\n",
      "AnalysisMuonsAuxDyn.topoetcone30                                                :  452 ms\t\t 0.76 MB\t\t  1.7 MB/s\n",
      "AnalysisMuonsAuxDyn.topoetcone40                                                :  453 ms\t\t 0.76 MB\t\t  1.7 MB/s\n",
      "AnalysisMuonsAuxDyn.neflowisol20                                                :  451 ms\t\t 0.75 MB\t\t  1.7 MB/s\n",
      "AnalysisMuonsAuxDyn.segmentDeltaEta                                             :  451 ms\t\t 0.75 MB\t\t  1.7 MB/s\n",
      "AnalysisMuonsAuxDyn.DFCommonJetDr                                               :  449 ms\t\t 0.75 MB\t\t  1.7 MB/s\n",
      "AnalysisMuonsAuxDyn.combinedTrackParticleLink                                   :  815 ms\t\t 0.41 MB\t\t  0.5 MB/s\n",
      "AnalysisMuonsAuxDyn.InnerDetectorPt                                             :  452 ms\t\t 0.74 MB\t\t  1.6 MB/s\n",
      "AnalysisMuonsAuxDyn.MuonSpectrometerPt                                          :  450 ms\t\t 0.74 MB\t\t  1.6 MB/s\n",
      "AnalysisMuonsAuxDyn.clusterLink                                                 :  819 ms\t\t 0.39 MB\t\t  0.5 MB/s\n",
      "AnalysisMuonsAuxDyn.spectrometerFieldIntegral                                   :  450 ms\t\t 0.72 MB\t\t  1.6 MB/s\n",
      "AnalysisElectronsAuxDyn.ambiguityLink                                           :  820 ms\t\t 0.39 MB\t\t  0.5 MB/s\n",
      "AnalysisMuonsAuxDyn.EnergyLoss                                                  :  781 ms\t\t 0.72 MB\t\t  0.9 MB/s\n",
      "AnalysisJetsAuxDyn.NNJvtPass                                                    :  452 ms\t\t 0.70 MB\t\t  1.6 MB/s\n",
      "AnalysisElectronsAuxDyn.topoetcone20_CloseByCorr                                :  451 ms\t\t 0.69 MB\t\t  1.5 MB/s\n",
      "AnalysisElectronsAuxDyn.topoetcone20ptCorrection                                :  452 ms\t\t 0.69 MB\t\t  1.5 MB/s\n",
      "AnalysisElectronsAuxDyn.topoetcone20                                            :  451 ms\t\t 0.69 MB\t\t  1.5 MB/s\n",
      "AnalysisMuonsAuxDyn.ptvarcone30_Nonprompt_All_MaxWeightTTVA_pt500_CloseByCorr   :  453 ms\t\t 0.69 MB\t\t  1.5 MB/s\n",
      "AnalysisElectronsAuxDyn.DFCommonElectronsECIDSResult                            :  453 ms\t\t 0.69 MB\t\t  1.5 MB/s\n",
      "AnalysisElectronsAuxDyn.neflowisol20                                            :  451 ms\t\t 0.68 MB\t\t  1.5 MB/s\n",
      "AnalysisMuonsAuxDyn.ptvarcone30_Nonprompt_All_MaxWeightTTVA_pt500               :  450 ms\t\t 0.68 MB\t\t  1.5 MB/s\n",
      "AnalysisMuonsAuxDyn.ptcone40                                                    :  453 ms\t\t 0.66 MB\t\t  1.5 MB/s\n",
      "AnalysisMuonsAuxDyn.ptvarcone30_Nonprompt_All_MaxWeightTTVA_pt1000_CloseByCorr  :  450 ms\t\t 0.66 MB\t\t  1.5 MB/s\n",
      "AnalysisMuonsAuxDyn.ptvarcone30_Nonprompt_All_MaxWeightTTVA_pt1000              :  457 ms\t\t 0.65 MB\t\t  1.4 MB/s\n",
      "AnalysisMuonsAuxDyn.ptvarcone40                                                 :  453 ms\t\t 0.65 MB\t\t  1.4 MB/s\n",
      "AnalysisElectronsAuxDyn.f1                                                      :  455 ms\t\t 0.65 MB\t\t  1.4 MB/s\n",
      "AnalysisMuonsAuxDyn.ptcone20_Nonprompt_All_MaxWeightTTVA_pt500                  :  453 ms\t\t 0.65 MB\t\t  1.4 MB/s\n",
      "PrimaryVerticesAuxDyn.vertexType                                                :  288 ms\t\t 0.64 MB\t\t  2.2 MB/s\n",
      "AnalysisMuonsAuxDyn.ptvarcone30                                                 :  452 ms\t\t 0.64 MB\t\t  1.4 MB/s\n",
      "AnalysisMuonsAuxDyn.ptcone30                                                    :  455 ms\t\t 0.64 MB\t\t  1.4 MB/s\n",
      "AnalysisMuonsAuxDyn.ptcone20_Nonprompt_All_MaxWeightTTVA_pt1000                 :  453 ms\t\t 0.63 MB\t\t  1.4 MB/s\n",
      "AnalysisElectronsAuxDyn.ptvarcone30_Nonprompt_All_MaxWeightTTVALooseCone_pt500  :  452 ms\t\t 0.61 MB\t\t  1.4 MB/s\n",
      "AnalysisMuonsAuxDyn.CaloLRLikelihood                                            :  450 ms\t\t 0.61 MB\t\t  1.4 MB/s\n"
     ]
    }
   ],
   "source": [
    "# time each branch individually, compare to size of the branch, ensure no extreme outliers are present\n",
    "for i in range(len(BRANCH_LIST)):\n",
    "    with uproot.open({fname: treename}, filter_name=filter_name) as f:\n",
    "        initial_metadata_in_MB = f.file.source.num_requested_bytes/1000**2\n",
    "        t0 = time.perf_counter()\n",
    "        f[BRANCH_LIST[i]].array()\n",
    "        t1 = time.perf_counter()\n",
    "        new_size_in_MB = f.file.source.num_requested_bytes/1000**2\n",
    "        time_ms = (t1-t0)*1000\n",
    "        size_MB = (new_size_in_MB-initial_metadata_in_MB)\n",
    "        print(f\"{BRANCH_LIST[i]:<80}: {time_ms:4.0f} ms\\t\\t{size_MB:>5.2f} MB\\t\\t{size_MB / time_ms * 1000:>5.1f} MB/s\")"
   ]
  },
  {
   "cell_type": "code",
   "execution_count": 13,
   "id": "55e321f6-3ae6-4af3-a9e3-b7e5e469cffa",
   "metadata": {},
   "outputs": [
    {
     "name": "stdout",
     "output_type": "stream",
     "text": [
      "reading 12 branch(es)\n",
      "  - read 64.08 MB in 6.76 s\n",
      "reading 24 branch(es)\n",
      "  - read 191.08 MB in 19.10 s\n",
      "reading 36 branch(es)\n",
      "  - read 245.91 MB in 22.42 s\n",
      "reading 48 branch(es)\n",
      "  - read 257.35 MB in 30.04 s\n",
      "reading 60 branch(es)\n",
      "  - read 266.31 MB in 35.72 s\n",
      "reading 72 branch(es)\n",
      "  - read 274.57 MB in 42.14 s\n",
      "reading 82 branch(es)\n",
      "  - read 280.93 MB in 48.16 s\n"
     ]
    }
   ],
   "source": [
    "file_size = os.path.getsize(fname) / 1000**2  # all sizes in MB\n",
    "\n",
    "time_per_fraction_read = {}\n",
    "for i in range(len(BRANCH_LIST)//12+1):\n",
    "    with uproot.open({fname: treename}, filter_name=filter_name) as f:  # re-open every time for accurate tracking of data read\n",
    "        branches = BRANCH_LIST[0:(i+1)*12]\n",
    "        print(f\"reading {len(branches)} branch(es)\")\n",
    "        initial_metadata_in_MB = f.file.source.num_requested_bytes/1000**2\n",
    "        t0 = time.perf_counter()\n",
    "        f.arrays(branches)\n",
    "        t1 = time.perf_counter()\n",
    "        new_size_in_MB = f.file.source.num_requested_bytes/1000**2\n",
    "        fraction_read = (new_size_in_MB - initial_metadata_in_MB) / file_size\n",
    "        time_per_fraction_read[fraction_read] = t1 - t0\n",
    "        print(f\"  - read {new_size_in_MB - initial_metadata_in_MB:.2f} MB in {t1 - t0:.2f} s\")\n",
    "\n",
    "with uproot.open({fname: treename}) as f:\n",
    "    nevts = f.num_entries"
   ]
  },
  {
   "cell_type": "markdown",
   "id": "27d3a221-7f9e-4a7c-aeb3-571d117398c8",
   "metadata": {},
   "source": [
    "The fraction of the file being depends on the file type and may differ from data, where the derivation of these branches was performed to hit 25%."
   ]
  },
  {
   "cell_type": "code",
   "execution_count": 14,
   "id": "ed8b860f-5df8-4fad-b405-8c8d2e7fc871",
   "metadata": {},
   "outputs": [
    {
     "name": "stdout",
     "output_type": "stream",
     "text": [
      "fraction read: 5.70% in 6.76 s\n",
      "fraction read: 17.01% in 19.10 s\n",
      "fraction read: 21.89% in 22.42 s\n",
      "fraction read: 22.91% in 30.04 s\n",
      "fraction read: 23.70% in 35.72 s\n",
      "fraction read: 24.44% in 42.14 s\n",
      "fraction read: 25.01% in 48.16 s\n"
     ]
    }
   ],
   "source": [
    "for k, v in time_per_fraction_read.items():\n",
    "    print(f\"fraction read: {k:.2%} in {v:.2f} s\")"
   ]
  },
  {
   "cell_type": "code",
   "execution_count": 15,
   "id": "0f10517f-c2bf-4155-a829-2123a828386e",
   "metadata": {},
   "outputs": [
    {
     "data": {
      "text/plain": [
       "(0.0, 19.676398102626532)"
      ]
     },
     "execution_count": 15,
     "metadata": {},
     "output_type": "execute_result"
    },
    {
     "data": {
      "image/png": "[encoded data removed]",
      "text/plain": [
       "<Figure size 1200x400 with 2 Axes>"
      ]
     },
     "metadata": {},
     "output_type": "display_data"
    }
   ],
   "source": [
    "event_rate_in_kHz = nevts / np.fromiter(time_per_fraction_read.values(), np.float32) / 1_000\n",
    "\n",
    "fig, (ax0, ax1) = plt.subplots(figsize=(12,4), ncols=2)\n",
    "\n",
    "ax0.plot(time_per_fraction_read.keys(), time_per_fraction_read.values(), \"o\")\n",
    "ax0.set_xlabel(\"fraction read\")\n",
    "ax0.set_ylabel(\"time [s]\")\n",
    "ax0.set_xlim([0, ax0.get_xlim()[1]])\n",
    "ax0.set_ylim([0, ax0.get_ylim()[1]])\n",
    "\n",
    "ax1.plot(time_per_fraction_read.keys(), event_rate_in_kHz, \"o\")\n",
    "ax1.set_xlabel(\"fraction read\")\n",
    "ax1.set_ylabel(\"event rate [kHz]\")\n",
    "ax1.set_xlim([0, ax1.get_xlim()[1]])\n",
    "ax1.set_ylim([0, ax1.get_ylim()[1]])"
   ]
  },
  {
   "cell_type": "code",
   "execution_count": 16,
   "id": "ba6889dc-52a3-40d1-8e65-f8317437035f",
   "metadata": {},
   "outputs": [
    {
     "name": "stdout",
     "output_type": "stream",
     "text": [
      "2.26 MB\n"
     ]
    }
   ],
   "source": [
    "# pure \"metadata\" (?) part, would be read on every open call\n",
    "with uproot.open({fname: treename}) as f:\n",
    "    print(f\"{f.file.source.num_requested_bytes/1000**2:.2f} MB\")"
   ]
  },
  {
   "cell_type": "code",
   "execution_count": 17,
   "id": "3d41622a-a7ba-41d6-a818-d1147e1f9213",
   "metadata": {},
   "outputs": [
    {
     "data": {
      "text/plain": [
       "(0.0, 89.82277641296386)"
      ]
     },
     "execution_count": 17,
     "metadata": {},
     "output_type": "execute_result"
    },
    {
     "data": {
      "image/png": "[encoded data removed]",
      "text/plain": [
       "<Figure size 640x480 with 1 Axes>"
      ]
     },
     "metadata": {},
     "output_type": "display_data"
    }
   ],
   "source": [
    "# fraction read * file size (in MB) * 8 (to Mb) / time (in s)\n",
    "io_in_Mbps = np.fromiter(time_per_fraction_read.keys(), np.float32) * file_size * 8 / np.fromiter(time_per_fraction_read.values(), np.float32)\n",
    "\n",
    "fig, ax = plt.subplots()\n",
    "\n",
    "ax.plot(time_per_fraction_read.keys(), io_in_Mbps, \"o\")\n",
    "ax.set_xlabel(\"fraction read\")\n",
    "ax.set_ylabel(\"rate [Mbps]\")\n",
    "ax.set_xlim([0, ax.get_xlim()[1]])\n",
    "ax.set_ylim([0, ax.get_ylim()[1]])"
   ]
  }
 ],
 "metadata": {
  "jupytext": {
   "notebook_metadata_filter": "all,-jupytext.text_representation.jupytext_version"
  },
  "kernelspec": {
   "display_name": "Python 3 (ipykernel)",
   "language": "python",
   "name": "python3"
  },
  "language_info": {
   "codemirror_mode": {
    "name": "ipython",
    "version": 3
   },
   "file_extension": ".py",
   "mimetype": "text/x-python",
   "name": "python",
   "nbconvert_exporter": "python",
   "pygments_lexer": "ipython3",
   "version": "3.9.12"
  }
 },
 "nbformat": 4,
 "nbformat_minor": 5
}
