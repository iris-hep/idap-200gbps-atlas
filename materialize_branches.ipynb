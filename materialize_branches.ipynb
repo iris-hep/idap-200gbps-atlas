{
 "cells": [
  {
   "cell_type": "code",
   "execution_count": 1,
   "id": "180f4d32-e5c4-42f9-84e8-430034493a55",
   "metadata": {
    "tags": []
   },
   "outputs": [
    {
     "name": "stdout",
     "output_type": "stream",
     "text": [
      "awkward: 2.6.2\n",
      "dask-awkward: 2024.3.0\n",
      "uproot: 5.3.2\n",
      "hist: 2.7.2\n",
      "coffea: 2024.3.0\n"
     ]
    }
   ],
   "source": [
    "import os\n",
    "from pathlib import Path\n",
    "\n",
    "import awkward as ak\n",
    "import dask\n",
    "import dask_awkward as dak\n",
    "import hist.dask\n",
    "import coffea\n",
    "import numpy as np\n",
    "import uproot\n",
    "from dask.distributed import Client\n",
    "import matplotlib.pyplot as plt\n",
    "import matplotlib as mpl\n",
    "mpl.style.use(\"ggplot\")\n",
    "\n",
    "from coffea.nanoevents import NanoEventsFactory, PHYSLITESchema\n",
    "from coffea import dataset_tools\n",
    "\n",
    "import time\n",
    "import warnings\n",
    "\n",
    "warnings.filterwarnings(\"ignore\")\n",
    "\n",
    "# local: single thread, single worker\n",
    "from dask.distributed import LocalCluster, Client, progress\n",
    "cluster = LocalCluster(n_workers=1, processes=False, threads_per_worker=1)\n",
    "client = Client(cluster)\n",
    "\n",
    "# for UChicago\n",
    "# client = Client(\"tcp://dask-alheld-a76c9434-b.af-jupyter:8786\")\n",
    "\n",
    "print(f\"awkward: {ak.__version__}\")\n",
    "print(f\"dask-awkward: {dak.__version__}\")\n",
    "print(f\"uproot: {uproot.__version__}\")\n",
    "print(f\"hist: {hist.__version__}\")\n",
    "print(f\"coffea: {coffea.__version__}\")"
   ]
  },
  {
   "cell_type": "markdown",
   "id": "d7dc48bd-585e-4c95-848b-3a59dc920f51",
   "metadata": {},
   "source": [
    "### interactive coffea for debugging"
   ]
  },
  {
   "cell_type": "code",
   "execution_count": 2,
   "id": "d68e654e-0987-4bc6-865d-273c983e932b",
   "metadata": {},
   "outputs": [],
   "source": [
    "fname = \"/data/alheld/200gbps-atlas/mc23_13p6TeV.601229.PhPy8EG_A14_ttbar_hdamp258p75_SingleLep.deriv.DAOD_PHYSLITE.e8514_s4162_r14622_p6026/DAOD_PHYSLITE.37223155._000001.pool.root.1\"\n",
    "treename = \"CollectionTree\"\n",
    "# events = NanoEventsFactory.from_root({fname: treename}, schemaclass=PHYSLITESchema).events()"
   ]
  },
  {
   "cell_type": "markdown",
   "id": "208ff780-6dcb-4448-89de-0f1ac6a1b0a0",
   "metadata": {},
   "source": [
    "### distributed coffea"
   ]
  },
  {
   "cell_type": "code",
   "execution_count": 3,
   "id": "0a38efe4-8024-422c-ba42-12bd3a3b44cd",
   "metadata": {
    "tags": []
   },
   "outputs": [],
   "source": [
    "def materialize_branches(events):\n",
    "    # track number of events\n",
    "    num_events = ak.num(events, axis=0)\n",
    "\n",
    "    # this will read around 10% of the file\n",
    "    # materialize branches, just derive integers from them that will be aggregated to avoid memory issues\n",
    "    _counter = 0\n",
    "    _counter += ak.count_nonzero(events.Jets.EnergyPerSampling)\n",
    "    _counter += ak.count_nonzero(events.Jets.SumPtTrkPt500)\n",
    "    _counter += ak.count_nonzero(events.Jets.TrackWidthPt1000)\n",
    "    _counter += ak.count_nonzero(events.Jets.NumTrkPt500)\n",
    "    _counter += ak.count_nonzero(events.Jets.NumTrkPt1000)\n",
    "    _counter += ak.count_nonzero(events.Jets.SumPtChargedPFOPt500)\n",
    "    _counter += ak.count_nonzero(events.Jets.Timing)\n",
    "    _counter += ak.count_nonzero(events.Jets.JetConstitScaleMomentum_eta)\n",
    "    _counter += ak.count_nonzero(events.Jets.ActiveArea4vec_eta)\n",
    "    _counter += ak.count_nonzero(events.Jets.DetectorEta)\n",
    "    _counter += ak.count_nonzero(events.Jets.eta)\n",
    "    _counter += ak.count_nonzero(events.Jets.JetConstitScaleMomentum_phi)\n",
    "    _counter += ak.count_nonzero(events.Jets.ActiveArea4vec_phi)\n",
    "    _counter += ak.count_nonzero(events.Jets.phi)\n",
    "    _counter += ak.count_nonzero(events.Jets.JetConstitScaleMomentum_m)\n",
    "    _counter += ak.count_nonzero(events.Jets.JetConstitScaleMomentum_pt)\n",
    "    _counter += ak.count_nonzero(events.Jets.Width)\n",
    "    _counter += ak.count_nonzero(events.Jets.EMFrac)\n",
    "    _counter += ak.count_nonzero(events.Jets.pt)\n",
    "    _counter += ak.count_nonzero(events.Jets.m)\n",
    "    _counter += ak.count_nonzero(events.Jets.ActiveArea4vec_m)\n",
    "    _counter += ak.count_nonzero(events.Jets.ActiveArea4vec_pt)\n",
    "    _counter += ak.count_nonzero(events.Jets.DFCommonJets_QGTagger_TracksWidth)\n",
    "    _counter += ak.count_nonzero(events.Jets.JVFCorr)\n",
    "    _counter += ak.count_nonzero(events.Jets.DFCommonJets_QGTagger_TracksC1)\n",
    "    _counter += ak.count_nonzero(events.Jets.PSFrac)\n",
    "    _counter += ak.count_nonzero(events.Jets.DFCommonJets_QGTagger_NTracks)\n",
    "    _counter += ak.count_nonzero(events.Jets.DFCommonJets_fJvt)\n",
    "    _counter += ak.count_nonzero(events.Jets.PartonTruthLabelID)\n",
    "    _counter += ak.count_nonzero(events.Jets.HadronConeExclExtendedTruthLabelID)\n",
    "    _counter += ak.count_nonzero(events.Jets.ConeTruthLabelID)\n",
    "    _counter += ak.count_nonzero(events.Jets.HadronConeExclTruthLabelID)\n",
    "\n",
    "    return {\"nevts\": num_events, \"_counter\": _counter}"
   ]
  },
  {
   "cell_type": "markdown",
   "id": "f7f24e12-3fd8-481c-8318-7f9277f72c50",
   "metadata": {},
   "source": [
    "just run over a local ttbar file here as an example"
   ]
  },
  {
   "cell_type": "code",
   "execution_count": 4,
   "id": "684f1240-a754-4dd1-b861-1bfac65ec288",
   "metadata": {
    "tags": []
   },
   "outputs": [
    {
     "data": {
      "text/plain": [
       "{'ttbar': {'files': {'/data/alheld/200gbps-atlas/mc23_13p6TeV.601229.PhPy8EG_A14_ttbar_hdamp258p75_SingleLep.deriv.DAOD_PHYSLITE.e8514_s4162_r14622_p6026/DAOD_PHYSLITE.37223155._000001.pool.root.1': 'CollectionTree'}}}"
      ]
     },
     "execution_count": 4,
     "metadata": {},
     "output_type": "execute_result"
    }
   ],
   "source": [
    "fileset = {\"ttbar\": {\"files\": {fname: treename}}}\n",
    "fileset"
   ]
  },
  {
   "cell_type": "code",
   "execution_count": 5,
   "id": "ed1ecc41-0a72-44ec-a8b8-654286a02196",
   "metadata": {
    "tags": []
   },
   "outputs": [
    {
     "name": "stdout",
     "output_type": "stream",
     "text": [
      "CPU times: user 1.25 s, sys: 48.7 ms, total: 1.29 s\n",
      "Wall time: 1.28 s\n"
     ]
    }
   ],
   "source": [
    "%%time\n",
    "# pre-process\n",
    "samples, _ = dataset_tools.preprocess(fileset, step_size=1_000_000)"
   ]
  },
  {
   "cell_type": "code",
   "execution_count": 6,
   "id": "dca7b2ea-ae18-41ac-a4a8-cf257621dd10",
   "metadata": {},
   "outputs": [],
   "source": [
    "def filter_name(name):\n",
    "    return name in [\n",
    "        \"AnalysisJetsAuxDyn.EnergyPerSampling\",\n",
    "        \"AnalysisJetsAuxDyn.SumPtTrkPt500\",\n",
    "        \"AnalysisJetsAuxDyn.TrackWidthPt1000\",\n",
    "        \"AnalysisJetsAuxDyn.NumTrkPt500\",\n",
    "        \"AnalysisJetsAuxDyn.NumTrkPt1000\",\n",
    "        \"AnalysisJetsAuxDyn.SumPtChargedPFOPt500\",\n",
    "        \"AnalysisJetsAuxDyn.Timing\",\n",
    "        \"AnalysisJetsAuxDyn.JetConstitScaleMomentum_eta\",\n",
    "        \"AnalysisJetsAuxDyn.ActiveArea4vec_eta\",\n",
    "        \"AnalysisJetsAuxDyn.DetectorEta\",\n",
    "        \"AnalysisJetsAuxDyn.eta\",\n",
    "        \"AnalysisJetsAuxDyn.JetConstitScaleMomentum_phi\",\n",
    "        \"AnalysisJetsAuxDyn.ActiveArea4vec_phi\",\n",
    "        \"AnalysisJetsAuxDyn.phi\",\n",
    "        \"AnalysisJetsAuxDyn.JetConstitScaleMomentum_m\",\n",
    "        \"AnalysisJetsAuxDyn.JetConstitScaleMomentum_pt\",\n",
    "        \"AnalysisJetsAuxDyn.Width\",\n",
    "        \"AnalysisJetsAuxDyn.EMFrac\",\n",
    "        \"AnalysisJetsAuxDyn.pt\",\n",
    "        \"AnalysisJetsAuxDyn.m\",\n",
    "        \"AnalysisJetsAuxDyn.ActiveArea4vec_m\",\n",
    "        \"AnalysisJetsAuxDyn.ActiveArea4vec_pt\",\n",
    "        \"AnalysisJetsAuxDyn.DFCommonJets_QGTagger_TracksWidth\",\n",
    "        \"AnalysisJetsAuxDyn.JVFCorr\",\n",
    "        \"AnalysisJetsAuxDyn.DFCommonJets_QGTagger_TracksC1\",\n",
    "        \"AnalysisJetsAuxDyn.PSFrac\",\n",
    "        \"AnalysisJetsAuxDyn.DFCommonJets_QGTagger_NTracks\",\n",
    "        \"AnalysisJetsAuxDyn.DFCommonJets_fJvt\",\n",
    "        \"AnalysisJetsAuxDyn.PartonTruthLabelID\",\n",
    "        \"AnalysisJetsAuxDyn.HadronConeExclExtendedTruthLabelID\",\n",
    "        \"AnalysisJetsAuxDyn.ConeTruthLabelID\",\n",
    "        \"AnalysisJetsAuxDyn.HadronConeExclTruthLabelID\",\n",
    "        \"AnalysisJetsAuxDyn.truthParticleLink\",\n",
    "        \"AnalysisJetsAuxDyn.firstEgMotherTruthParticleLink\",\n",
    "        \"AnalysisJetsAuxDyn.momentumBalanceSignificance\",\n",
    "        \"AnalysisJetsAuxDyn.topoetcone20_CloseByCorr\",\n",
    "        \"AnalysisJetsAuxDyn.scatteringCurvatureSignificance\",\n",
    "        \"AnalysisJetsAuxDyn.neflowisol20_CloseByCorr\",\n",
    "        \"AnalysisJetsAuxDyn.scatteringNeighbourSignificance\",\n",
    "        \"AnalysisJetsAuxDyn.topoetcone20\",\n",
    "        \"AnalysisJetsAuxDyn.topoetcone30\",\n",
    "        \"AnalysisJetsAuxDyn.topoetcone40\",\n",
    "    ]"
   ]
  },
  {
   "cell_type": "code",
   "execution_count": 7,
   "id": "15835a57-1182-4efb-8306-07f36af7a5b2",
   "metadata": {
    "tags": []
   },
   "outputs": [
    {
     "name": "stdout",
     "output_type": "stream",
     "text": [
      "CPU times: user 3.1 s, sys: 72.8 ms, total: 3.18 s\n",
      "Wall time: 3.15 s\n"
     ]
    }
   ],
   "source": [
    "%%time\n",
    "# create the task graph\n",
    "# filter_name seems to not do anything here in terms of performance\n",
    "tasks = dataset_tools.apply_to_fileset(materialize_branches,\n",
    "                                       samples,\n",
    "                                       uproot_options={\"allow_read_errors_with_report\": True, \"filter_name\": filter_name},\n",
    "                                       schemaclass=PHYSLITESchema)"
   ]
  },
  {
   "cell_type": "markdown",
   "id": "e1953d6d",
   "metadata": {},
   "source": [
    "execute task graph"
   ]
  },
  {
   "cell_type": "code",
   "execution_count": 8,
   "id": "6b6dfb17-6806-46c8-aa59-cd475e40cf64",
   "metadata": {
    "tags": []
   },
   "outputs": [
    {
     "name": "stdout",
     "output_type": "stream",
     "text": [
      "total time spent in uproot reading data: 13.00 s\n",
      "wall time: 13.74s\n",
      "CPU times: user 7.73 s, sys: 6.28 s, total: 14 s\n",
      "Wall time: 13.7 s\n"
     ]
    }
   ],
   "source": [
    "%%time\n",
    "# execute\n",
    "t0 = time.perf_counter()\n",
    "((out, report),) = dask.compute(tasks)  # feels strange that this is a tuple-of-tuple\n",
    "t1 = time.perf_counter()\n",
    "\n",
    "print(f\"total time spent in uproot reading data: {ak.sum([v['duration'] for v in report.values()]):.2f} s\")\n",
    "print(f\"wall time: {t1-t0:.2f}s\")"
   ]
  },
  {
   "cell_type": "code",
   "execution_count": 9,
   "id": "cd336cbb-22a1-45f8-9f85-e18326065c23",
   "metadata": {
    "tags": []
   },
   "outputs": [
    {
     "data": {
      "text/plain": [
       "{'ttbar': {'nevts': 30000, '_counter': 20461220}}"
      ]
     },
     "execution_count": 9,
     "metadata": {},
     "output_type": "execute_result"
    }
   ],
   "source": [
    "out"
   ]
  },
  {
   "cell_type": "code",
   "execution_count": 10,
   "id": "07f42084-1139-48e6-95c3-b7f9217033a8",
   "metadata": {},
   "outputs": [
    {
     "name": "stdout",
     "output_type": "stream",
     "text": [
      "event rate: 2.18 kHz\n"
     ]
    }
   ],
   "source": [
    "event_rate = out[\"ttbar\"][\"nevts\"] / (t1-t0)\n",
    "print(f\"event rate: {event_rate / 1_000:.2f} kHz\")"
   ]
  },
  {
   "cell_type": "code",
   "execution_count": 11,
   "id": "bb47e9e5-57ea-4385-b8f8-b2a22ded030e",
   "metadata": {},
   "outputs": [
    {
     "name": "stdout",
     "output_type": "stream",
     "text": [
      "read 84.67 MB\n"
     ]
    }
   ],
   "source": [
    "# need uproot>=5.3.2 to get more useful performance stats\n",
    "\n",
    "print(f\"read {sum(report['ttbar']['performance_counters']['num_requested_bytes']) / 1_000**2:.2f} MB\")"
   ]
  },
  {
   "cell_type": "code",
   "execution_count": 12,
   "id": "51fb1ab6-0be4-4b99-942a-c1b53eda5639",
   "metadata": {},
   "outputs": [
    {
     "data": {
      "text/plain": [
       "{'from-uproot-ca17f7245124d5cfc0a5420e734b90c3': frozenset({'AnalysisJetsAuxDyn.ActiveArea4vec_eta',\n",
       "            'AnalysisJetsAuxDyn.ActiveArea4vec_m',\n",
       "            'AnalysisJetsAuxDyn.ActiveArea4vec_phi',\n",
       "            'AnalysisJetsAuxDyn.ActiveArea4vec_pt',\n",
       "            'AnalysisJetsAuxDyn.ConeTruthLabelID',\n",
       "            'AnalysisJetsAuxDyn.DFCommonJets_QGTagger_NTracks',\n",
       "            'AnalysisJetsAuxDyn.DFCommonJets_QGTagger_TracksC1',\n",
       "            'AnalysisJetsAuxDyn.DFCommonJets_QGTagger_TracksWidth',\n",
       "            'AnalysisJetsAuxDyn.DFCommonJets_fJvt',\n",
       "            'AnalysisJetsAuxDyn.DetectorEta',\n",
       "            'AnalysisJetsAuxDyn.EMFrac',\n",
       "            'AnalysisJetsAuxDyn.EnergyPerSampling',\n",
       "            'AnalysisJetsAuxDyn.HadronConeExclExtendedTruthLabelID',\n",
       "            'AnalysisJetsAuxDyn.HadronConeExclTruthLabelID',\n",
       "            'AnalysisJetsAuxDyn.JVFCorr',\n",
       "            'AnalysisJetsAuxDyn.JetConstitScaleMomentum_eta',\n",
       "            'AnalysisJetsAuxDyn.JetConstitScaleMomentum_m',\n",
       "            'AnalysisJetsAuxDyn.JetConstitScaleMomentum_phi',\n",
       "            'AnalysisJetsAuxDyn.JetConstitScaleMomentum_pt',\n",
       "            'AnalysisJetsAuxDyn.NumTrkPt1000',\n",
       "            'AnalysisJetsAuxDyn.NumTrkPt500',\n",
       "            'AnalysisJetsAuxDyn.PSFrac',\n",
       "            'AnalysisJetsAuxDyn.PartonTruthLabelID',\n",
       "            'AnalysisJetsAuxDyn.SumPtChargedPFOPt500',\n",
       "            'AnalysisJetsAuxDyn.SumPtTrkPt500',\n",
       "            'AnalysisJetsAuxDyn.Timing',\n",
       "            'AnalysisJetsAuxDyn.TrackWidthPt1000',\n",
       "            'AnalysisJetsAuxDyn.Width',\n",
       "            'AnalysisJetsAuxDyn.eta',\n",
       "            'AnalysisJetsAuxDyn.m',\n",
       "            'AnalysisJetsAuxDyn.phi',\n",
       "            'AnalysisJetsAuxDyn.pt'})}"
      ]
     },
     "execution_count": 12,
     "metadata": {},
     "output_type": "execute_result"
    }
   ],
   "source": [
    "# sanity check that the right colums are being touched\n",
    "dak.report_necessary_columns(tasks)"
   ]
  },
  {
   "cell_type": "markdown",
   "id": "d083e1b1-76b6-40cd-8602-215e652a1ca5",
   "metadata": {},
   "source": [
    "### non-coffea / non-Dask version to compare"
   ]
  },
  {
   "cell_type": "code",
   "execution_count": 13,
   "id": "5acaa518-16e2-444b-b086-d778fb096163",
   "metadata": {},
   "outputs": [
    {
     "name": "stdout",
     "output_type": "stream",
     "text": [
      "reading 1 branch(es)\n",
      "read 8.67 MB in 0.83 s\n",
      "reading 5 branch(es)\n",
      "read 26.30 MB in 4.19 s\n",
      "reading 9 branch(es)\n",
      "read 31.79 MB in 5.96 s\n",
      "reading 13 branch(es)\n",
      "read 36.85 MB in 6.02 s\n",
      "reading 17 branch(es)\n",
      "read 41.77 MB in 5.97 s\n",
      "reading 21 branch(es)\n",
      "read 46.57 MB in 6.24 s\n",
      "reading 25 branch(es)\n",
      "read 50.69 MB in 6.03 s\n",
      "reading 29 branch(es)\n",
      "read 52.71 MB in 6.44 s\n",
      "reading 32 branch(es)\n",
      "read 53.44 MB in 6.57 s\n"
     ]
    }
   ],
   "source": [
    "BRANCH_LIST = [\n",
    "    \"AnalysisJetsAuxDyn.EnergyPerSampling\",\n",
    "    \"AnalysisJetsAuxDyn.SumPtTrkPt500\",\n",
    "    \"AnalysisJetsAuxDyn.TrackWidthPt1000\",\n",
    "    \"AnalysisJetsAuxDyn.NumTrkPt500\",\n",
    "    \"AnalysisJetsAuxDyn.NumTrkPt1000\",\n",
    "    \"AnalysisJetsAuxDyn.SumPtChargedPFOPt500\",\n",
    "    \"AnalysisJetsAuxDyn.Timing\",\n",
    "    \"AnalysisJetsAuxDyn.JetConstitScaleMomentum_eta\",\n",
    "    \"AnalysisJetsAuxDyn.ActiveArea4vec_eta\",\n",
    "    \"AnalysisJetsAuxDyn.DetectorEta\",\n",
    "    \"AnalysisJetsAuxDyn.eta\",\n",
    "    \"AnalysisJetsAuxDyn.JetConstitScaleMomentum_phi\",\n",
    "    \"AnalysisJetsAuxDyn.ActiveArea4vec_phi\",\n",
    "    \"AnalysisJetsAuxDyn.phi\",\n",
    "    \"AnalysisJetsAuxDyn.JetConstitScaleMomentum_m\",\n",
    "    \"AnalysisJetsAuxDyn.JetConstitScaleMomentum_pt\",\n",
    "    \"AnalysisJetsAuxDyn.Width\",\n",
    "    \"AnalysisJetsAuxDyn.EMFrac\",\n",
    "    \"AnalysisJetsAuxDyn.pt\",\n",
    "    \"AnalysisJetsAuxDyn.m\",\n",
    "    \"AnalysisJetsAuxDyn.ActiveArea4vec_m\",\n",
    "    \"AnalysisJetsAuxDyn.ActiveArea4vec_pt\",\n",
    "    \"AnalysisJetsAuxDyn.DFCommonJets_QGTagger_TracksWidth\",\n",
    "    \"AnalysisJetsAuxDyn.JVFCorr\",\n",
    "    \"AnalysisJetsAuxDyn.DFCommonJets_QGTagger_TracksC1\",\n",
    "    \"AnalysisJetsAuxDyn.PSFrac\",\n",
    "    \"AnalysisJetsAuxDyn.DFCommonJets_QGTagger_NTracks\",\n",
    "    \"AnalysisJetsAuxDyn.DFCommonJets_fJvt\",\n",
    "    \"AnalysisJetsAuxDyn.PartonTruthLabelID\",\n",
    "    \"AnalysisJetsAuxDyn.HadronConeExclExtendedTruthLabelID\",\n",
    "    \"AnalysisJetsAuxDyn.ConeTruthLabelID\",\n",
    "    \"AnalysisJetsAuxDyn.HadronConeExclTruthLabelID\"\n",
    "]\n",
    "\n",
    "def filter_name(name):\n",
    "    return name in BRANCH_LIST\n",
    "\n",
    "file_size = os.path.getsize(fname) / 1000**2  # all sizes in MB\n",
    "\n",
    "time_per_fraction_read = {}\n",
    "for i in range(len(BRANCH_LIST)//4+1):\n",
    "    with uproot.open({fname: treename}, filter_name=filter_name) as f:  # re-open every time for accurate tracking of data read\n",
    "        branches = BRANCH_LIST[0:i*4+1]\n",
    "        print(f\"reading {len(branches)} branch(es)\")\n",
    "        initial_metadata_in_MB = f.file.source.num_requested_bytes/1000**2\n",
    "        t0 = time.perf_counter()\n",
    "        f.arrays(branches)\n",
    "        t1 = time.perf_counter()\n",
    "        new_size_in_MB = f.file.source.num_requested_bytes/1000**2\n",
    "        fraction_read = (new_size_in_MB - initial_metadata_in_MB) / file_size\n",
    "        time_per_fraction_read[fraction_read] = t1 - t0\n",
    "        print(f\"read {new_size_in_MB - initial_metadata_in_MB:.2f} MB in {t1 - t0:.2f} s\")\n",
    "\n",
    "with uproot.open({fname: treename}) as f:\n",
    "    nevts = f.num_entries"
   ]
  },
  {
   "cell_type": "code",
   "execution_count": 14,
   "id": "ed8b860f-5df8-4fad-b405-8c8d2e7fc871",
   "metadata": {},
   "outputs": [
    {
     "name": "stdout",
     "output_type": "stream",
     "text": [
      "fraction read: 1.56% in 0.83 s\n",
      "fraction read: 4.74% in 4.19 s\n",
      "fraction read: 5.73% in 5.96 s\n",
      "fraction read: 6.64% in 6.02 s\n",
      "fraction read: 7.53% in 5.97 s\n",
      "fraction read: 8.39% in 6.24 s\n",
      "fraction read: 9.13% in 6.03 s\n",
      "fraction read: 9.50% in 6.44 s\n",
      "fraction read: 9.63% in 6.57 s\n"
     ]
    }
   ],
   "source": [
    "for k, v in time_per_fraction_read.items():\n",
    "    print(f\"fraction read: {k:.2%} in {v:.2f} s\")"
   ]
  },
  {
   "cell_type": "code",
   "execution_count": 15,
   "id": "0f10517f-c2bf-4155-a829-2123a828386e",
   "metadata": {},
   "outputs": [
    {
     "data": {
      "text/plain": [
       "(0.0, 37.82096972465515)"
      ]
     },
     "execution_count": 15,
     "metadata": {},
     "output_type": "execute_result"
    },
    {
     "data": {
      "image/png": "[encoded data removed]",
      "text/plain": [
       "<Figure size 1200x400 with 2 Axes>"
      ]
     },
     "metadata": {},
     "output_type": "display_data"
    }
   ],
   "source": [
    "event_rate_in_kHz = nevts / np.fromiter(time_per_fraction_read.values(), np.float32) / 1_000\n",
    "\n",
    "fig, (ax0, ax1) = plt.subplots(figsize=(12,4), ncols=2)\n",
    "\n",
    "ax0.plot(time_per_fraction_read.keys(), time_per_fraction_read.values(), \"o\")\n",
    "ax0.set_xlabel(\"fraction read\")\n",
    "ax0.set_ylabel(\"time [s]\")\n",
    "ax0.set_xlim([0, ax0.get_xlim()[1]])\n",
    "ax0.set_ylim([0, ax0.get_ylim()[1]])\n",
    "\n",
    "ax1.plot(time_per_fraction_read.keys(), event_rate_in_kHz, \"o\")\n",
    "ax1.set_xlabel(\"fraction read\")\n",
    "ax1.set_ylabel(\"event rate [kHz]\")\n",
    "ax1.set_xlim([0, ax1.get_xlim()[1]])\n",
    "ax1.set_ylim([0, ax1.get_ylim()[1]])"
   ]
  },
  {
   "cell_type": "code",
   "execution_count": 16,
   "id": "ba6889dc-52a3-40d1-8e65-f8317437035f",
   "metadata": {},
   "outputs": [
    {
     "name": "stdout",
     "output_type": "stream",
     "text": [
      "0.83 MB\n"
     ]
    }
   ],
   "source": [
    "# pure \"metadata\" (?) part, would be read on every open call\n",
    "with uproot.open({fname: treename}) as f:\n",
    "    print(f\"{f.file.source.num_requested_bytes/1000**2:.2f} MB\")"
   ]
  },
  {
   "cell_type": "code",
   "execution_count": 17,
   "id": "3d41622a-a7ba-41d6-a818-d1147e1f9213",
   "metadata": {},
   "outputs": [
    {
     "data": {
      "text/plain": [
       "(0.0, 85.87495975494384)"
      ]
     },
     "execution_count": 17,
     "metadata": {},
     "output_type": "execute_result"
    },
    {
     "data": {
      "image/png": "[encoded data removed]",
      "text/plain": [
       "<Figure size 640x480 with 1 Axes>"
      ]
     },
     "metadata": {},
     "output_type": "display_data"
    }
   ],
   "source": [
    "# fraction read * file size (in MB) * 8 (to Mb) / time (in s)\n",
    "io_in_Mbps = np.fromiter(time_per_fraction_read.keys(), np.float32) * file_size * 8 / np.fromiter(time_per_fraction_read.values(), np.float32)\n",
    "\n",
    "fig, ax = plt.subplots()\n",
    "\n",
    "ax.plot(time_per_fraction_read.keys(), io_in_Mbps, \"o\")\n",
    "ax.set_xlabel(\"fraction read\")\n",
    "ax.set_ylabel(\"rate [Mbps]\")\n",
    "ax.set_xlim([0, ax.get_xlim()[1]])\n",
    "ax.set_ylim([0, ax.get_ylim()[1]])"
   ]
  }
 ],
 "metadata": {
  "jupytext": {
   "notebook_metadata_filter": "all,-jupytext.text_representation.jupytext_version"
  },
  "kernelspec": {
   "display_name": "Python 3 (ipykernel)",
   "language": "python",
   "name": "python3"
  },
  "language_info": {
   "codemirror_mode": {
    "name": "ipython",
    "version": 3
   },
   "file_extension": ".py",
   "mimetype": "text/x-python",
   "name": "python",
   "nbconvert_exporter": "python",
   "pygments_lexer": "ipython3",
   "version": "3.9.12"
  }
 },
 "nbformat": 4,
 "nbformat_minor": 5
}
