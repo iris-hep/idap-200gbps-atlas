{
 "cells": [
  {
   "cell_type": "code",
   "execution_count": 4,
   "id": "d2cf8d80-02c2-4a5d-8c65-f8399051223c",
   "metadata": {
    "tags": []
   },
   "outputs": [],
   "source": [
    "import uproot"
   ]
  },
  {
   "cell_type": "markdown",
   "id": "1acb4fb7-db7e-44b2-b481-d2cee1ec0aa3",
   "metadata": {},
   "source": [
    "the file here is a part of `mc23_13p6TeV.601229.PhPy8EG_A14_ttbar_hdamp258p75_SingleLep.deriv.DAOD_PHYSLITE.e8514_s4162_r14622_p6026`:\n",
    "```\n",
    "/data/alheld/200gbps-atlas/mc23_13p6TeV.601229.PhPy8EG_A14_ttbar_hdamp258p75_SingleLep.deriv.DAOD_PHYSLITE.e8514_s4162_r14622_p6026/DAOD_PHYSLITE.37223155._000001.pool.root.1\n",
    "```"
   ]
  },
  {
   "cell_type": "code",
   "execution_count": 2,
   "id": "db754181-c1ba-41fe-997d-d1290469a1d7",
   "metadata": {
    "tags": []
   },
   "outputs": [
    {
     "name": "stdout",
     "output_type": "stream",
     "text": [
      "-rw-r--r-- 1 alheld atlas-af 530M Mar 29 13:07 /data/alheld/200gbps-atlas/mc23_13p6TeV.601229.PhPy8EG_A14_ttbar_hdamp258p75_SingleLep.deriv.DAOD_PHYSLITE.e8514_s4162_r14622_p6026/DAOD_PHYSLITE.37223155._000001.pool.root.1\n"
     ]
    }
   ],
   "source": [
    "! ls -lh /data/alheld/200gbps-atlas/mc23_13p6TeV.601229.PhPy8EG_A14_ttbar_hdamp258p75_SingleLep.deriv.DAOD_PHYSLITE.e8514_s4162_r14622_p6026/DAOD_PHYSLITE.37223155._000001.pool.root.1"
   ]
  },
  {
   "cell_type": "code",
   "execution_count": 16,
   "id": "0bf19d6a-3b1f-417b-a8a9-a7837ac55940",
   "metadata": {
    "scrolled": true,
    "tags": []
   },
   "outputs": [
    {
     "name": "stdout",
     "output_type": "stream",
     "text": [
      "read branch AnalysisJetsAuxDyn.pt\n",
      "read branch AnalysisJetsAuxDyn.eta\n",
      "read branch AnalysisJetsAuxDyn.phi\n",
      "read branch AnalysisJetsAuxDyn.m\n",
      "read branch AnalysisJetsAuxDyn.JetConstitScaleMomentum_pt\n",
      "read branch AnalysisJetsAuxDyn.JetConstitScaleMomentum_eta\n",
      "read branch AnalysisJetsAuxDyn.JetConstitScaleMomentum_phi\n",
      "read branch AnalysisJetsAuxDyn.JetConstitScaleMomentum_m\n",
      "read branch AnalysisJetsAuxDyn.btaggingLink\n",
      "read branch AnalysisJetsAuxDyn.btaggingLink/AnalysisJetsAuxDyn.btaggingLink.m_persKey\n",
      "read branch AnalysisJetsAuxDyn.btaggingLink/AnalysisJetsAuxDyn.btaggingLink.m_persIndex\n",
      "read branch AnalysisJetsAuxDyn.ActiveArea4vec_eta\n",
      "read branch AnalysisJetsAuxDyn.ActiveArea4vec_m\n",
      "read branch AnalysisJetsAuxDyn.ActiveArea4vec_phi\n",
      "read branch AnalysisJetsAuxDyn.ActiveArea4vec_pt\n",
      "read branch AnalysisJetsAuxDyn.DetectorEta\n",
      "read branch AnalysisJetsAuxDyn.EMFrac\n",
      "read branch AnalysisJetsAuxDyn.JVFCorr\n",
      "read branch AnalysisJetsAuxDyn.Timing\n",
      "read branch AnalysisJetsAuxDyn.NumTrkPt1000\n",
      "read branch AnalysisJetsAuxDyn.NumTrkPt500\n",
      "read branch AnalysisJetsAuxDyn.EnergyPerSampling\n",
      "read branch AnalysisJetsAuxDyn.SumPtChargedPFOPt500\n",
      "cannot read branch AnalysisJetsAuxDyn.SumPtTrkPt500\n",
      "cannot read branch AnalysisJetsAuxDyn.TrackWidthPt1000\n",
      "read branch AnalysisJetsAuxDyn.PSFrac\n",
      "cannot read branch AnalysisJetsAuxDyn.Width\n",
      "read branch AnalysisJetsAuxDyn.DFCommonJets_fJvt\n",
      "read branch AnalysisJetsAuxDyn.HadronConeExclTruthLabelID\n",
      "read branch AnalysisJetsAuxDyn.HadronConeExclExtendedTruthLabelID\n",
      "read branch AnalysisJetsAuxDyn.isJvtHS\n",
      "cannot read branch AnalysisJetsAuxDyn.GhostTrack\n",
      "read branch AnalysisJetsAuxDyn.PartonTruthLabelID\n",
      "read branch AnalysisJetsAuxDyn.ConeTruthLabelID\n",
      "read branch AnalysisJetsAuxDyn.GhostMuonSegmentCount\n",
      "read branch AnalysisJetsAuxDyn.DFCommonJets_QGTagger_NTracks\n",
      "read branch AnalysisJetsAuxDyn.DFCommonJets_QGTagger_TracksWidth\n",
      "read branch AnalysisJetsAuxDyn.DFCommonJets_QGTagger_TracksC1\n",
      "read branch AnalysisJetsAuxDyn.NNJvtPass\n",
      "read branch AnalysisMuonsAuxDyn.pt\n",
      "read branch AnalysisMuonsAuxDyn.eta\n",
      "read branch AnalysisMuonsAuxDyn.phi\n",
      "read branch AnalysisMuonsAuxDyn.muonSegmentLinks\n",
      "read branch AnalysisMuonsAuxDyn.charge\n",
      "read branch AnalysisMuonsAuxDyn.ptcone20\n",
      "read branch AnalysisMuonsAuxDyn.ptvarcone20\n",
      "read branch AnalysisMuonsAuxDyn.ptcone30\n",
      "read branch AnalysisMuonsAuxDyn.ptvarcone30\n",
      "read branch AnalysisMuonsAuxDyn.topoetcone20\n",
      "read branch AnalysisMuonsAuxDyn.topoetcone40\n",
      "read branch AnalysisMuonsAuxDyn.EnergyLoss\n",
      "read branch AnalysisMuonsAuxDyn.MuonSpectrometerPt\n",
      "read branch AnalysisMuonsAuxDyn.InnerDetectorPt\n",
      "read branch AnalysisMuonsAuxDyn.etaLayer1STGCHits\n",
      "read branch AnalysisMuonsAuxDyn.etaLayer2STGCHits\n",
      "read branch AnalysisMuonsAuxDyn.MMHits\n",
      "read branch AnalysisMuonsAuxDyn.truthType\n",
      "read branch AnalysisMuonsAuxDyn.truthOrigin\n",
      "read branch AnalysisMuonsAuxDyn.truthParticleLink\n",
      "read branch AnalysisMuonsAuxDyn.truthParticleLink/AnalysisMuonsAuxDyn.truthParticleLink.m_persKey\n",
      "read branch AnalysisMuonsAuxDyn.truthParticleLink/AnalysisMuonsAuxDyn.truthParticleLink.m_persIndex\n",
      "read branch AnalysisMuonsAuxDyn.momentumBalanceSignificance\n",
      "read branch AnalysisMuonsAuxDyn.scatteringNeighbourSignificance\n",
      "read branch AnalysisMuonsAuxDyn.segmentDeltaEta\n",
      "read branch AnalysisMuonsAuxDyn.CaloMuonScore\n",
      "read branch AnalysisMuonsAuxDyn.ptvarcone30_Nonprompt_All_MaxWeightTTVA_pt500\n",
      "read branch AnalysisMuonsAuxDyn.neflowisol20\n",
      "read branch AnalysisMuonsAuxDyn.ptvarcone30_Nonprompt_All_MaxWeightTTVA_pt1000\n",
      "read branch AnalysisMuonsAuxDyn.topoetcone20_CloseByCorr\n",
      "read branch AnalysisMuonsAuxDyn.ptvarcone30_Nonprompt_All_MaxWeightTTVA_pt500_CloseByCorr\n",
      "read branch AnalysisMuonsAuxDyn.neflowisol20_CloseByCorr\n",
      "read branch AnalysisMuonsAuxDyn.ptvarcone30_Nonprompt_All_MaxWeightTTVA_pt1000_CloseByCorr\n",
      "read branch AnalysisMuonsAuxDyn.TruthLink\n",
      "read branch AnalysisMuonsAuxDyn.TruthLink/AnalysisMuonsAuxDyn.TruthLink.m_persKey\n",
      "read branch AnalysisMuonsAuxDyn.TruthLink/AnalysisMuonsAuxDyn.TruthLink.m_persIndex\n",
      "read branch AnalysisMuonsAuxDyn.author\n",
      "read branch AnalysisMuonsAuxDyn.topoetcone30\n",
      "read branch AnalysisMuonsAuxDyn.allAuthors\n",
      "read branch AnalysisMuonsAuxDyn.muonType\n",
      "read branch AnalysisMuonsAuxDyn.quality\n",
      "read branch AnalysisMuonsAuxDyn.energyLossType\n",
      "read branch AnalysisMuonsAuxDyn.numberOfPrecisionLayers\n",
      "read branch AnalysisMuonsAuxDyn.numberOfPrecisionHoleLayers\n",
      "read branch AnalysisMuonsAuxDyn.innerSmallHits\n",
      "read branch AnalysisMuonsAuxDyn.innerLargeHits\n",
      "read branch AnalysisMuonsAuxDyn.middleSmallHits\n",
      "read branch AnalysisMuonsAuxDyn.middleLargeHits\n",
      "read branch AnalysisMuonsAuxDyn.outerSmallHits\n",
      "read branch AnalysisMuonsAuxDyn.outerLargeHits\n",
      "read branch AnalysisMuonsAuxDyn.extendedSmallHits\n",
      "read branch AnalysisMuonsAuxDyn.extendedLargeHits\n",
      "read branch AnalysisMuonsAuxDyn.innerSmallHoles\n",
      "read branch AnalysisMuonsAuxDyn.innerLargeHoles\n",
      "read branch AnalysisMuonsAuxDyn.middleSmallHoles\n",
      "read branch AnalysisMuonsAuxDyn.middleLargeHoles\n",
      "read branch AnalysisMuonsAuxDyn.outerSmallHoles\n",
      "read branch AnalysisMuonsAuxDyn.outerLargeHoles\n",
      "read branch AnalysisMuonsAuxDyn.extendedSmallHoles\n",
      "read branch AnalysisMuonsAuxDyn.extendedLargeHoles\n",
      "read branch AnalysisMuonsAuxDyn.phiLayer1STGCHits\n",
      "read branch AnalysisMuonsAuxDyn.phiLayer2STGCHits\n",
      "read branch AnalysisMuonsAuxDyn.inDetTrackParticleLink\n",
      "read branch AnalysisMuonsAuxDyn.inDetTrackParticleLink/AnalysisMuonsAuxDyn.inDetTrackParticleLink.m_persKey\n",
      "read branch AnalysisMuonsAuxDyn.inDetTrackParticleLink/AnalysisMuonsAuxDyn.inDetTrackParticleLink.m_persIndex\n",
      "read branch AnalysisMuonsAuxDyn.muonSpectrometerTrackParticleLink\n",
      "read branch AnalysisMuonsAuxDyn.muonSpectrometerTrackParticleLink/AnalysisMuonsAuxDyn.muonSpectrometerTrackParticleLink.m_persKey\n",
      "read branch AnalysisMuonsAuxDyn.muonSpectrometerTrackParticleLink/AnalysisMuonsAuxDyn.muonSpectrometerTrackParticleLink.m_persIndex\n",
      "read branch AnalysisMuonsAuxDyn.extrapolatedMuonSpectrometerTrackParticleLink\n",
      "read branch AnalysisMuonsAuxDyn.extrapolatedMuonSpectrometerTrackParticleLink/AnalysisMuonsAuxDyn.extrapolatedMuonSpectrometerTrackParticleLink.m_persKey\n",
      "read branch AnalysisMuonsAuxDyn.extrapolatedMuonSpectrometerTrackParticleLink/AnalysisMuonsAuxDyn.extrapolatedMuonSpectrometerTrackParticleLink.m_persIndex\n",
      "read branch AnalysisMuonsAuxDyn.msOnlyExtrapolatedMuonSpectrometerTrackParticleLink\n",
      "read branch AnalysisMuonsAuxDyn.msOnlyExtrapolatedMuonSpectrometerTrackParticleLink/AnalysisMuonsAuxDyn.msOnlyExtrapolatedMuonSpectrometerTrackParticleLink.m_persKey\n",
      "read branch AnalysisMuonsAuxDyn.msOnlyExtrapolatedMuonSpectrometerTrackParticleLink/AnalysisMuonsAuxDyn.msOnlyExtrapolatedMuonSpectrometerTrackParticleLink.m_persIndex\n",
      "read branch AnalysisMuonsAuxDyn.combinedTrackParticleLink\n",
      "read branch AnalysisMuonsAuxDyn.combinedTrackParticleLink/AnalysisMuonsAuxDyn.combinedTrackParticleLink.m_persKey\n",
      "read branch AnalysisMuonsAuxDyn.combinedTrackParticleLink/AnalysisMuonsAuxDyn.combinedTrackParticleLink.m_persIndex\n",
      "read branch AnalysisMuonsAuxDyn.clusterLink\n",
      "read branch AnalysisMuonsAuxDyn.clusterLink/AnalysisMuonsAuxDyn.clusterLink.m_persKey\n",
      "read branch AnalysisMuonsAuxDyn.clusterLink/AnalysisMuonsAuxDyn.clusterLink.m_persIndex\n",
      "read branch AnalysisMuonsAuxDyn.spectrometerFieldIntegral\n",
      "read branch AnalysisMuonsAuxDyn.scatteringCurvatureSignificance\n",
      "read branch AnalysisMuonsAuxDyn.CaloLRLikelihood\n",
      "read branch AnalysisMuonsAuxDyn.CaloMuonIDTag\n",
      "read branch AnalysisMuonsAuxDyn.combinedTrackOutBoundsPrecisionHits\n",
      "read branch AnalysisMuonsAuxDyn.extendedClosePrecisionHits\n",
      "read branch AnalysisMuonsAuxDyn.extendedOutBoundsPrecisionHits\n",
      "read branch AnalysisMuonsAuxDyn.innerClosePrecisionHits\n",
      "read branch AnalysisMuonsAuxDyn.innerOutBoundsPrecisionHits\n",
      "read branch AnalysisMuonsAuxDyn.isEndcapGoodLayers\n",
      "read branch AnalysisMuonsAuxDyn.isSmallGoodSectors\n",
      "read branch AnalysisMuonsAuxDyn.middleClosePrecisionHits\n",
      "read branch AnalysisMuonsAuxDyn.middleOutBoundsPrecisionHits\n",
      "read branch AnalysisMuonsAuxDyn.numberOfGoodPrecisionLayers\n",
      "read branch AnalysisMuonsAuxDyn.outerClosePrecisionHits\n",
      "read branch AnalysisMuonsAuxDyn.outerOutBoundsPrecisionHits\n",
      "read branch AnalysisMuonsAuxDyn.ptcone40\n",
      "read branch AnalysisMuonsAuxDyn.ptvarcone40\n",
      "read branch AnalysisMuonsAuxDyn.DFCommonMuonPassIDCuts\n",
      "read branch AnalysisMuonsAuxDyn.DFCommonMuonPassPreselection\n",
      "read branch AnalysisMuonsAuxDyn.ptcone20_Nonprompt_All_MaxWeightTTVA_pt500\n",
      "read branch AnalysisMuonsAuxDyn.ptcone20_Nonprompt_All_MaxWeightTTVA_pt1000\n",
      "read branch AnalysisMuonsAuxDyn.DFCommonJetDr\n",
      "read branch AnalysisElectronsAuxDyn.trackParticleLinks\n",
      "read branch AnalysisElectronsAuxDyn.ambiguityLink\n",
      "read branch AnalysisElectronsAuxDyn.ambiguityLink/AnalysisElectronsAuxDyn.ambiguityLink.m_persKey\n",
      "read branch AnalysisElectronsAuxDyn.ambiguityLink/AnalysisElectronsAuxDyn.ambiguityLink.m_persIndex\n",
      "read branch AnalysisElectronsAuxDyn.pt\n",
      "read branch AnalysisElectronsAuxDyn.eta\n",
      "read branch AnalysisElectronsAuxDyn.phi\n",
      "read branch AnalysisElectronsAuxDyn.m\n",
      "read branch AnalysisElectronsAuxDyn.charge\n",
      "read branch AnalysisElectronsAuxDyn.topoetcone20\n",
      "read branch AnalysisElectronsAuxDyn.f1\n",
      "read branch AnalysisElectronsAuxDyn.truthType\n",
      "read branch AnalysisElectronsAuxDyn.truthOrigin\n",
      "read branch AnalysisElectronsAuxDyn.truthParticleLink\n",
      "read branch AnalysisElectronsAuxDyn.truthParticleLink/AnalysisElectronsAuxDyn.truthParticleLink.m_persKey\n",
      "read branch AnalysisElectronsAuxDyn.truthParticleLink/AnalysisElectronsAuxDyn.truthParticleLink.m_persIndex\n",
      "read branch AnalysisElectronsAuxDyn.neflowisol20\n",
      "read branch AnalysisElectronsAuxDyn.ptvarcone30_Nonprompt_All_MaxWeightTTVALooseCone_pt1000\n",
      "read branch AnalysisElectronsAuxDyn.ptcone20_Nonprompt_All_MaxWeightTTVALooseCone_pt1000\n",
      "read branch AnalysisElectronsAuxDyn.ptvarcone30_Nonprompt_All_MaxWeightTTVALooseCone_pt1000_CloseByCorr\n",
      "read branch AnalysisElectronsAuxDyn.topoetcone20_CloseByCorr\n",
      "read branch AnalysisElectronsAuxDyn.ptcone20_Nonprompt_All_MaxWeightTTVALooseCone_pt1000_CloseByCorr\n",
      "read branch AnalysisElectronsAuxDyn.DFCommonElectronsLHLoose\n",
      "read branch AnalysisElectronsAuxDyn.DFCommonElectronsLHLooseBLIsEMValue\n",
      "read branch AnalysisElectronsAuxDyn.TruthLink\n",
      "read branch AnalysisElectronsAuxDyn.TruthLink/AnalysisElectronsAuxDyn.TruthLink.m_persKey\n",
      "read branch AnalysisElectronsAuxDyn.TruthLink/AnalysisElectronsAuxDyn.TruthLink.m_persIndex\n",
      "read branch AnalysisElectronsAuxDyn.caloClusterLinks\n",
      "read branch AnalysisElectronsAuxDyn.author\n",
      "read branch AnalysisElectronsAuxDyn.OQ\n",
      "read branch AnalysisElectronsAuxDyn.ambiguityType\n",
      "read branch AnalysisElectronsAuxDyn.topoetcone20ptCorrection\n",
      "read branch AnalysisElectronsAuxDyn.ptcone20_Nonprompt_All_MaxWeightTTVALooseCone_pt500\n",
      "read branch AnalysisElectronsAuxDyn.ptvarcone30_Nonprompt_All_MaxWeightTTVALooseCone_pt500\n",
      "read branch AnalysisElectronsAuxDyn.DFCommonElectronsLHVeryLoose\n",
      "read branch AnalysisElectronsAuxDyn.DFCommonElectronsLHVeryLooseIsEMValue\n",
      "read branch AnalysisElectronsAuxDyn.DFCommonElectronsLHLooseIsEMValue\n",
      "read branch AnalysisElectronsAuxDyn.DFCommonElectronsLHLooseBL\n",
      "read branch AnalysisElectronsAuxDyn.DFCommonElectronsLHMedium\n",
      "read branch AnalysisElectronsAuxDyn.DFCommonElectronsLHMediumIsEMValue\n",
      "read branch AnalysisElectronsAuxDyn.DFCommonElectronsLHTight\n",
      "read branch AnalysisElectronsAuxDyn.DFCommonElectronsLHTightIsEMValue\n",
      "read branch AnalysisElectronsAuxDyn.DFCommonElectronsECIDS\n",
      "read branch AnalysisElectronsAuxDyn.DFCommonElectronsECIDSResult\n",
      "read branch AnalysisElectronsAuxDyn.truthPdgId\n",
      "read branch AnalysisElectronsAuxDyn.firstEgMotherTruthType\n",
      "read branch AnalysisElectronsAuxDyn.firstEgMotherTruthOrigin\n",
      "read branch AnalysisElectronsAuxDyn.firstEgMotherPdgId\n",
      "read branch AnalysisElectronsAuxDyn.firstEgMotherTruthParticleLink\n",
      "read branch AnalysisElectronsAuxDyn.firstEgMotherTruthParticleLink/AnalysisElectronsAuxDyn.firstEgMotherTruthParticleLink.m_persKey\n",
      "read branch AnalysisElectronsAuxDyn.firstEgMotherTruthParticleLink/AnalysisElectronsAuxDyn.firstEgMotherTruthParticleLink.m_persIndex\n"
     ]
    },
    {
     "data": {
      "text/plain": [
       "{'AnalysisJetsAuxDyn.pt': 1.2115909999999999,\n",
       " 'AnalysisJetsAuxDyn.eta': 1.2643980000000004,\n",
       " 'AnalysisJetsAuxDyn.phi': 1.2587349999999997,\n",
       " 'AnalysisJetsAuxDyn.m': 1.194972,\n",
       " 'AnalysisJetsAuxDyn.JetConstitScaleMomentum_pt': 1.2220149999999999,\n",
       " 'AnalysisJetsAuxDyn.JetConstitScaleMomentum_eta': 1.2667650000000004,\n",
       " 'AnalysisJetsAuxDyn.JetConstitScaleMomentum_phi': 1.260966999999999,\n",
       " 'AnalysisJetsAuxDyn.JetConstitScaleMomentum_m': 1.2342960000000005,\n",
       " 'AnalysisJetsAuxDyn.btaggingLink': 0.3213790000000003,\n",
       " 'AnalysisJetsAuxDyn.btaggingLink/AnalysisJetsAuxDyn.btaggingLink.m_persKey': 0.09002199999999938,\n",
       " 'AnalysisJetsAuxDyn.btaggingLink/AnalysisJetsAuxDyn.btaggingLink.m_persIndex': 0.1365690000000015,\n",
       " 'AnalysisJetsAuxDyn.ActiveArea4vec_eta': 1.2656609999999997,\n",
       " 'AnalysisJetsAuxDyn.ActiveArea4vec_m': 1.1722640000000002,\n",
       " 'AnalysisJetsAuxDyn.ActiveArea4vec_phi': 1.2603269999999984,\n",
       " 'AnalysisJetsAuxDyn.ActiveArea4vec_pt': 1.1586070000000017,\n",
       " 'AnalysisJetsAuxDyn.DetectorEta': 1.2652719999999995,\n",
       " 'AnalysisJetsAuxDyn.EMFrac': 1.214141999999999,\n",
       " 'AnalysisJetsAuxDyn.JVFCorr': 0.966545,\n",
       " 'AnalysisJetsAuxDyn.Timing': 1.2799770000000024,\n",
       " 'AnalysisJetsAuxDyn.NumTrkPt1000': 2.002360999999997,\n",
       " 'AnalysisJetsAuxDyn.NumTrkPt500': 2.7329240000000006,\n",
       " 'AnalysisJetsAuxDyn.EnergyPerSampling': 8.673862000000003,\n",
       " 'AnalysisJetsAuxDyn.SumPtChargedPFOPt500': 1.6784619999999961,\n",
       " 'AnalysisJetsAuxDyn.PSFrac': 13.846266,\n",
       " 'AnalysisJetsAuxDyn.DFCommonJets_fJvt': 0.3744009999999989,\n",
       " 'AnalysisJetsAuxDyn.HadronConeExclTruthLabelID': 0.242163000000005,\n",
       " 'AnalysisJetsAuxDyn.HadronConeExclExtendedTruthLabelID': 0.24375999999999465,\n",
       " 'AnalysisJetsAuxDyn.isJvtHS': 0.19080800000000409,\n",
       " 'AnalysisJetsAuxDyn.PartonTruthLabelID': 0.3302789999999973,\n",
       " 'AnalysisJetsAuxDyn.ConeTruthLabelID': 0.2426850000000016,\n",
       " 'AnalysisJetsAuxDyn.GhostMuonSegmentCount': 0.21068400000000054,\n",
       " 'AnalysisJetsAuxDyn.DFCommonJets_QGTagger_NTracks': 0.37504599999999755,\n",
       " 'AnalysisJetsAuxDyn.DFCommonJets_QGTagger_TracksWidth': 1.0341590000000025,\n",
       " 'AnalysisJetsAuxDyn.DFCommonJets_QGTagger_TracksC1': 0.96096,\n",
       " 'AnalysisJetsAuxDyn.NNJvtPass': 0.1491669999999985,\n",
       " 'AnalysisMuonsAuxDyn.pt': 0.20584000000000202,\n",
       " 'AnalysisMuonsAuxDyn.eta': 0.2100069999999974,\n",
       " 'AnalysisMuonsAuxDyn.phi': 0.2099630000000019,\n",
       " 'AnalysisMuonsAuxDyn.muonSegmentLinks': 0.1774429999999967,\n",
       " 'AnalysisMuonsAuxDyn.charge': 0.11609700000000345,\n",
       " 'AnalysisMuonsAuxDyn.ptcone20': 0.16466400000000192,\n",
       " 'AnalysisMuonsAuxDyn.ptvarcone20': 0.16414899999999477,\n",
       " 'AnalysisMuonsAuxDyn.ptcone30': 0.17365000000000208,\n",
       " 'AnalysisMuonsAuxDyn.ptvarcone30': 0.17087000000000074,\n",
       " 'AnalysisMuonsAuxDyn.topoetcone20': 0.2123319999999964,\n",
       " 'AnalysisMuonsAuxDyn.topoetcone40': 0.2121920000000017,\n",
       " 'AnalysisMuonsAuxDyn.EnergyLoss': 0.19895600000000258,\n",
       " 'AnalysisMuonsAuxDyn.MuonSpectrometerPt': 0.20696099999999973,\n",
       " 'AnalysisMuonsAuxDyn.InnerDetectorPt': 0.20784199999999942,\n",
       " 'AnalysisMuonsAuxDyn.etaLayer1STGCHits': 0.11702999999999975,\n",
       " 'AnalysisMuonsAuxDyn.etaLayer2STGCHits': 0.11655400000000071,\n",
       " 'AnalysisMuonsAuxDyn.MMHits': 0.11529800000000279,\n",
       " 'AnalysisMuonsAuxDyn.truthType': 0.1159319999999937,\n",
       " 'AnalysisMuonsAuxDyn.truthOrigin': 0.12097500000000139,\n",
       " 'AnalysisMuonsAuxDyn.truthParticleLink': 0.20144799999999918,\n",
       " 'AnalysisMuonsAuxDyn.truthParticleLink/AnalysisMuonsAuxDyn.truthParticleLink.m_persKey': 0.05707400000000007,\n",
       " 'AnalysisMuonsAuxDyn.truthParticleLink/AnalysisMuonsAuxDyn.truthParticleLink.m_persIndex': 0.06299300000000585,\n",
       " 'AnalysisMuonsAuxDyn.momentumBalanceSignificance': 0.21437199999999734,\n",
       " 'AnalysisMuonsAuxDyn.scatteringNeighbourSignificance': 0.2125210000000024,\n",
       " 'AnalysisMuonsAuxDyn.segmentDeltaEta': 0.11710499999999513,\n",
       " 'AnalysisMuonsAuxDyn.CaloMuonScore': 0.14887699999999882,\n",
       " 'AnalysisMuonsAuxDyn.ptvarcone30_Nonprompt_All_MaxWeightTTVA_pt500': 0.18327900000000596,\n",
       " 'AnalysisMuonsAuxDyn.neflowisol20': 0.21135499999999752,\n",
       " 'AnalysisMuonsAuxDyn.ptvarcone30_Nonprompt_All_MaxWeightTTVA_pt1000': 0.17516200000000026,\n",
       " 'AnalysisMuonsAuxDyn.topoetcone20_CloseByCorr': 0.2138259999999974,\n",
       " 'AnalysisMuonsAuxDyn.ptvarcone30_Nonprompt_All_MaxWeightTTVA_pt500_CloseByCorr': 0.18432500000000118,\n",
       " 'AnalysisMuonsAuxDyn.neflowisol20_CloseByCorr': 0.21253200000000305,\n",
       " 'AnalysisMuonsAuxDyn.ptvarcone30_Nonprompt_All_MaxWeightTTVA_pt1000_CloseByCorr': 0.1762899999999945,\n",
       " 'AnalysisMuonsAuxDyn.TruthLink': 0.2009040000000013,\n",
       " 'AnalysisMuonsAuxDyn.TruthLink/AnalysisMuonsAuxDyn.TruthLink.m_persKey': 0.0575019999999995,\n",
       " 'AnalysisMuonsAuxDyn.TruthLink/AnalysisMuonsAuxDyn.TruthLink.m_persIndex': 0.062693000000003,\n",
       " 'AnalysisMuonsAuxDyn.author': 0.10706299999999658,\n",
       " 'AnalysisMuonsAuxDyn.topoetcone30': 0.21227500000000532,\n",
       " 'AnalysisMuonsAuxDyn.allAuthors': 0.1167209999999983,\n",
       " 'AnalysisMuonsAuxDyn.muonType': 0.1048849999999959,\n",
       " 'AnalysisMuonsAuxDyn.quality': 0.1100630000000038,\n",
       " 'AnalysisMuonsAuxDyn.energyLossType': 0.11367599999999811,\n",
       " 'AnalysisMuonsAuxDyn.numberOfPrecisionLayers': 0.11660600000000443,\n",
       " 'AnalysisMuonsAuxDyn.numberOfPrecisionHoleLayers': 0.11066099999999324,\n",
       " 'AnalysisMuonsAuxDyn.innerSmallHits': 0.12246200000000584,\n",
       " 'AnalysisMuonsAuxDyn.innerLargeHits': 0.12680399999999992,\n",
       " 'AnalysisMuonsAuxDyn.middleSmallHits': 0.11865999999999843,\n",
       " 'AnalysisMuonsAuxDyn.middleLargeHits': 0.12227500000000191,\n",
       " 'AnalysisMuonsAuxDyn.outerSmallHits': 0.11786499999999478,\n",
       " 'AnalysisMuonsAuxDyn.outerLargeHits': 0.12126100000000406,\n",
       " 'AnalysisMuonsAuxDyn.extendedSmallHits': 0.11099799999999505,\n",
       " 'AnalysisMuonsAuxDyn.extendedLargeHits': 0.11077300000000179,\n",
       " 'AnalysisMuonsAuxDyn.innerSmallHoles': 0.1105930000000015,\n",
       " 'AnalysisMuonsAuxDyn.innerLargeHoles': 0.11237400000000264,\n",
       " 'AnalysisMuonsAuxDyn.middleSmallHoles': 0.10857299999999981,\n",
       " 'AnalysisMuonsAuxDyn.middleLargeHoles': 0.10865899999999584,\n",
       " 'AnalysisMuonsAuxDyn.outerSmallHoles': 0.10809800000000536,\n",
       " 'AnalysisMuonsAuxDyn.outerLargeHoles': 0.10819899999999905,\n",
       " 'AnalysisMuonsAuxDyn.extendedSmallHoles': 0.10792399999999702,\n",
       " 'AnalysisMuonsAuxDyn.extendedLargeHoles': 0.10792700000000366,\n",
       " 'AnalysisMuonsAuxDyn.phiLayer1STGCHits': 0.11710300000000018,\n",
       " 'AnalysisMuonsAuxDyn.phiLayer2STGCHits': 0.11676299999999884,\n",
       " 'AnalysisMuonsAuxDyn.inDetTrackParticleLink': 0.2116839999999982,\n",
       " 'AnalysisMuonsAuxDyn.inDetTrackParticleLink/AnalysisMuonsAuxDyn.inDetTrackParticleLink.m_persKey': 0.05205999999999733,\n",
       " 'AnalysisMuonsAuxDyn.inDetTrackParticleLink/AnalysisMuonsAuxDyn.inDetTrackParticleLink.m_persIndex': 0.07783700000000238,\n",
       " 'AnalysisMuonsAuxDyn.muonSpectrometerTrackParticleLink': 0.2067389999999989,\n",
       " 'AnalysisMuonsAuxDyn.muonSpectrometerTrackParticleLink/AnalysisMuonsAuxDyn.muonSpectrometerTrackParticleLink.m_persKey': 0.05855900000000247,\n",
       " 'AnalysisMuonsAuxDyn.muonSpectrometerTrackParticleLink/AnalysisMuonsAuxDyn.muonSpectrometerTrackParticleLink.m_persIndex': 0.06550800000000123,\n",
       " 'AnalysisMuonsAuxDyn.extrapolatedMuonSpectrometerTrackParticleLink': 0.20557000000000158,\n",
       " 'AnalysisMuonsAuxDyn.extrapolatedMuonSpectrometerTrackParticleLink/AnalysisMuonsAuxDyn.extrapolatedMuonSpectrometerTrackParticleLink.m_persKey': 0.057395999999997116,\n",
       " 'AnalysisMuonsAuxDyn.extrapolatedMuonSpectrometerTrackParticleLink/AnalysisMuonsAuxDyn.extrapolatedMuonSpectrometerTrackParticleLink.m_persIndex': 0.06455499999999859,\n",
       " 'AnalysisMuonsAuxDyn.msOnlyExtrapolatedMuonSpectrometerTrackParticleLink': 0.21185300000000495,\n",
       " 'AnalysisMuonsAuxDyn.msOnlyExtrapolatedMuonSpectrometerTrackParticleLink/AnalysisMuonsAuxDyn.msOnlyExtrapolatedMuonSpectrometerTrackParticleLink.m_persKey': 0.061369999999996594,\n",
       " 'AnalysisMuonsAuxDyn.msOnlyExtrapolatedMuonSpectrometerTrackParticleLink/AnalysisMuonsAuxDyn.msOnlyExtrapolatedMuonSpectrometerTrackParticleLink.m_persIndex': 0.06593300000000113,\n",
       " 'AnalysisMuonsAuxDyn.combinedTrackParticleLink': 0.19892299999999352,\n",
       " 'AnalysisMuonsAuxDyn.combinedTrackParticleLink/AnalysisMuonsAuxDyn.combinedTrackParticleLink.m_persKey': 0.05396600000000262,\n",
       " 'AnalysisMuonsAuxDyn.combinedTrackParticleLink/AnalysisMuonsAuxDyn.combinedTrackParticleLink.m_persIndex': 0.0629470000000083,\n",
       " 'AnalysisMuonsAuxDyn.clusterLink': 0.19392299999999807,\n",
       " 'AnalysisMuonsAuxDyn.clusterLink/AnalysisMuonsAuxDyn.clusterLink.m_persKey': 0.05102499999999566,\n",
       " 'AnalysisMuonsAuxDyn.clusterLink/AnalysisMuonsAuxDyn.clusterLink.m_persIndex': 0.06152699999999811,\n",
       " 'AnalysisMuonsAuxDyn.spectrometerFieldIntegral': 0.20043900000000292,\n",
       " 'AnalysisMuonsAuxDyn.scatteringCurvatureSignificance': 0.21277299999999855,\n",
       " 'AnalysisMuonsAuxDyn.CaloLRLikelihood': 0.10719000000000278,\n",
       " 'AnalysisMuonsAuxDyn.CaloMuonIDTag': 0.12076299999999662,\n",
       " 'AnalysisMuonsAuxDyn.combinedTrackOutBoundsPrecisionHits': 0.11005500000000268,\n",
       " 'AnalysisMuonsAuxDyn.extendedClosePrecisionHits': 0.11136299999999721,\n",
       " 'AnalysisMuonsAuxDyn.extendedOutBoundsPrecisionHits': 0.10935800000000029,\n",
       " 'AnalysisMuonsAuxDyn.innerClosePrecisionHits': 0.1196599999999961,\n",
       " 'AnalysisMuonsAuxDyn.innerOutBoundsPrecisionHits': 0.10897500000000093,\n",
       " 'AnalysisMuonsAuxDyn.isEndcapGoodLayers': 0.11444400000000599,\n",
       " 'AnalysisMuonsAuxDyn.isSmallGoodSectors': 0.11417699999999797,\n",
       " 'AnalysisMuonsAuxDyn.middleClosePrecisionHits': 0.1201640000000026,\n",
       " 'AnalysisMuonsAuxDyn.middleOutBoundsPrecisionHits': 0.10913200000000245,\n",
       " 'AnalysisMuonsAuxDyn.numberOfGoodPrecisionLayers': 0.11729799999999102,\n",
       " 'AnalysisMuonsAuxDyn.outerClosePrecisionHits': 0.1185130000000072,\n",
       " 'AnalysisMuonsAuxDyn.outerOutBoundsPrecisionHits': 0.10896999999999935,\n",
       " 'AnalysisMuonsAuxDyn.ptcone40': 0.18111499999999126,\n",
       " 'AnalysisMuonsAuxDyn.ptvarcone40': 0.1746180000000095,\n",
       " 'AnalysisMuonsAuxDyn.DFCommonMuonPassIDCuts': 0.10884000000000071,\n",
       " 'AnalysisMuonsAuxDyn.DFCommonMuonPassPreselection': 0.10969999999998947,\n",
       " 'AnalysisMuonsAuxDyn.ptcone20_Nonprompt_All_MaxWeightTTVA_pt500': 0.1761979999999994,\n",
       " 'AnalysisMuonsAuxDyn.ptcone20_Nonprompt_All_MaxWeightTTVA_pt1000': 0.16937300000000732,\n",
       " 'AnalysisMuonsAuxDyn.DFCommonJetDr': 0.2086180000000013,\n",
       " 'AnalysisElectronsAuxDyn.trackParticleLinks': 0.1461049999999915,\n",
       " 'AnalysisElectronsAuxDyn.ambiguityLink': 0.18963700000000472,\n",
       " 'AnalysisElectronsAuxDyn.ambiguityLink/AnalysisElectronsAuxDyn.ambiguityLink.m_persKey': 0.05334799999999973,\n",
       " 'AnalysisElectronsAuxDyn.ambiguityLink/AnalysisElectronsAuxDyn.ambiguityLink.m_persIndex': 0.0559159999999963,\n",
       " 'AnalysisElectronsAuxDyn.pt': 0.19030600000000675,\n",
       " 'AnalysisElectronsAuxDyn.eta': 0.19342100000000073,\n",
       " 'AnalysisElectronsAuxDyn.phi': 0.19334200000000124,\n",
       " 'AnalysisElectronsAuxDyn.m': 0.10468699999999842,\n",
       " 'AnalysisElectronsAuxDyn.charge': 0.11392899999999884,\n",
       " 'AnalysisElectronsAuxDyn.topoetcone20': 0.195927999999995,\n",
       " 'AnalysisElectronsAuxDyn.f1': 0.18452299999999866,\n",
       " 'AnalysisElectronsAuxDyn.truthType': 0.11739200000000949,\n",
       " 'AnalysisElectronsAuxDyn.truthOrigin': 0.11717699999999809,\n",
       " 'AnalysisElectronsAuxDyn.truthParticleLink': 0.22521799999999814,\n",
       " 'AnalysisElectronsAuxDyn.truthParticleLink/AnalysisElectronsAuxDyn.truthParticleLink.m_persKey': 0.0529070000000047,\n",
       " 'AnalysisElectronsAuxDyn.truthParticleLink/AnalysisElectronsAuxDyn.truthParticleLink.m_persIndex': 0.0916249999999934,\n",
       " 'AnalysisElectronsAuxDyn.neflowisol20': 0.19492700000000696,\n",
       " 'AnalysisElectronsAuxDyn.ptvarcone30_Nonprompt_All_MaxWeightTTVALooseCone_pt1000': 0.15441699999999514,\n",
       " 'AnalysisElectronsAuxDyn.ptcone20_Nonprompt_All_MaxWeightTTVALooseCone_pt1000': 0.14776700000000176,\n",
       " 'AnalysisElectronsAuxDyn.ptvarcone30_Nonprompt_All_MaxWeightTTVALooseCone_pt1000_CloseByCorr': 0.15563999999999112,\n",
       " 'AnalysisElectronsAuxDyn.topoetcone20_CloseByCorr': 0.1972640000000041,\n",
       " 'AnalysisElectronsAuxDyn.ptcone20_Nonprompt_All_MaxWeightTTVALooseCone_pt1000_CloseByCorr': 0.14919600000000344,\n",
       " 'AnalysisElectronsAuxDyn.DFCommonElectronsLHLoose': 0.11137999999999693,\n",
       " 'AnalysisElectronsAuxDyn.DFCommonElectronsLHLooseBLIsEMValue': 0.11498600000000181,\n",
       " 'AnalysisElectronsAuxDyn.TruthLink': 0.1989460000000065,\n",
       " 'AnalysisElectronsAuxDyn.TruthLink/AnalysisElectronsAuxDyn.TruthLink.m_persKey': 0.05762599999999907,\n",
       " 'AnalysisElectronsAuxDyn.TruthLink/AnalysisElectronsAuxDyn.TruthLink.m_persIndex': 0.06128599999999551,\n",
       " 'AnalysisElectronsAuxDyn.caloClusterLinks': 0.1198399999999964,\n",
       " 'AnalysisElectronsAuxDyn.author': 0.1073340000000087,\n",
       " 'AnalysisElectronsAuxDyn.OQ': 0.11662099999999498,\n",
       " 'AnalysisElectronsAuxDyn.ambiguityType': 0.11046699999999987,\n",
       " 'AnalysisElectronsAuxDyn.topoetcone20ptCorrection': 0.19586499999999774,\n",
       " 'AnalysisElectronsAuxDyn.ptcone20_Nonprompt_All_MaxWeightTTVALooseCone_pt500': 0.1560010000000034,\n",
       " 'AnalysisElectronsAuxDyn.ptvarcone30_Nonprompt_All_MaxWeightTTVALooseCone_pt500': 0.16348299999999938,\n",
       " 'AnalysisElectronsAuxDyn.DFCommonElectronsLHVeryLoose': 0.11192099999999527,\n",
       " 'AnalysisElectronsAuxDyn.DFCommonElectronsLHVeryLooseIsEMValue': 0.11316500000000929,\n",
       " 'AnalysisElectronsAuxDyn.DFCommonElectronsLHLooseIsEMValue': 0.11282399999998916,\n",
       " 'AnalysisElectronsAuxDyn.DFCommonElectronsLHLooseBL': 0.11235500000000798,\n",
       " 'AnalysisElectronsAuxDyn.DFCommonElectronsLHMedium': 0.11284899999999709,\n",
       " 'AnalysisElectronsAuxDyn.DFCommonElectronsLHMediumIsEMValue': 0.1163970000000063,\n",
       " 'AnalysisElectronsAuxDyn.DFCommonElectronsLHTight': 0.11272699999999247,\n",
       " 'AnalysisElectronsAuxDyn.DFCommonElectronsLHTightIsEMValue': 0.11788099999999702,\n",
       " 'AnalysisElectronsAuxDyn.DFCommonElectronsECIDS': 0.11187999999999931,\n",
       " 'AnalysisElectronsAuxDyn.DFCommonElectronsECIDSResult': 0.19346900000000744,\n",
       " 'AnalysisElectronsAuxDyn.truthPdgId': 0.12318899999999644,\n",
       " 'AnalysisElectronsAuxDyn.firstEgMotherTruthType': 0.11800399999999911,\n",
       " 'AnalysisElectronsAuxDyn.firstEgMotherTruthOrigin': 0.11662400000000162,\n",
       " 'AnalysisElectronsAuxDyn.firstEgMotherPdgId': 0.11783099999999536,\n",
       " 'AnalysisElectronsAuxDyn.firstEgMotherTruthParticleLink': 0.22419299999999964,\n",
       " 'AnalysisElectronsAuxDyn.firstEgMotherTruthParticleLink/AnalysisElectronsAuxDyn.firstEgMotherTruthParticleLink.m_persKey': 0.057477000000005773,\n",
       " 'AnalysisElectronsAuxDyn.firstEgMotherTruthParticleLink/AnalysisElectronsAuxDyn.firstEgMotherTruthParticleLink.m_persIndex': 0.08500300000000038}"
      ]
     },
     "execution_count": 16,
     "metadata": {},
     "output_type": "execute_result"
    }
   ],
   "source": [
    "fname = \"/data/alheld/200gbps-atlas/mc23_13p6TeV.601229.PhPy8EG_A14_ttbar_hdamp258p75_SingleLep.deriv.DAOD_PHYSLITE.e8514_s4162_r14622_p6026/DAOD_PHYSLITE.37223155._000001.pool.root.1\"\n",
    "t = uproot.open({fname: \"CollectionTree\"})\n",
    "\n",
    "size_per_key_in_MB = {}\n",
    "cur_size_in_MB = t.file.source.num_requested_bytes/1000**2  # non-zero at the start (some metadata read)\n",
    "\n",
    "for key in t.keys():\n",
    "    # if not any([key.startswith(v) for v in [\"AnalysisJetsAuxDyn\", \"AnalysisLargeRJetsAuxDyn\", \"AnalysisElectronsAuxDyn\", \"AnalysisMuonsAuxDyn\", \"AnalysisTauJetsAuxDyn\", \"AnalysisPhotonsAuxDyn\"]]):\n",
    "    #     continue\n",
    "\n",
    "    try:\n",
    "        t.arrays([key])\n",
    "        print(\"read branch\", key)\n",
    "        new_size_in_MB = t.file.source.num_requested_bytes/1000**2\n",
    "        size_per_key_in_MB[key] = new_size_in_MB - cur_size_in_MB\n",
    "        cur_size_in_MB = new_size_in_MB\n",
    "    except:\n",
    "        print(\"cannot read branch\", key)\n",
    "    \n",
    "size_per_key_in_MB"
   ]
  },
  {
   "cell_type": "code",
   "execution_count": 8,
   "id": "51303308-cd1f-46ff-b364-99194873a4a9",
   "metadata": {
    "tags": []
   },
   "outputs": [
    {
     "name": "stdout",
     "output_type": "stream",
     "text": [
      "all branches: 554.5054250000001 MB\n"
     ]
    }
   ],
   "source": [
    "print(f\"all branches: {sum(size_per_key_in_MB.values())} MB\")  # doesn't include initial metadata read"
   ]
  },
  {
   "cell_type": "code",
   "execution_count": 10,
   "id": "c7ce2887-8a56-4bb4-a241-f0aaced6a739",
   "metadata": {
    "tags": []
   },
   "outputs": [
    {
     "data": {
      "text/plain": [
       "554.994903"
      ]
     },
     "execution_count": 10,
     "metadata": {},
     "output_type": "execute_result"
    }
   ],
   "source": [
    "import os\n",
    "file_size = os.path.getsize(fname) / 1000**2\n",
    "file_size"
   ]
  },
  {
   "cell_type": "code",
   "execution_count": 17,
   "id": "95225d3f-e181-49b5-bbdf-fd668cd8ed81",
   "metadata": {
    "tags": []
   },
   "outputs": [
    {
     "data": {
      "text/plain": [
       "1502.043129"
      ]
     },
     "execution_count": 17,
     "metadata": {},
     "output_type": "execute_result"
    }
   ],
   "source": [
    "t.file.source.num_requested_bytes/1000**2"
   ]
  },
  {
   "cell_type": "markdown",
   "id": "7ecfca18-a2eb-4878-a684-95cd600313a2",
   "metadata": {},
   "source": [
    "sanity check: looks like we read pretty much everything, seems good"
   ]
  },
  {
   "cell_type": "code",
   "execution_count": 11,
   "id": "59043702-a944-4a6b-85c3-2edc662bdc0d",
   "metadata": {
    "tags": []
   },
   "outputs": [],
   "source": [
    "import json\n",
    "\n",
    "size_per_key_in_MB[\"_file_size\"] = file_size\n",
    "\n",
    "with open(\"branch_sizes.json\", \"w\") as f:\n",
    "    f.write(json.dumps(size_per_key_in_MB, sort_keys=True, indent=4))"
   ]
  },
  {
   "cell_type": "markdown",
   "id": "0ff44cf8-b1f1-4cff-898a-d8f4b4082c19",
   "metadata": {},
   "source": [
    "## sort branches, find branches to hit 10% read"
   ]
  },
  {
   "cell_type": "code",
   "execution_count": 47,
   "id": "e9488120-4dc6-4725-ad82-69285e0f4dba",
   "metadata": {
    "tags": []
   },
   "outputs": [
    {
     "name": "stdout",
     "output_type": "stream",
     "text": [
      "AnalysisJetsAuxDyn.EnergyPerSampling: 1.56%\n",
      "AnalysisJetsAuxDyn.SumPtTrkPt500: 1.49%\n",
      "AnalysisJetsAuxDyn.TrackWidthPt1000: 0.83%\n",
      "AnalysisJetsAuxDyn.NumTrkPt500: 0.49%\n",
      "AnalysisJetsAuxDyn.NumTrkPt1000: 0.36%\n",
      "AnalysisJetsAuxDyn.SumPtChargedPFOPt500: 0.30%\n",
      "AnalysisJetsAuxDyn.Timing: 0.23%\n",
      "AnalysisJetsAuxDyn.JetConstitScaleMomentum_eta: 0.23%\n",
      "AnalysisJetsAuxDyn.ActiveArea4vec_eta: 0.23%\n",
      "AnalysisJetsAuxDyn.DetectorEta: 0.23%\n",
      "AnalysisJetsAuxDyn.eta: 0.23%\n",
      "AnalysisJetsAuxDyn.JetConstitScaleMomentum_phi: 0.23%\n",
      "AnalysisJetsAuxDyn.ActiveArea4vec_phi: 0.23%\n",
      "AnalysisJetsAuxDyn.phi: 0.23%\n",
      "AnalysisJetsAuxDyn.JetConstitScaleMomentum_m: 0.22%\n",
      "AnalysisJetsAuxDyn.JetConstitScaleMomentum_pt: 0.22%\n",
      "AnalysisJetsAuxDyn.Width: 0.22%\n",
      "AnalysisJetsAuxDyn.EMFrac: 0.22%\n",
      "AnalysisJetsAuxDyn.pt: 0.22%\n",
      "AnalysisJetsAuxDyn.m: 0.22%\n",
      "AnalysisJetsAuxDyn.ActiveArea4vec_m: 0.21%\n",
      "AnalysisJetsAuxDyn.ActiveArea4vec_pt: 0.21%\n",
      "AnalysisJetsAuxDyn.DFCommonJets_QGTagger_TracksWidth: 0.19%\n",
      "AnalysisJetsAuxDyn.JVFCorr: 0.17%\n",
      "AnalysisJetsAuxDyn.DFCommonJets_QGTagger_TracksC1: 0.17%\n",
      "AnalysisJetsAuxDyn.PSFrac: 0.17%\n",
      "AnalysisJetsAuxDyn.DFCommonJets_QGTagger_NTracks: 0.07%\n",
      "AnalysisJetsAuxDyn.DFCommonJets_fJvt: 0.07%\n",
      "AnalysisJetsAuxDyn.PartonTruthLabelID: 0.06%\n",
      "AnalysisJetsAuxDyn.HadronConeExclExtendedTruthLabelID: 0.04%\n",
      "AnalysisJetsAuxDyn.ConeTruthLabelID: 0.04%\n",
      "AnalysisJetsAuxDyn.HadronConeExclTruthLabelID: 0.04%\n",
      "AnalysisElectronsAuxDyn.truthParticleLink: 0.04%\n",
      "AnalysisElectronsAuxDyn.firstEgMotherTruthParticleLink: 0.04%\n",
      "AnalysisMuonsAuxDyn.momentumBalanceSignificance: 0.04%\n",
      "AnalysisMuonsAuxDyn.topoetcone20_CloseByCorr: 0.04%\n",
      "AnalysisMuonsAuxDyn.scatteringCurvatureSignificance: 0.04%\n",
      "AnalysisMuonsAuxDyn.neflowisol20_CloseByCorr: 0.04%\n",
      "AnalysisMuonsAuxDyn.scatteringNeighbourSignificance: 0.04%\n",
      "AnalysisMuonsAuxDyn.topoetcone20: 0.04%\n",
      "AnalysisMuonsAuxDyn.topoetcone30: 0.04%\n",
      "AnalysisMuonsAuxDyn.topoetcone40: 0.04%\n"
     ]
    }
   ],
   "source": [
    "import pathlib\n",
    "\n",
    "size_per_key_in_MB = json.loads(pathlib.Path(\"branch_sizes.json\").read_text())\n",
    "file_size = size_per_key_in_MB[\"_file_size\"]\n",
    "\n",
    "list_of_branches_to_read = []\n",
    "size_of_branches = 0\n",
    "\n",
    "# veto the metadata branch and also possibly problematic ones that could vary a lot across files\n",
    "branches_to_veto = [\"_file_size\", \"AnalysisJetsAuxDyn.GhostTrack\", \"AnalysisJetsAuxDyn.btaggingLink\"] #, \"HLTNav_Summary_DAODSlimmedAuxDyn.decisions\", \"InDetTrackParticlesAuxDyn.definingParametersCovMatrixOffDiag\"]\n",
    "\n",
    "for k, v in reversed(sorted(size_per_key_in_MB.items(), key=lambda it: it[1])):\n",
    "    # only keep branches relating to specific physics objects\n",
    "    if not any([vv in k for vv in [\"AnalysisJetsAuxDyn\", \"AnalysisElectronsAuxDyn\", \"AnalysisMuonsAuxDyn\"]]):\n",
    "        continue\n",
    "    \n",
    "    if k in branches_to_veto:\n",
    "        continue\n",
    "\n",
    "    list_of_branches_to_read.append(k)\n",
    "    size_of_branches += v\n",
    "    if size_of_branches / file_size > 0.10:  # target: 25%\n",
    "        break\n",
    "\n",
    "for b in list_of_branches_to_read:\n",
    "    print(f\"{b}: {size_per_key_in_MB[b] / file_size:.2%}\")"
   ]
  },
  {
   "cell_type": "code",
   "execution_count": 48,
   "id": "c6e69ed1-124a-4391-8911-01674d988ff1",
   "metadata": {
    "tags": []
   },
   "outputs": [
    {
     "data": {
      "text/plain": [
       "['AnalysisJetsAuxDyn.EnergyPerSampling',\n",
       " 'AnalysisJetsAuxDyn.SumPtTrkPt500',\n",
       " 'AnalysisJetsAuxDyn.TrackWidthPt1000',\n",
       " 'AnalysisJetsAuxDyn.NumTrkPt500',\n",
       " 'AnalysisJetsAuxDyn.NumTrkPt1000',\n",
       " 'AnalysisJetsAuxDyn.SumPtChargedPFOPt500',\n",
       " 'AnalysisJetsAuxDyn.Timing',\n",
       " 'AnalysisJetsAuxDyn.JetConstitScaleMomentum_eta',\n",
       " 'AnalysisJetsAuxDyn.ActiveArea4vec_eta',\n",
       " 'AnalysisJetsAuxDyn.DetectorEta',\n",
       " 'AnalysisJetsAuxDyn.eta',\n",
       " 'AnalysisJetsAuxDyn.JetConstitScaleMomentum_phi',\n",
       " 'AnalysisJetsAuxDyn.ActiveArea4vec_phi',\n",
       " 'AnalysisJetsAuxDyn.phi',\n",
       " 'AnalysisJetsAuxDyn.JetConstitScaleMomentum_m',\n",
       " 'AnalysisJetsAuxDyn.JetConstitScaleMomentum_pt',\n",
       " 'AnalysisJetsAuxDyn.Width',\n",
       " 'AnalysisJetsAuxDyn.EMFrac',\n",
       " 'AnalysisJetsAuxDyn.pt',\n",
       " 'AnalysisJetsAuxDyn.m',\n",
       " 'AnalysisJetsAuxDyn.ActiveArea4vec_m',\n",
       " 'AnalysisJetsAuxDyn.ActiveArea4vec_pt',\n",
       " 'AnalysisJetsAuxDyn.DFCommonJets_QGTagger_TracksWidth',\n",
       " 'AnalysisJetsAuxDyn.JVFCorr',\n",
       " 'AnalysisJetsAuxDyn.DFCommonJets_QGTagger_TracksC1',\n",
       " 'AnalysisJetsAuxDyn.PSFrac',\n",
       " 'AnalysisJetsAuxDyn.DFCommonJets_QGTagger_NTracks',\n",
       " 'AnalysisJetsAuxDyn.DFCommonJets_fJvt',\n",
       " 'AnalysisJetsAuxDyn.PartonTruthLabelID',\n",
       " 'AnalysisJetsAuxDyn.HadronConeExclExtendedTruthLabelID',\n",
       " 'AnalysisJetsAuxDyn.ConeTruthLabelID',\n",
       " 'AnalysisJetsAuxDyn.HadronConeExclTruthLabelID',\n",
       " 'AnalysisElectronsAuxDyn.truthParticleLink',\n",
       " 'AnalysisElectronsAuxDyn.firstEgMotherTruthParticleLink',\n",
       " 'AnalysisMuonsAuxDyn.momentumBalanceSignificance',\n",
       " 'AnalysisMuonsAuxDyn.topoetcone20_CloseByCorr',\n",
       " 'AnalysisMuonsAuxDyn.scatteringCurvatureSignificance',\n",
       " 'AnalysisMuonsAuxDyn.neflowisol20_CloseByCorr',\n",
       " 'AnalysisMuonsAuxDyn.scatteringNeighbourSignificance',\n",
       " 'AnalysisMuonsAuxDyn.topoetcone20',\n",
       " 'AnalysisMuonsAuxDyn.topoetcone30',\n",
       " 'AnalysisMuonsAuxDyn.topoetcone40']"
      ]
     },
     "execution_count": 48,
     "metadata": {},
     "output_type": "execute_result"
    }
   ],
   "source": [
    "list_of_branches_to_read"
   ]
  },
  {
   "cell_type": "markdown",
   "id": "ffecbf16-cff4-4e0c-bc1e-503fa3b68b21",
   "metadata": {
    "tags": []
   },
   "source": [
    "## sanity check: load file again, read these branches, ensure we hit the right fraction of the file"
   ]
  },
  {
   "cell_type": "code",
   "execution_count": 51,
   "id": "406c0db6-fd19-46ea-a2af-902596035377",
   "metadata": {
    "tags": []
   },
   "outputs": [
    {
     "name": "stdout",
     "output_type": "stream",
     "text": [
      "0.831569 54.268776\n"
     ]
    }
   ],
   "source": [
    "t = uproot.open({fname: \"CollectionTree\"})\n",
    "\n",
    "cur_size_in_MB = t.file.source.num_requested_bytes/1000**2  # non-zero at the start (some metadata read)\n",
    "\n",
    "t.arrays(list_of_branches_to_read)\n",
    "\n",
    "new_size_in_MB = t.file.source.num_requested_bytes/1000**2\n",
    "print(cur_size_in_MB, new_size_in_MB)"
   ]
  },
  {
   "cell_type": "code",
   "execution_count": 52,
   "id": "178e4e92-a548-470f-a67c-494bb71f9692",
   "metadata": {
    "tags": []
   },
   "outputs": [
    {
     "data": {
      "text/plain": [
       "0.09628414010858041"
      ]
     },
     "execution_count": 52,
     "metadata": {},
     "output_type": "execute_result"
    }
   ],
   "source": [
    "(new_size_in_MB - cur_size_in_MB) / file_size"
   ]
  }
 ],
 "metadata": {
  "kernelspec": {
   "display_name": "Python 3 (ipykernel)",
   "language": "python",
   "name": "python3"
  },
  "language_info": {
   "codemirror_mode": {
    "name": "ipython",
    "version": 3
   },
   "file_extension": ".py",
   "mimetype": "text/x-python",
   "name": "python",
   "nbconvert_exporter": "python",
   "pygments_lexer": "ipython3",
   "version": "3.9.12"
  }
 },
 "nbformat": 4,
 "nbformat_minor": 5
}
