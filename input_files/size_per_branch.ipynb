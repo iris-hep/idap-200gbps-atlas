{
 "cells": [
  {
   "cell_type": "code",
   "execution_count": null,
   "id": "d2cf8d80-02c2-4a5d-8c65-f8399051223c",
   "metadata": {
    "tags": []
   },
   "outputs": [],
   "source": [
    "import time\n",
    "import uproot"
   ]
  },
  {
   "cell_type": "markdown",
   "id": "1acb4fb7-db7e-44b2-b481-d2cee1ec0aa3",
   "metadata": {},
   "source": [
    "the file here is a part of `data18_13TeV.periodAllYear.physics_Main.PhysCont.DAOD_PHYSLITE.grp18_v01_p6026`:\n",
    "```\n",
    "/data/alheld/200gbps-atlas/data18_13TeV.periodAllYear.physics_Main.PhysCont.DAOD_PHYSLITE.grp18_v01_p6026/DAOD_PHYSLITE.37021624._000036.pool.root.1\n",
    "```"
   ]
  },
  {
   "cell_type": "code",
   "execution_count": null,
   "id": "db754181-c1ba-41fe-997d-d1290469a1d7",
   "metadata": {
    "tags": []
   },
   "outputs": [],
   "source": [
    "! ls -lh /data/alheld/200gbps-atlas/data18_13TeV.periodAllYear.physics_Main.PhysCont.DAOD_PHYSLITE.grp18_v01_p6026/DAOD_PHYSLITE.37021624._000036.pool.root.1"
   ]
  },
  {
   "cell_type": "code",
   "execution_count": null,
   "id": "0bf19d6a-3b1f-417b-a8a9-a7837ac55940",
   "metadata": {
    "scrolled": true,
    "tags": []
   },
   "outputs": [],
   "source": [
    "# read out of XCache, which is faster\n",
    "fname = \"root://192.170.240.147//root://fax.mwt2.org:1094//pnfs/uchicago.edu/atlaslocalgroupdisk/rucio/data18_13TeV/36/2c/DAOD_PHYSLITE.37021624._000036.pool.root.1\"\n",
    "t = uproot.open({fname: \"CollectionTree\"})\n",
    "\n",
    "branch_metadata = {}\n",
    "cur_size_in_MB = t.file.source.num_requested_bytes/1000**2  # non-zero at the start (some metadata read)\n",
    "\n",
    "num_branches = len(t.keys())\n",
    "\n",
    "for i, key in enumerate(t.keys()):\n",
    "    # if not any([key.startswith(v) for v in [\"AnalysisJetsAuxDyn\", \"AnalysisLargeRJetsAuxDyn\", \"AnalysisElectronsAuxDyn\", \"AnalysisMuonsAuxDyn\", \"AnalysisTauJetsAuxDyn\", \"AnalysisPhotonsAuxDyn\"]]):\n",
    "    #     continue\n",
    "\n",
    "    cur_size_in_MB = t.file.source.num_requested_bytes/1000**2\n",
    "    progress = f\"{i} / {num_branches}\"\n",
    "    try:\n",
    "        t0 = time.perf_counter()\n",
    "        t[key].array()\n",
    "        t1 = time.perf_counter()\n",
    "        print(f\"{progress} {key}\")\n",
    "    except:\n",
    "        t0 = 0\n",
    "        t1 = 0\n",
    "        print(f\"{progress} [CANNOT READ] {key}\")\n",
    "        \n",
    "    new_size_in_MB = t.file.source.num_requested_bytes/1000**2\n",
    "    branch_metadata[key] = {\"size\": new_size_in_MB - cur_size_in_MB, \"time\": t1-t0}\n",
    "\n",
    "# branch_metadata"
   ]
  },
  {
   "cell_type": "code",
   "execution_count": null,
   "id": "51303308-cd1f-46ff-b364-99194873a4a9",
   "metadata": {
    "tags": []
   },
   "outputs": [],
   "source": [
    "print(f\"all branches: {sum(size_per_key_in_MB.values())} MB\")  # doesn't include initial metadata read"
   ]
  },
  {
   "cell_type": "code",
   "execution_count": null,
   "id": "c7ce2887-8a56-4bb4-a241-f0aaced6a739",
   "metadata": {
    "tags": []
   },
   "outputs": [],
   "source": [
    "import os\n",
    "fname_local = \"/data/alheld/200gbps-atlas/data18_13TeV.periodAllYear.physics_Main.PhysCont.DAOD_PHYSLITE.grp18_v01_p6026/DAOD_PHYSLITE.37021624._000036.pool.root.1\"\n",
    "file_size = os.path.getsize(fname_local) / 1000**2\n",
    "file_size"
   ]
  },
  {
   "cell_type": "code",
   "execution_count": null,
   "id": "95225d3f-e181-49b5-bbdf-fd668cd8ed81",
   "metadata": {
    "tags": []
   },
   "outputs": [],
   "source": [
    "t.file.source.num_requested_bytes/1000**2"
   ]
  },
  {
   "cell_type": "markdown",
   "id": "7ecfca18-a2eb-4878-a684-95cd600313a2",
   "metadata": {},
   "source": [
    "sanity check: looks like we read most of the file, seems good"
   ]
  },
  {
   "cell_type": "code",
   "execution_count": null,
   "id": "59043702-a944-4a6b-85c3-2edc662bdc0d",
   "metadata": {
    "tags": []
   },
   "outputs": [],
   "source": [
    "import json\n",
    "\n",
    "branch_metadata[\"_file_size\"] = file_size\n",
    "\n",
    "with open(\"branch_sizes.json\", \"w\") as f:\n",
    "    f.write(json.dumps(branch_metadata, sort_keys=True, indent=4))"
   ]
  },
  {
   "cell_type": "markdown",
   "id": "0ff44cf8-b1f1-4cff-898a-d8f4b4082c19",
   "metadata": {},
   "source": [
    "## sort branches, find branches to hit 15% read"
   ]
  },
  {
   "cell_type": "code",
   "execution_count": 1,
   "id": "e9488120-4dc6-4725-ad82-69285e0f4dba",
   "metadata": {
    "tags": []
   },
   "outputs": [
    {
     "name": "stdout",
     "output_type": "stream",
     "text": [
      "fraction of file read with all these branches: 15.04%\n",
      "PrimaryVerticesAuxDyn.z: 1.17%, 0.120 s size per time: 109.0 MB/s\n",
      "PrimaryVerticesAuxDyn.x: 0.96%, 0.118 s size per time: 91.4 MB/s\n",
      "PrimaryVerticesAuxDyn.y: 0.94%, 0.115 s size per time: 91.2 MB/s\n",
      "AnalysisJetsAuxDyn.Timing: 0.47%, 0.080 s size per time: 66.3 MB/s\n",
      "AnalysisJetsAuxDyn.JetConstitScaleMomentum_phi: 0.47%, 0.082 s size per time: 64.1 MB/s\n",
      "AnalysisJetsAuxDyn.DetectorEta: 0.47%, 0.082 s size per time: 63.7 MB/s\n",
      "AnalysisJetsAuxDyn.ActiveArea4vec_eta: 0.47%, 0.083 s size per time: 63.6 MB/s\n",
      "AnalysisJetsAuxDyn.JetConstitScaleMomentum_eta: 0.47%, 0.083 s size per time: 63.0 MB/s\n",
      "AnalysisJetsAuxDyn.phi: 0.47%, 0.083 s size per time: 62.9 MB/s\n",
      "AnalysisJetsAuxDyn.m: 0.45%, 0.082 s size per time: 61.9 MB/s\n",
      "AnalysisJetsAuxDyn.JetConstitScaleMomentum_pt: 0.45%, 0.082 s size per time: 61.7 MB/s\n",
      "AnalysisJetsAuxDyn.ActiveArea4vec_phi: 0.47%, 0.085 s size per time: 61.6 MB/s\n",
      "AnalysisJetsAuxDyn.JetConstitScaleMomentum_m: 0.46%, 0.085 s size per time: 60.6 MB/s\n",
      "AnalysisJetsAuxDyn.ActiveArea4vec_m: 0.44%, 0.082 s size per time: 60.0 MB/s\n",
      "AnalysisJetsAuxDyn.pt: 0.45%, 0.084 s size per time: 59.9 MB/s\n",
      "AnalysisJetsAuxDyn.Width: 0.45%, 0.084 s size per time: 59.7 MB/s\n",
      "AnalysisJetsAuxDyn.EMFrac: 0.45%, 0.085 s size per time: 59.0 MB/s\n",
      "AnalysisJetsAuxDyn.ActiveArea4vec_pt: 0.43%, 0.083 s size per time: 58.6 MB/s\n",
      "AnalysisJetsAuxDyn.PSFrac: 0.33%, 0.082 s size per time: 45.0 MB/s\n",
      "AnalysisJetsAuxDyn.JVFCorr: 0.31%, 0.078 s size per time: 44.5 MB/s\n",
      "AnalysisJetsAuxDyn.DFCommonJets_QGTagger_TracksC1: 0.30%, 0.081 s size per time: 42.1 MB/s\n",
      "AnalysisJetsAuxDyn.eta: 0.47%, 0.204 s size per time: 25.7 MB/s\n",
      "AnalysisPhotonsAuxDyn.topoetcone40_CloseByCorr: 0.22%, 0.105 s size per time: 23.7 MB/s\n",
      "AnalysisPhotonsAuxDyn.topoetcone40: 0.22%, 0.109 s size per time: 22.8 MB/s\n",
      "AnalysisPhotonsAuxDyn.eta: 0.22%, 0.113 s size per time: 21.9 MB/s\n",
      "AnalysisJetsAuxDyn.DFCommonJets_fJvt: 0.15%, 0.076 s size per time: 21.9 MB/s\n",
      "AnalysisPhotonsAuxDyn.phi: 0.22%, 0.113 s size per time: 21.9 MB/s\n",
      "AnalysisPhotonsAuxDyn.topoetcone20_CloseByCorr: 0.22%, 0.115 s size per time: 21.7 MB/s\n",
      "AnalysisPhotonsAuxDyn.topoetcone40ptCorrection: 0.21%, 0.107 s size per time: 21.7 MB/s\n",
      "AnalysisPhotonsAuxDyn.topoetcone20ptCorrection: 0.21%, 0.109 s size per time: 21.4 MB/s\n",
      "AnalysisPhotonsAuxDyn.pt: 0.21%, 0.114 s size per time: 20.8 MB/s\n",
      "AnalysisJetsAuxDyn.DFCommonJets_QGTagger_NTracks: 0.13%, 0.077 s size per time: 19.6 MB/s\n",
      "AnalysisJetsAuxDyn.DFCommonJets_QGTagger_TracksWidth: 0.34%, 0.209 s size per time: 18.1 MB/s\n",
      "AnalysisJetsAuxDyn.GhostMuonSegmentCount: 0.11%, 0.076 s size per time: 16.4 MB/s\n",
      "AnalysisPhotonsAuxDyn.topoetcone20: 0.22%, 0.173 s size per time: 14.4 MB/s\n",
      "AnalysisPhotonsAuxDyn.DFCommonPhotonsIsEMTightIsEMValue: 0.10%, 0.105 s size per time: 11.1 MB/s\n",
      "AnalysisPhotonsAuxDyn.ptcone20_CloseByCorr: 0.10%, 0.104 s size per time: 10.6 MB/s\n",
      "AnalysisPhotonsAuxDyn.OQ: 0.10%, 0.106 s size per time: 10.5 MB/s\n",
      "AnalysisPhotonsAuxDyn.ptcone20: 0.10%, 0.104 s size per time: 10.5 MB/s\n",
      "AnalysisTauJetsAuxDyn.RNNJetScore: 0.08%, 0.098 s size per time: 9.4 MB/s\n",
      "AnalysisTauJetsAuxDyn.JetDeepSetScore: 0.08%, 0.099 s size per time: 9.4 MB/s\n",
      "AnalysisTauJetsAuxDyn.etaTauEnergyScale: 0.08%, 0.099 s size per time: 9.3 MB/s\n",
      "AnalysisTauJetsAuxDyn.etaFinalCalib: 0.08%, 0.099 s size per time: 9.2 MB/s\n",
      "AnalysisTauJetsAuxDyn.RNNEleScoreSigTrans_v1: 0.08%, 0.099 s size per time: 9.1 MB/s\n",
      "AnalysisTauJetsAuxDyn.JetDeepSetScoreTrans: 0.08%, 0.099 s size per time: 9.1 MB/s\n",
      "AnalysisTauJetsAuxDyn.RNNJetScoreSigTrans: 0.08%, 0.100 s size per time: 9.0 MB/s\n",
      "AnalysisTauJetsAuxDyn.phi: 0.08%, 0.104 s size per time: 8.7 MB/s\n"
     ]
    }
   ],
   "source": [
    "import json\n",
    "import pathlib\n",
    "import copy\n",
    "\n",
    "branch_metadata = json.loads(pathlib.Path(\"branch_sizes.json\").read_text())\n",
    "file_size = branch_metadata.pop(\"_file_size\")\n",
    "\n",
    "list_of_branches_to_read = []\n",
    "size_of_branches = 0\n",
    "\n",
    "# veto the metadata branch and also possibly problematic ones that could vary a lot across files\n",
    "branches_to_veto = [\n",
    "    \"_file_size\",\n",
    "    \"InDetTrackParticlesAuxDyn.definingParametersCovMatrixOffDiag\",\n",
    "    \"InDetTrackParticlesAuxDyn.definingParametersCovMatrixDiag\",\n",
    "    \"MuonSpectrometerTrackParticlesAuxDyn.definingParametersCovMatrixOffDiag\",\n",
    "    \"AntiKt10UFOCSSKJetsAux./AntiKt10UFOCSSKJetsAux.constituentLinks\",\n",
    "    \"ExtrapolatedMuonTrackParticlesAuxDyn.definingParametersCovMatrixOffDiag\",\n",
    "    \"CombinedMuonTrackParticlesAuxDyn.definingParametersCovMatrixOffDiag\",\n",
    "    \"AnalysisJetsAuxDyn.btaggingLink\",\n",
    "    \"AnalysisJetsAuxDyn.GhostTrack\",\n",
    "    \"PrimaryVerticesAuxDyn.trackParticleLinks\",\n",
    "    \"PrimaryVerticesAuxDyn.neutralParticleLinks\",\n",
    "    \"AnalysisJetsAuxDyn.EnergyPerSampling\",  # unreadable in some files\n",
    "    \"AnalysisJetsAuxDyn.SumPtTrkPt500\",  # unreadable in some files \n",
    "    \"AnalysisJetsAuxDyn.TrackWidthPt1000\",  # unreadable in some files \n",
    "    \"AnalysisJetsAuxDyn.NumTrkPt500\",  # unreadable in some files\n",
    "    \"AnalysisPhotonsAuxDyn.f1\"  # presumably missing in p5885\n",
    "]\n",
    "\n",
    "# start with a few hardcoded branches\n",
    "list_of_branches_to_read = [\n",
    "    # \"AnalysisJetsAuxDyn.pt\",\n",
    "    # \"AnalysisJetsAuxDyn.eta\",\n",
    "    # \"AnalysisJetsAuxDyn.phi\",\n",
    "    # \"AnalysisJetsAuxDyn.m\",\n",
    "    # \"AnalysisElectronsAuxDyn.pt\",\n",
    "    # \"AnalysisElectronsAuxDyn.eta\",\n",
    "    # \"AnalysisElectronsAuxDyn.phi\",\n",
    "    # \"AnalysisElectronsAuxDyn.m\",\n",
    "    # \"AnalysisMuonsAuxDyn.pt\",\n",
    "    # \"AnalysisMuonsAuxDyn.eta\",\n",
    "    # \"AnalysisMuonsAuxDyn.phi\",\n",
    "]\n",
    "size_of_branches += sum(v[\"size\"] for k, v in branch_metadata.items() if k in list_of_branches_to_read)\n",
    "\n",
    "\n",
    "# sort by decreasing size per time\n",
    "for k, v in reversed(sorted(branch_metadata.items(), key=lambda it: it[1][\"size\"] / (it[1][\"time\"] + 1e-6))):\n",
    "    # only keep branches relating to specific physics objects\n",
    "    if not any([vv in k for vv in [\n",
    "                \"AnalysisJetsAuxDyn\",\n",
    "                \"AnalysisElectronsAuxDyn\",\n",
    "                \"AnalysisMuonsAuxDyn\",\n",
    "                \"AnalysisPhotonsAuxDyn\",\n",
    "                \"AnalysisTauJetsAuxDyn\",\n",
    "                \"PrimaryVerticesAuxDyn\"\n",
    "                ]\n",
    "            ]):\n",
    "        continue\n",
    "\n",
    "    if k in list_of_branches_to_read:\n",
    "        continue  # already listed in hardcoded branches above\n",
    "\n",
    "    if k in branches_to_veto:\n",
    "        continue\n",
    "\n",
    "    list_of_branches_to_read.append(k)\n",
    "    size_of_branches += v[\"size\"]\n",
    "    if size_of_branches / file_size > 0.15:  # target: 15%\n",
    "        break\n",
    "\n",
    "print(f\"fraction of file read with all these branches: {size_of_branches / file_size:.2%}\")\n",
    "\n",
    "for b in list_of_branches_to_read:\n",
    "    print(f\"{b}: {branch_metadata[b]['size'] / file_size:.2%}, {branch_metadata[b]['time']:.3f} s\",\n",
    "          f\"size per time: {branch_metadata[b]['size'] / branch_metadata[b]['time']:.1f} MB/s\")"
   ]
  },
  {
   "cell_type": "code",
   "execution_count": 2,
   "id": "c6e69ed1-124a-4391-8911-01674d988ff1",
   "metadata": {
    "tags": []
   },
   "outputs": [
    {
     "data": {
      "text/plain": [
       "['PrimaryVerticesAuxDyn.z',\n",
       " 'PrimaryVerticesAuxDyn.x',\n",
       " 'PrimaryVerticesAuxDyn.y',\n",
       " 'AnalysisJetsAuxDyn.Timing',\n",
       " 'AnalysisJetsAuxDyn.JetConstitScaleMomentum_phi',\n",
       " 'AnalysisJetsAuxDyn.DetectorEta',\n",
       " 'AnalysisJetsAuxDyn.ActiveArea4vec_eta',\n",
       " 'AnalysisJetsAuxDyn.JetConstitScaleMomentum_eta',\n",
       " 'AnalysisJetsAuxDyn.phi',\n",
       " 'AnalysisJetsAuxDyn.m',\n",
       " 'AnalysisJetsAuxDyn.JetConstitScaleMomentum_pt',\n",
       " 'AnalysisJetsAuxDyn.ActiveArea4vec_phi',\n",
       " 'AnalysisJetsAuxDyn.JetConstitScaleMomentum_m',\n",
       " 'AnalysisJetsAuxDyn.ActiveArea4vec_m',\n",
       " 'AnalysisJetsAuxDyn.pt',\n",
       " 'AnalysisJetsAuxDyn.Width',\n",
       " 'AnalysisJetsAuxDyn.EMFrac',\n",
       " 'AnalysisJetsAuxDyn.ActiveArea4vec_pt',\n",
       " 'AnalysisJetsAuxDyn.PSFrac',\n",
       " 'AnalysisJetsAuxDyn.JVFCorr',\n",
       " 'AnalysisJetsAuxDyn.DFCommonJets_QGTagger_TracksC1',\n",
       " 'AnalysisJetsAuxDyn.eta',\n",
       " 'AnalysisPhotonsAuxDyn.topoetcone40_CloseByCorr',\n",
       " 'AnalysisPhotonsAuxDyn.topoetcone40',\n",
       " 'AnalysisPhotonsAuxDyn.eta',\n",
       " 'AnalysisJetsAuxDyn.DFCommonJets_fJvt',\n",
       " 'AnalysisPhotonsAuxDyn.phi',\n",
       " 'AnalysisPhotonsAuxDyn.topoetcone20_CloseByCorr',\n",
       " 'AnalysisPhotonsAuxDyn.topoetcone40ptCorrection',\n",
       " 'AnalysisPhotonsAuxDyn.topoetcone20ptCorrection',\n",
       " 'AnalysisPhotonsAuxDyn.pt',\n",
       " 'AnalysisJetsAuxDyn.DFCommonJets_QGTagger_NTracks',\n",
       " 'AnalysisJetsAuxDyn.DFCommonJets_QGTagger_TracksWidth',\n",
       " 'AnalysisJetsAuxDyn.GhostMuonSegmentCount',\n",
       " 'AnalysisPhotonsAuxDyn.topoetcone20',\n",
       " 'AnalysisPhotonsAuxDyn.DFCommonPhotonsIsEMTightIsEMValue',\n",
       " 'AnalysisPhotonsAuxDyn.ptcone20_CloseByCorr',\n",
       " 'AnalysisPhotonsAuxDyn.OQ',\n",
       " 'AnalysisPhotonsAuxDyn.ptcone20',\n",
       " 'AnalysisTauJetsAuxDyn.RNNJetScore',\n",
       " 'AnalysisTauJetsAuxDyn.JetDeepSetScore',\n",
       " 'AnalysisTauJetsAuxDyn.etaTauEnergyScale',\n",
       " 'AnalysisTauJetsAuxDyn.etaFinalCalib',\n",
       " 'AnalysisTauJetsAuxDyn.RNNEleScoreSigTrans_v1',\n",
       " 'AnalysisTauJetsAuxDyn.JetDeepSetScoreTrans',\n",
       " 'AnalysisTauJetsAuxDyn.RNNJetScoreSigTrans',\n",
       " 'AnalysisTauJetsAuxDyn.phi']"
      ]
     },
     "execution_count": 2,
     "metadata": {},
     "output_type": "execute_result"
    }
   ],
   "source": [
    "# list for notebook doing the reading\n",
    "list_of_branches_to_read"
   ]
  },
  {
   "cell_type": "code",
   "execution_count": 3,
   "id": "aac97446-894f-4f80-9a93-3b64ca7275a2",
   "metadata": {},
   "outputs": [
    {
     "name": "stdout",
     "output_type": "stream",
     "text": [
      "_counter += ak.count_nonzero(events.PrimaryVertices.z)\n",
      "_counter += ak.count_nonzero(events.PrimaryVertices.x)\n",
      "_counter += ak.count_nonzero(events.PrimaryVertices.y)\n",
      "_counter += ak.count_nonzero(events.Jets.Timing)\n",
      "_counter += ak.count_nonzero(events.Jets.JetConstitScaleMomentum_phi)\n",
      "_counter += ak.count_nonzero(events.Jets.DetectorEta)\n",
      "_counter += ak.count_nonzero(events.Jets.ActiveArea4vec_eta)\n",
      "_counter += ak.count_nonzero(events.Jets.JetConstitScaleMomentum_eta)\n",
      "_counter += ak.count_nonzero(events.Jets.phi)\n",
      "_counter += ak.count_nonzero(events.Jets.m)\n",
      "_counter += ak.count_nonzero(events.Jets.JetConstitScaleMomentum_pt)\n",
      "_counter += ak.count_nonzero(events.Jets.ActiveArea4vec_phi)\n",
      "_counter += ak.count_nonzero(events.Jets.JetConstitScaleMomentum_m)\n",
      "_counter += ak.count_nonzero(events.Jets.ActiveArea4vec_m)\n",
      "_counter += ak.count_nonzero(events.Jets.pt)\n",
      "_counter += ak.count_nonzero(events.Jets.Width)\n",
      "_counter += ak.count_nonzero(events.Jets.EMFrac)\n",
      "_counter += ak.count_nonzero(events.Jets.ActiveArea4vec_pt)\n",
      "_counter += ak.count_nonzero(events.Jets.PSFrac)\n",
      "_counter += ak.count_nonzero(events.Jets.JVFCorr)\n",
      "_counter += ak.count_nonzero(events.Jets.DFCommonJets_QGTagger_TracksC1)\n",
      "_counter += ak.count_nonzero(events.Jets.eta)\n",
      "_counter += ak.count_nonzero(events.AnalysisPhotonsAuxDyn.topoetcone40_CloseByCorr)\n",
      "_counter += ak.count_nonzero(events.AnalysisPhotonsAuxDyn.topoetcone40)\n",
      "_counter += ak.count_nonzero(events.AnalysisPhotonsAuxDyn.eta)\n",
      "_counter += ak.count_nonzero(events.Jets.DFCommonJets_fJvt)\n",
      "_counter += ak.count_nonzero(events.AnalysisPhotonsAuxDyn.phi)\n",
      "_counter += ak.count_nonzero(events.AnalysisPhotonsAuxDyn.topoetcone20_CloseByCorr)\n",
      "_counter += ak.count_nonzero(events.AnalysisPhotonsAuxDyn.topoetcone40ptCorrection)\n",
      "_counter += ak.count_nonzero(events.AnalysisPhotonsAuxDyn.topoetcone20ptCorrection)\n",
      "_counter += ak.count_nonzero(events.AnalysisPhotonsAuxDyn.pt)\n",
      "_counter += ak.count_nonzero(events.Jets.DFCommonJets_QGTagger_NTracks)\n",
      "_counter += ak.count_nonzero(events.Jets.DFCommonJets_QGTagger_TracksWidth)\n",
      "_counter += ak.count_nonzero(events.Jets.GhostMuonSegmentCount)\n",
      "_counter += ak.count_nonzero(events.AnalysisPhotonsAuxDyn.topoetcone20)\n",
      "_counter += ak.count_nonzero(events.AnalysisPhotonsAuxDyn.DFCommonPhotonsIsEMTightIsEMValue)\n",
      "_counter += ak.count_nonzero(events.AnalysisPhotonsAuxDyn.ptcone20_CloseByCorr)\n",
      "_counter += ak.count_nonzero(events.AnalysisPhotonsAuxDyn.OQ)\n",
      "_counter += ak.count_nonzero(events.AnalysisPhotonsAuxDyn.ptcone20)\n",
      "_counter += ak.count_nonzero(events.AnalysisTauJetsAuxDyn.RNNJetScore)\n",
      "_counter += ak.count_nonzero(events.AnalysisTauJetsAuxDyn.JetDeepSetScore)\n",
      "_counter += ak.count_nonzero(events.AnalysisTauJetsAuxDyn.etaTauEnergyScale)\n",
      "_counter += ak.count_nonzero(events.AnalysisTauJetsAuxDyn.etaFinalCalib)\n",
      "_counter += ak.count_nonzero(events.AnalysisTauJetsAuxDyn.RNNEleScoreSigTrans_v1)\n",
      "_counter += ak.count_nonzero(events.AnalysisTauJetsAuxDyn.JetDeepSetScoreTrans)\n",
      "_counter += ak.count_nonzero(events.AnalysisTauJetsAuxDyn.RNNJetScoreSigTrans)\n",
      "_counter += ak.count_nonzero(events.AnalysisTauJetsAuxDyn.phi)\n"
     ]
    }
   ],
   "source": [
    "# code for dask-awkard with coffea schema\n",
    "for branch in list_of_branches_to_read:\n",
    "    trans = {\"AnalysisJetsAuxDyn\": \"Jets\", \"AnalysisMuonsAuxDyn\": \"Muons\", \"AnalysisElectronsAuxDyn\": \"Electrons\", \"PrimaryVerticesAuxDyn\": \"PrimaryVertices\"}\n",
    "    for t1, t2 in trans.items():\n",
    "        branch = branch.replace(t1, t2)\n",
    "    link_branch_addition = \"['m_persIndex']\" if \"Link\" in branch else \"\"\n",
    "    print(f\"_counter += ak.count_nonzero(events.{branch}{link_branch_addition})\")"
   ]
  },
  {
   "cell_type": "markdown",
   "id": "ffecbf16-cff4-4e0c-bc1e-503fa3b68b21",
   "metadata": {
    "tags": []
   },
   "source": [
    "## sanity check: load file again, read these branches, ensure we hit the right fraction of the file"
   ]
  },
  {
   "cell_type": "code",
   "execution_count": 4,
   "id": "406c0db6-fd19-46ea-a2af-902596035377",
   "metadata": {
    "tags": []
   },
   "outputs": [
    {
     "name": "stdout",
     "output_type": "stream",
     "text": [
      "2.260006 171.272839\n"
     ]
    }
   ],
   "source": [
    "import uproot\n",
    "\n",
    "fname_local = \"/data/alheld/200gbps-atlas/data18_13TeV.periodAllYear.physics_Main.PhysCont.DAOD_PHYSLITE.grp18_v01_p6026/DAOD_PHYSLITE.37021624._000036.pool.root.1\"\n",
    "fname = \"root://192.170.240.147//root://fax.mwt2.org:1094//pnfs/uchicago.edu/atlaslocalgroupdisk/rucio/data18_13TeV/36/2c/DAOD_PHYSLITE.37021624._000036.pool.root.1\"\n",
    "treename = \"CollectionTree\"\n",
    "t = uproot.open({fname: treename})\n",
    "\n",
    "cur_size_in_MB = t.file.source.num_requested_bytes/1000**2  # non-zero at the start (some metadata read)\n",
    "\n",
    "t.arrays(list_of_branches_to_read)\n",
    "\n",
    "new_size_in_MB = t.file.source.num_requested_bytes/1000**2\n",
    "print(cur_size_in_MB, new_size_in_MB)"
   ]
  },
  {
   "cell_type": "code",
   "execution_count": 5,
   "id": "178e4e92-a548-470f-a67c-494bb71f9692",
   "metadata": {
    "tags": []
   },
   "outputs": [
    {
     "data": {
      "text/plain": [
       "0.15044348448771197"
      ]
     },
     "execution_count": 5,
     "metadata": {},
     "output_type": "execute_result"
    }
   ],
   "source": [
    "(new_size_in_MB - cur_size_in_MB) / file_size"
   ]
  },
  {
   "cell_type": "markdown",
   "id": "e9cb1823-1765-49cc-9bf3-988dea46c5f6",
   "metadata": {},
   "source": [
    "## time to read individual branches"
   ]
  },
  {
   "cell_type": "code",
   "execution_count": 6,
   "id": "b8840b79-d2e4-4aba-a0ae-547311fe56fd",
   "metadata": {},
   "outputs": [],
   "source": [
    "import os\n",
    "import uproot\n",
    "import time\n",
    "import numpy as np\n",
    "from pathlib import Path\n",
    "import matplotlib.pyplot as plt\n",
    "import matplotlib as mpl\n",
    "mpl.style.use(\"ggplot\")\n",
    "\n",
    "filter_name = lambda name: name in list_of_branches_to_read"
   ]
  },
  {
   "cell_type": "code",
   "execution_count": 7,
   "id": "001d0af3-62ff-4111-a5f0-e7ec4d27353b",
   "metadata": {},
   "outputs": [
    {
     "name": "stdout",
     "output_type": "stream",
     "text": [
      "PrimaryVerticesAuxDyn.z                                                         :  137 ms\t\t13.11 MB\t\t 95.9 MB/s\n",
      "PrimaryVerticesAuxDyn.x                                                         :  126 ms\t\t10.82 MB\t\t 85.6 MB/s\n",
      "PrimaryVerticesAuxDyn.y                                                         :  126 ms\t\t10.53 MB\t\t 83.5 MB/s\n",
      "AnalysisJetsAuxDyn.Timing                                                       :   93 ms\t\t 5.31 MB\t\t 57.0 MB/s\n",
      "AnalysisJetsAuxDyn.JetConstitScaleMomentum_phi                                  :   90 ms\t\t 5.25 MB\t\t 58.6 MB/s\n",
      "AnalysisJetsAuxDyn.DetectorEta                                                  :   91 ms\t\t 5.25 MB\t\t 57.9 MB/s\n",
      "AnalysisJetsAuxDyn.ActiveArea4vec_eta                                           :   91 ms\t\t 5.25 MB\t\t 57.6 MB/s\n",
      "AnalysisJetsAuxDyn.JetConstitScaleMomentum_eta                                  :   89 ms\t\t 5.26 MB\t\t 59.3 MB/s\n",
      "AnalysisJetsAuxDyn.phi                                                          :   89 ms\t\t 5.24 MB\t\t 58.7 MB/s\n",
      "AnalysisJetsAuxDyn.m                                                            :   89 ms\t\t 5.05 MB\t\t 56.9 MB/s\n",
      "AnalysisJetsAuxDyn.JetConstitScaleMomentum_pt                                   :   89 ms\t\t 5.07 MB\t\t 57.3 MB/s\n",
      "AnalysisJetsAuxDyn.ActiveArea4vec_phi                                           :   94 ms\t\t 5.24 MB\t\t 55.7 MB/s\n",
      "AnalysisJetsAuxDyn.JetConstitScaleMomentum_m                                    :   91 ms\t\t 5.13 MB\t\t 56.5 MB/s\n",
      "AnalysisJetsAuxDyn.ActiveArea4vec_m                                             :   88 ms\t\t 4.90 MB\t\t 55.8 MB/s\n",
      "AnalysisJetsAuxDyn.pt                                                           :   91 ms\t\t 5.03 MB\t\t 55.3 MB/s\n",
      "AnalysisJetsAuxDyn.Width                                                        :   88 ms\t\t 5.01 MB\t\t 57.0 MB/s\n",
      "AnalysisJetsAuxDyn.EMFrac                                                       :   88 ms\t\t 5.04 MB\t\t 57.0 MB/s\n",
      "AnalysisJetsAuxDyn.ActiveArea4vec_pt                                            :   89 ms\t\t 4.85 MB\t\t 54.8 MB/s\n",
      "AnalysisJetsAuxDyn.PSFrac                                                       :   87 ms\t\t 3.67 MB\t\t 42.2 MB/s\n",
      "AnalysisJetsAuxDyn.JVFCorr                                                      :   87 ms\t\t 3.49 MB\t\t 40.1 MB/s\n",
      "AnalysisJetsAuxDyn.DFCommonJets_QGTagger_TracksC1                               :   86 ms\t\t 3.39 MB\t\t 39.7 MB/s\n",
      "AnalysisJetsAuxDyn.eta                                                          :   89 ms\t\t 5.25 MB\t\t 59.2 MB/s\n",
      "AnalysisPhotonsAuxDyn.topoetcone40_CloseByCorr                                  :  115 ms\t\t 2.49 MB\t\t 21.6 MB/s\n",
      "AnalysisPhotonsAuxDyn.topoetcone40                                              :  112 ms\t\t 2.49 MB\t\t 22.2 MB/s\n",
      "AnalysisPhotonsAuxDyn.eta                                                       :  112 ms\t\t 2.48 MB\t\t 22.1 MB/s\n",
      "AnalysisJetsAuxDyn.DFCommonJets_fJvt                                            :   83 ms\t\t 1.67 MB\t\t 20.2 MB/s\n",
      "AnalysisPhotonsAuxDyn.phi                                                       :  113 ms\t\t 2.47 MB\t\t 21.9 MB/s\n",
      "AnalysisPhotonsAuxDyn.topoetcone20_CloseByCorr                                  :  115 ms\t\t 2.49 MB\t\t 21.7 MB/s\n",
      "AnalysisPhotonsAuxDyn.topoetcone40ptCorrection                                  :  113 ms\t\t 2.33 MB\t\t 20.6 MB/s\n",
      "AnalysisPhotonsAuxDyn.topoetcone20ptCorrection                                  :  114 ms\t\t 2.33 MB\t\t 20.4 MB/s\n",
      "AnalysisPhotonsAuxDyn.pt                                                        :  114 ms\t\t 2.37 MB\t\t 20.8 MB/s\n",
      "AnalysisJetsAuxDyn.DFCommonJets_QGTagger_NTracks                                :   81 ms\t\t 1.50 MB\t\t 18.6 MB/s\n",
      "AnalysisJetsAuxDyn.DFCommonJets_QGTagger_TracksWidth                            :   88 ms\t\t 3.78 MB\t\t 42.9 MB/s\n",
      "AnalysisJetsAuxDyn.GhostMuonSegmentCount                                        :   82 ms\t\t 1.24 MB\t\t 15.2 MB/s\n",
      "AnalysisPhotonsAuxDyn.topoetcone20                                              :  248 ms\t\t 2.48 MB\t\t 10.0 MB/s\n",
      "AnalysisPhotonsAuxDyn.f1                                                        :  112 ms\t\t 2.39 MB\t\t 21.3 MB/s\n",
      "AnalysisPhotonsAuxDyn.DFCommonPhotonsIsEMTightIsEMValue                         :  248 ms\t\t 1.16 MB\t\t  4.7 MB/s\n",
      "AnalysisPhotonsAuxDyn.ptcone20_CloseByCorr                                      :  106 ms\t\t 1.09 MB\t\t 10.3 MB/s\n",
      "AnalysisPhotonsAuxDyn.OQ                                                        :  239 ms\t\t 1.11 MB\t\t  4.7 MB/s\n",
      "AnalysisPhotonsAuxDyn.ptcone20                                                  :  106 ms\t\t 1.09 MB\t\t 10.3 MB/s\n",
      "AnalysisTauJetsAuxDyn.RNNJetScore                                               :  233 ms\t\t 0.92 MB\t\t  3.9 MB/s\n",
      "AnalysisTauJetsAuxDyn.JetDeepSetScore                                           :  102 ms\t\t 0.92 MB\t\t  9.0 MB/s\n",
      "AnalysisTauJetsAuxDyn.etaTauEnergyScale                                         :  101 ms\t\t 0.92 MB\t\t  9.0 MB/s\n",
      "AnalysisTauJetsAuxDyn.etaFinalCalib                                             :  235 ms\t\t 0.91 MB\t\t  3.9 MB/s\n",
      "AnalysisTauJetsAuxDyn.RNNEleScoreSigTrans_v1                                    :  101 ms\t\t 0.90 MB\t\t  8.9 MB/s\n"
     ]
    }
   ],
   "source": [
    "# time each branch individually, compare to size of the branch, ensure no extreme outliers are present\n",
    "for i in range(len(list_of_branches_to_read)):\n",
    "    with uproot.open({fname: treename}, filter_name=filter_name) as f:\n",
    "        initial_metadata_in_MB = f.file.source.num_requested_bytes/1000**2\n",
    "        t0 = time.perf_counter()\n",
    "        f[list_of_branches_to_read[i]].array()\n",
    "        t1 = time.perf_counter()\n",
    "        new_size_in_MB = f.file.source.num_requested_bytes/1000**2\n",
    "        time_ms = (t1-t0)*1000\n",
    "        size_MB = (new_size_in_MB-initial_metadata_in_MB)\n",
    "        print(f\"{list_of_branches_to_read[i]:<80}: {time_ms:4.0f} ms\\t\\t{size_MB:>5.2f} MB\\t\\t{size_MB / time_ms * 1000:>5.1f} MB/s\")"
   ]
  },
  {
   "cell_type": "markdown",
   "id": "b6122228-b051-4d79-8c18-ee3916cb7217",
   "metadata": {},
   "source": [
    "## iteratively reading more branches"
   ]
  },
  {
   "cell_type": "code",
   "execution_count": 7,
   "id": "16ec9697-24d4-4bc9-81af-6f22cf30acb9",
   "metadata": {},
   "outputs": [
    {
     "name": "stdout",
     "output_type": "stream",
     "text": [
      "reading 4 branch(es)\n",
      "  - read 39.77 MB in 0.62 s\n",
      "reading 8 branch(es)\n",
      "  - read 60.78 MB in 0.85 s\n",
      "reading 12 branch(es)\n",
      "  - read 81.39 MB in 1.34 s\n",
      "reading 16 branch(es)\n",
      "  - read 101.45 MB in 1.66 s\n",
      "reading 20 branch(es)\n",
      "  - read 118.50 MB in 2.13 s\n",
      "reading 24 branch(es)\n",
      "  - read 132.12 MB in 2.41 s\n",
      "reading 28 branch(es)\n",
      "  - read 141.23 MB in 2.74 s\n",
      "reading 32 branch(es)\n",
      "  - read 149.77 MB in 3.33 s\n",
      "reading 36 branch(es)\n",
      "  - read 158.43 MB in 3.67 s\n",
      "reading 40 branch(es)\n",
      "  - read 162.65 MB in 4.06 s\n",
      "reading 44 branch(es)\n",
      "  - read 166.31 MB in 4.50 s\n",
      "reading 47 branch(es)\n",
      "  - read 169.01 MB in 4.84 s\n"
     ]
    }
   ],
   "source": [
    "file_size = os.path.getsize(fname_local) / 1000**2  # all sizes in MB\n",
    "\n",
    "stepsize = 4\n",
    "time_per_fraction_read = {}\n",
    "for i in range(len(list_of_branches_to_read)//stepsize+1):\n",
    "    with uproot.open({fname: treename}, filter_name=filter_name) as f:  # re-open every time for accurate tracking of data read\n",
    "        branches = list_of_branches_to_read[0:(i+1)*stepsize]\n",
    "        print(f\"reading {len(branches)} branch(es)\")\n",
    "        initial_metadata_in_MB = f.file.source.num_requested_bytes/1000**2\n",
    "        t0 = time.perf_counter()\n",
    "        f.arrays(branches)\n",
    "        t1 = time.perf_counter()\n",
    "        new_size_in_MB = f.file.source.num_requested_bytes/1000**2\n",
    "        fraction_read = (new_size_in_MB - initial_metadata_in_MB) / file_size\n",
    "        time_per_fraction_read[fraction_read] = t1 - t0\n",
    "        print(f\"  - read {new_size_in_MB - initial_metadata_in_MB:.2f} MB in {t1 - t0:.2f} s\")\n",
    "\n",
    "with uproot.open({fname: treename}) as f:\n",
    "    nevts = f.num_entries"
   ]
  },
  {
   "cell_type": "code",
   "execution_count": 8,
   "id": "0378908b-86d6-4274-a48b-a99274eb27a7",
   "metadata": {},
   "outputs": [
    {
     "name": "stdout",
     "output_type": "stream",
     "text": [
      "fraction read: 3.54% in 0.62 s\n",
      "fraction read: 5.41% in 0.85 s\n",
      "fraction read: 7.24% in 1.34 s\n",
      "fraction read: 9.03% in 1.66 s\n",
      "fraction read: 10.55% in 2.13 s\n",
      "fraction read: 11.76% in 2.41 s\n",
      "fraction read: 12.57% in 2.74 s\n",
      "fraction read: 13.33% in 3.33 s\n",
      "fraction read: 14.10% in 3.67 s\n",
      "fraction read: 14.48% in 4.06 s\n",
      "fraction read: 14.80% in 4.50 s\n",
      "fraction read: 15.04% in 4.84 s\n"
     ]
    }
   ],
   "source": [
    "for k, v in time_per_fraction_read.items():\n",
    "    print(f\"fraction read: {k:.2%} in {v:.2f} s\")"
   ]
  },
  {
   "cell_type": "code",
   "execution_count": 9,
   "id": "4d051a59-eaa3-4cbc-954a-70db1c5b4d21",
   "metadata": {},
   "outputs": [
    {
     "data": {
      "image/png": "[encoded data removed]",
      "text/plain": [
       "<Figure size 1100x400 with 2 Axes>"
      ]
     },
     "metadata": {},
     "output_type": "display_data"
    }
   ],
   "source": [
    "event_rate_in_kHz = nevts / np.fromiter(time_per_fraction_read.values(), np.float32) / 1_000\n",
    "\n",
    "fig, (ax0, ax1) = plt.subplots(figsize=(11,4), ncols=2)\n",
    "\n",
    "ax0.plot(time_per_fraction_read.keys(), time_per_fraction_read.values(), \"o\")\n",
    "ax0.set_xlabel(\"fraction read\")\n",
    "ax0.set_ylabel(\"time [s]\")\n",
    "ax0.set_xlim([0, ax0.get_xlim()[1]])\n",
    "ax0.set_ylim([0, ax0.get_ylim()[1]])\n",
    "\n",
    "ax1.plot(time_per_fraction_read.keys(), event_rate_in_kHz, \"o\")\n",
    "ax1.set_xlabel(\"fraction read\")\n",
    "ax1.set_ylabel(\"event rate [kHz]\")\n",
    "ax1.set_xlim([0, ax1.get_xlim()[1]])\n",
    "ax1.set_ylim([0, ax1.get_ylim()[1]])\n",
    "\n",
    "figures_dir = Path.cwd() / \"figures\"\n",
    "figures_dir.mkdir(exist_ok=True)\n",
    "\n",
    "fig.tight_layout()\n",
    "fig.savefig(figures_dir / \"file_read_time.png\", dpi=300)"
   ]
  },
  {
   "cell_type": "code",
   "execution_count": 10,
   "id": "e3ac27cd-13de-443e-8284-6c5e28bfeb00",
   "metadata": {},
   "outputs": [
    {
     "name": "stdout",
     "output_type": "stream",
     "text": [
      "2.26 MB\n"
     ]
    }
   ],
   "source": [
    "# pure \"metadata\" (?) part, would be read on every open call\n",
    "with uproot.open({fname: treename}) as f:\n",
    "    print(f\"{f.file.source.num_requested_bytes/1000**2:.2f} MB\")"
   ]
  },
  {
   "cell_type": "code",
   "execution_count": 11,
   "id": "562fc59d-a7dc-42eb-8632-32457bb270c1",
   "metadata": {},
   "outputs": [
    {
     "data": {
      "image/png": "[encoded data removed]",
      "text/plain": [
       "<Figure size 640x480 with 1 Axes>"
      ]
     },
     "metadata": {},
     "output_type": "display_data"
    }
   ],
   "source": [
    "# fraction read * file size (in MB) * 8 (to Mb) / time (in s)\n",
    "io_in_Mbps = np.fromiter(time_per_fraction_read.keys(), np.float32) * file_size * 8 / np.fromiter(time_per_fraction_read.values(), np.float32)\n",
    "\n",
    "fig, ax = plt.subplots()\n",
    "\n",
    "ax.plot(time_per_fraction_read.keys(), io_in_Mbps, \"o\")\n",
    "ax.set_xlabel(\"fraction read\")\n",
    "ax.set_ylabel(\"rate [Mbps]\")\n",
    "ax.set_xlim([0, ax.get_xlim()[1]])\n",
    "ax.set_ylim([0, ax.get_ylim()[1]])\n",
    "\n",
    "fig.savefig(figures_dir / \"file_read_rate.png\", dpi=300)"
   ]
  },
  {
   "cell_type": "markdown",
   "id": "18f9fe39-699d-4881-a3cf-c01eba66184e",
   "metadata": {},
   "source": [
    "### how to read efficiently"
   ]
  },
  {
   "cell_type": "code",
   "execution_count": 12,
   "id": "33b91206-e91b-4ba9-a378-e947c4f0195f",
   "metadata": {},
   "outputs": [],
   "source": [
    "import uproot\n",
    "\n",
    "fname = \"root://192.170.240.147//root://fax.mwt2.org:1094//pnfs/uchicago.edu/atlaslocalgroupdisk/rucio/data18_13TeV/36/2c/DAOD_PHYSLITE.37021624._000036.pool.root.1\"\n",
    "treename = \"CollectionTree\""
   ]
  },
  {
   "cell_type": "code",
   "execution_count": 13,
   "id": "83315b88-e98d-4759-9b7e-294269608820",
   "metadata": {},
   "outputs": [
    {
     "name": "stdout",
     "output_type": "stream",
     "text": [
      "CPU times: user 5.81 s, sys: 354 ms, total: 6.16 s\n",
      "Wall time: 6.19 s\n"
     ]
    }
   ],
   "source": [
    "%%time\n",
    "t = uproot.open({fname: treename})\n",
    "_ = t.arrays(list_of_branches_to_read)"
   ]
  },
  {
   "cell_type": "code",
   "execution_count": 14,
   "id": "31749642-6a39-449c-9b59-813df91753f5",
   "metadata": {},
   "outputs": [
    {
     "name": "stdout",
     "output_type": "stream",
     "text": [
      "CPU times: user 5.71 s, sys: 242 ms, total: 5.95 s\n",
      "Wall time: 6.19 s\n"
     ]
    }
   ],
   "source": [
    "%%time\n",
    "\n",
    "# filter_name = lambda x: x in BRANCH_LIST\n",
    "with uproot.open(fname) as f: #, filter_name=filter_name) as f:\n",
    "    for b in list_of_branches_to_read:\n",
    "        f[\"CollectionTree\"][b].array()"
   ]
  },
  {
   "cell_type": "code",
   "execution_count": 15,
   "id": "ea0ce15b-fbd6-41f7-a1c5-2a28994bec65",
   "metadata": {},
   "outputs": [
    {
     "name": "stdout",
     "output_type": "stream",
     "text": [
      "CPU times: user 6.13 s, sys: 326 ms, total: 6.45 s\n",
      "Wall time: 6.5 s\n"
     ]
    }
   ],
   "source": [
    "%%time\n",
    "for _ in uproot.iterate({fname: treename}, expressions=list_of_branches_to_read):\n",
    "    pass"
   ]
  },
  {
   "cell_type": "code",
   "execution_count": 16,
   "id": "b7ff1460-8859-40a2-a891-dc79454313c7",
   "metadata": {},
   "outputs": [
    {
     "name": "stdout",
     "output_type": "stream",
     "text": [
      "CPU times: user 6.12 s, sys: 237 ms, total: 6.36 s\n",
      "Wall time: 6.39 s\n"
     ]
    }
   ],
   "source": [
    "%%time\n",
    "with uproot.open(fname) as f:\n",
    "    for _ in f[treename].iterate(expressions=list_of_branches_to_read):\n",
    "        pass"
   ]
  }
 ],
 "metadata": {
  "jupytext": {
   "notebook_metadata_filter": "all,-jupytext.text_representation.jupytext_version,-language_info.version"
  },
  "kernelspec": {
   "display_name": "Python 3 (ipykernel)",
   "language": "python",
   "name": "python3"
  },
  "language_info": {
   "codemirror_mode": {
    "name": "ipython",
    "version": 3
   },
   "file_extension": ".py",
   "mimetype": "text/x-python",
   "name": "python",
   "nbconvert_exporter": "python",
   "pygments_lexer": "ipython3",
   "version": "3.9.12"
  }
 },
 "nbformat": 4,
 "nbformat_minor": 5
}
