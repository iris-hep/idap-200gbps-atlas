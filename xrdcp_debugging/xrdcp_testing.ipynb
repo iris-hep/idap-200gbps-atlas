{
 "cells": [
  {
   "cell_type": "code",
   "execution_count": null,
   "id": "67130dab-f148-47d5-981d-53eb2549c591",
   "metadata": {},
   "outputs": [],
   "source": [
    "import os\n",
    "import random\n",
    "import time\n",
    "\n",
    "import dask\n",
    "from dask.distributed import Client\n",
    "\n",
    "client = Client(\"tcp://dask-alheld-d8a070f6-a.af-jupyter:8786\")  # update to your client\n",
    "\n",
    "caches = ['192.170.240.141', '192.170.240.142', '192.170.240.143',\n",
    "          '192.170.240.144', '192.170.240.145', '192.170.240.146',\n",
    "          '192.170.240.147', '192.170.240.148']\n",
    "\n",
    "\n",
    "with open(\"ttbar_for_xcache_tests.txt\" ) as f:\n",
    "    filenames = [l.strip() for l in f.readlines()]\n",
    "\n",
    "\n",
    "def run_xrdcp(idx):\n",
    "    # pick one of the three blocks below to configure\n",
    "    \n",
    "    # use same xcache for all files (deterministically, varies by worker, equal to k=1 below)\n",
    "    # xcache_to_use = caches[idx%8]\n",
    "    # paths = [\"root://\" + xcache_to_use + c[22:] for c in filenames]\n",
    "\n",
    "    # fully randomize list of xcaches for each file, varies across workers randomly (equal to k=8 below)\n",
    "    # paths = []\n",
    "    # random_xcaches = [caches[random.randint(1, 8)%8] for _ in range(len(filenames))]\n",
    "    # for i, c in enumerate(filenames):\n",
    "    #     paths.append(\"root://\" + random_xcaches[i] + c[22:])\n",
    "\n",
    "    # give each worker k xcaches, randomize files pulled out from just these\n",
    "    paths = []\n",
    "    xcaches_for_worker = random.sample(caches, k=4)  # set k here\n",
    "    assigned_xcaches = random.choices(xcaches_for_worker, k=len(filenames))\n",
    "    for i, c in enumerate(filenames):\n",
    "        paths.append(\"root://\" + assigned_xcaches[i] + c[22:])\n",
    "\n",
    "    t0 = time.perf_counter()\n",
    "    for fname in paths:\n",
    "        # print(f\"xrdcp {fname} /dev/null -f\")\n",
    "        os.system(f\"xrdcp {fname} /dev/null -f\")\n",
    "    t1 = time.perf_counter()\n",
    "    time_finished = datetime.datetime.now()\n",
    "    return {\"runtime\": t1-t0, \"time_finished\": time_finished}\n",
    "\n",
    "\n",
    "NUM_TASKS = 1000  # total number of tasks (to run in parallel, given enough workers are available)\n",
    "tasks = [dask.delayed(run_xrdcp)(i) for i in range(NUM_TASKS)]\n",
    "_ = dask.compute(*tasks)"
   ]
  }
 ],
 "metadata": {
  "kernelspec": {
   "display_name": "Python 3 (ipykernel)",
   "language": "python",
   "name": "python3"
  },
  "language_info": {
   "codemirror_mode": {
    "name": "ipython",
    "version": 3
   },
   "file_extension": ".py",
   "mimetype": "text/x-python",
   "name": "python",
   "nbconvert_exporter": "python",
   "pygments_lexer": "ipython3",
   "version": "3.9.12"
  }
 },
 "nbformat": 4,
 "nbformat_minor": 5
}
