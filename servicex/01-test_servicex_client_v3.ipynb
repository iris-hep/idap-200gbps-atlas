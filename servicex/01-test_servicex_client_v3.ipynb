{
 "cells": [
  {
   "cell_type": "code",
   "execution_count": 1,
   "metadata": {},
   "outputs": [],
   "source": [
    "import dask_awkward as dak\n",
    "import uproot\n",
    "from func_adl_servicex_xaodr22 import (FuncADLQueryPHYSLITE, cpp_float,\n",
    "                                       cpp_int, cpp_vfloat, cpp_vint)\n",
    "from hist import Hist\n",
    "\n",
    "from servicex import General, Sample, ServiceXSpec\n",
    "from servicex.servicex_client import deliver"
   ]
  },
  {
   "cell_type": "code",
   "execution_count": 2,
   "metadata": {},
   "outputs": [],
   "source": [
    "# for atlasr22\n",
    "funcadl_query = FuncADLQueryPHYSLITE()\n",
    "funcadl_query = funcadl_query.Select(\n",
    "    lambda e: {\n",
    "        \"evt\": e.EventInfo(\"EventInfo\"),\n",
    "        \"jet\": e.Jets(),\n",
    "    }\n",
    ")\n",
    "funcadl_query = funcadl_query.Select(\n",
    "    lambda ei: {\n",
    "        \"event_number\": ei.evt.eventNumber(),  # type: ignore\n",
    "        \"run_number\": ei.evt.runNumber(),  # type: ignore\n",
    "        \"jet_pt\": ei.jet.Select(lambda j: j.pt() / 1000),  # type: ignore\n",
    "        \"jet_eta\": ei.jet.Select(lambda j: j.eta()),  # type: ignore\n",
    "        \"jet_phi\": ei.jet.Select(lambda j: j.phi()),  # type: ignore\n",
    "        \"jet_m\": ei.jet.Select(lambda j: j.m()),  # type: ignore\n",
    "        \"jet_EnergyPerSampling\": ei.jet.Select(  # type: ignore\n",
    "            lambda j: j.getAttribute[cpp_vfloat](\"EnergyPerSampling\")\n",
    "        ),\n",
    "        \"jet_SumPtTrkPt500\": ei.jet.Select(  # type: ignore\n",
    "            lambda j: j.getAttribute[cpp_vfloat](\"SumPtTrkPt500\")\n",
    "        ),\n",
    "        \"jet_TrackWidthPt1000\": ei.jet.Select(  # type: ignore\n",
    "            lambda j: j.getAttribute[cpp_vfloat](\"TrackWidthPt1000\")\n",
    "        ),\n",
    "        \"jet_NumTrkPt500\": ei.jet.Select(  # type: ignore\n",
    "            lambda j: j.getAttribute[cpp_vint](\"NumTrkPt500\")\n",
    "        ),\n",
    "        \"jet_NumTrkPt1000\": ei.jet.Select(  # type: ignore\n",
    "            lambda j: j.getAttribute[cpp_vint](\"NumTrkPt1000\")\n",
    "        ),\n",
    "        \"jet_SumPtChargedPFOPt500\": ei.jet.Select(  # type: ignore\n",
    "            lambda j: j.getAttribute[cpp_vfloat](\"SumPtChargedPFOPt500\")\n",
    "        ),\n",
    "        \"jet_Timing\": ei.jet.Select(  # type: ignore\n",
    "            lambda j: j.getAttribute[cpp_float](\"Timing\")\n",
    "        ),\n",
    "        \"jet_JetConstitScaleMomentum_eta\": ei.jet.Select(  # type: ignore\n",
    "            lambda j: j.getAttribute[cpp_float](\"JetConstitScaleMomentum_eta\")\n",
    "        ),\n",
    "        \"jet_ActiveArea4vec_eta\": ei.jet.Select(  # type: ignore\n",
    "            lambda j: j.getAttribute[cpp_float](\"ActiveArea4vec_eta\")\n",
    "        ),\n",
    "        \"jet_DetectorEta\": ei.jet.Select(  # type: ignore\n",
    "            lambda j: j.getAttribute[cpp_float](\"DetectorEta\")\n",
    "        ),\n",
    "        \"jet_JetConstitScaleMomentum_phi\": ei.jet.Select(  # type: ignore\n",
    "            lambda j: j.getAttribute[cpp_float](\"JetConstitScaleMomentum_phi\")\n",
    "        ),\n",
    "        \"jet_ActiveArea4vec_phi\": ei.jet.Select(  # type: ignore\n",
    "            lambda j: j.getAttribute[cpp_float](\"ActiveArea4vec_phi\")\n",
    "        ),\n",
    "        \"jet_JetConstitScaleMomentum_m\": ei.jet.Select(  # type: ignore\n",
    "            lambda j: j.getAttribute[cpp_float](\"JetConstitScaleMomentum_m\")\n",
    "        ),\n",
    "        \"jet_JetConstitScaleMomentum_pt\": ei.jet.Select(  # type: ignore\n",
    "            lambda j: j.getAttribute[cpp_float](\"JetConstitScaleMomentum_pt\")\n",
    "        ),\n",
    "        \"jet_Width\": ei.jet.Select(  # type: ignore\n",
    "            lambda j: j.getAttribute[cpp_float](\"Width\")\n",
    "        ),\n",
    "        \"jet_EMFrac\": ei.jet.Select(  # type: ignore\n",
    "            lambda j: j.getAttribute[cpp_float](\"EMFrac\")\n",
    "        ),\n",
    "        \"jet_ActiveArea4vec_m\": ei.jet.Select(  # type: ignore\n",
    "            lambda j: j.getAttribute[cpp_float](\"ActiveArea4vec_m\")\n",
    "        ),\n",
    "        \"jet_DFCommonJets_QGTagger_TracksWidth\": ei.jet.Select(  # type: ignore\n",
    "            lambda j: j.getAttribute[cpp_float](\"DFCommonJets_QGTagger_TracksWidth\")\n",
    "        ),\n",
    "        \"jet_JVFCorr\": ei.jet.Select(  # type: ignore\n",
    "            lambda j: j.getAttribute[cpp_float](\"JVFCorr\")\n",
    "        ),\n",
    "        \"jet_DFCommonJets_QGTagger_TracksC1\": ei.jet.Select(  # type: ignore\n",
    "            lambda j: j.getAttribute[cpp_float](\"DFCommonJets_QGTagger_TracksC1\")\n",
    "        ),\n",
    "        \"jet_PSFrac\": ei.jet.Select(  # type: ignore\n",
    "            lambda j: j.getAttribute[cpp_float](\"PSFrac\")\n",
    "        ),\n",
    "        \"jet_DFCommonJets_QGTagger_NTracks\": ei.jet.Select(  # type: ignore\n",
    "            lambda j: j.getAttribute[cpp_int](\"DFCommonJets_QGTagger_NTracks\")\n",
    "        ),\n",
    "        \"jet_DFCommonJets_fJvt\": ei.jet.Select(  # type: ignore\n",
    "            lambda j: j.getAttribute[cpp_float](\"DFCommonJets_fJvt\")\n",
    "        ),\n",
    "        \"jet_PartonTruthLabelID\": ei.jet.Select(  # type: ignore\n",
    "            lambda j: j.getAttribute[cpp_int](\"PartonTruthLabelID\")\n",
    "        ),\n",
    "        \"jet_HadronConeExclExtendedTruthLabelID\": ei.jet.Select(  # type: ignore\n",
    "            lambda j: j.getAttribute[cpp_int](\"HadronConeExclExtendedTruthLabelID\")\n",
    "        ),\n",
    "        \"jet_ConeTruthLabelID\": ei.jet.Select(  # type: ignore\n",
    "            lambda j: j.getAttribute[cpp_int](\"ConeTruthLabelID\")\n",
    "        ),\n",
    "        \"jet_HadronConeExclTruthLabelID\": ei.jet.Select(  # type: ignore\n",
    "            lambda j: j.getAttribute[cpp_int](\"HadronConeExclTruthLabelID\")\n",
    "        ),\n",
    "        \"jet_ActiveArea4vec_pt\": ei.jet.Select(  # type: ignore\n",
    "            lambda j: j.getAttribute[cpp_float](\"ActiveArea4vec_pt\")\n",
    "        ),\n",
    "    }\n",
    ")"
   ]
  },
  {
   "cell_type": "code",
   "execution_count": 3,
   "metadata": {},
   "outputs": [],
   "source": [
    "spec = ServiceXSpec(\n",
    "    General=General(\n",
    "        ServiceX=\"atlasr22\",\n",
    "        Codegen=\"atlasr22\",\n",
    "        OutputFormat=\"root-file\",\n",
    "        Delivery=\"LocalCache\",\n",
    "    ),\n",
    "    Sample=[\n",
    "        Sample(\n",
    "            Name=\"test\",\n",
    "            RucioDID=\"mc20_13TeV:mc20_13TeV.345705.Sherpa_222_NNPDF30NNLO_ggllll_0M4l130.deriv.DAOD_PHYSLITE.e6213_s3681_r13167_p6026\",\n",
    "            Query=funcadl_query,\n",
    "            IgnoreLocalCache=False,\n",
    "            NFiles=1,\n",
    "        )\n",
    "    ],\n",
    ")"
   ]
  },
  {
   "cell_type": "code",
   "execution_count": 4,
   "metadata": {},
   "outputs": [
    {
     "data": {
      "text/html": [
       "<pre style=\"white-space:pre;overflow-x:auto;line-height:normal;font-family:Menlo,'DejaVu Sans Mono',consolas,'Courier New',monospace\">Returning code generators from cache\n",
       "</pre>\n"
      ],
      "text/plain": [
       "Returning code generators from cache\n"
      ]
     },
     "metadata": {},
     "output_type": "display_data"
    },
    {
     "data": {
      "application/vnd.jupyter.widget-view+json": {
       "model_id": "1b8c403b288a4d5da8736efae852a4df",
       "version_major": 2,
       "version_minor": 0
      },
      "text/plain": [
       "Output()"
      ]
     },
     "metadata": {},
     "output_type": "display_data"
    },
    {
     "data": {
      "text/html": [
       "<pre style=\"white-space:pre;overflow-x:auto;line-height:normal;font-family:Menlo,'DejaVu Sans Mono',consolas,'Courier New',monospace\">Returning results from cache\n",
       "</pre>\n"
      ],
      "text/plain": [
       "Returning results from cache\n"
      ]
     },
     "metadata": {},
     "output_type": "display_data"
    },
    {
     "data": {
      "text/html": [
       "<pre style=\"white-space:pre;overflow-x:auto;line-height:normal;font-family:Menlo,'DejaVu Sans Mono',consolas,'Courier New',monospace\"></pre>\n"
      ],
      "text/plain": []
     },
     "metadata": {},
     "output_type": "display_data"
    },
    {
     "data": {
      "text/html": [
       "<pre style=\"white-space:pre;overflow-x:auto;line-height:normal;font-family:Menlo,'DejaVu Sans Mono',consolas,'Courier New',monospace\">\n",
       "</pre>\n"
      ],
      "text/plain": [
       "\n"
      ]
     },
     "metadata": {},
     "output_type": "display_data"
    }
   ],
   "source": [
    "data = deliver(spec)"
   ]
  },
  {
   "cell_type": "code",
   "execution_count": 5,
   "metadata": {},
   "outputs": [
    {
     "name": "stdout",
     "output_type": "stream",
     "text": [
      "{'test': ['C:/Users/gordo/AppData/Local/Temp/servicex_gordo/562228a6-8f40-4968-abd4-5e7bb98dae19/root___192.170.240.147__root___fax.mwt2.org_1094__pnfs_uchicago.edu_atlaslocalgroupdisk_rucio_mc20_13TeV_13_73_DAOD_PHYSLITE.37622463._000004.pool.root.1']}\n"
     ]
    }
   ],
   "source": [
    "assert data is not None\n",
    "print(data)"
   ]
  },
  {
   "cell_type": "markdown",
   "metadata": {},
   "source": [
    "# Loading the data\n",
    "\n",
    "Make sure we can open these files and look at them!"
   ]
  },
  {
   "cell_type": "code",
   "execution_count": 6,
   "metadata": {},
   "outputs": [],
   "source": [
    "files = uproot.dask({k: \"atlas_xaod_tree\" for k in data[\"test\"]}, open_files=False)"
   ]
  },
  {
   "cell_type": "code",
   "execution_count": 7,
   "metadata": {},
   "outputs": [
    {
     "data": {
      "text/html": [
       "<pre>[[35.8, 26.1, 20.1, 14.1, 14.8, 11.2, 13.3],\n",
       " [60.9, 25, 11.3],\n",
       " [30.9, 24.2, 15.4, 18.5, 16.2],\n",
       " [72.2, 66.5, 51.4, 48, 25.9, 17.2, 19, 16.2, 10.3, 11.5, 9.61],\n",
       " [56.3, 18.3, 14.9, 13.3],\n",
       " [15.6, 15.8, 11.6, 13.1, 15.6],\n",
       " [17.6, 16.6, 14.1, 11.1],\n",
       " [20.6, 20.3, 16, 16.7, 10.6],\n",
       " [25.7, 22.2, 13.2, 13.3, 12, 10.1],\n",
       " [35.1, 29.2, 18.6],\n",
       " ...,\n",
       " [12.8, 12.2],\n",
       " [18.5, 19.1, 18.4, 15.6, 17.2, 12.8, 12.7, 13.2],\n",
       " [16, 21, 17.6],\n",
       " [20.7, 16.2, 17.9],\n",
       " [46.6, 36.8, 36.1, 37.4, 25.4, 23.4, 20.7, 16.6, 13.9, 12],\n",
       " [27.4, 19.2, 18.4, 11.8, 10.8],\n",
       " [16.7, 10.7, 12.6],\n",
       " [35.8, 20.9, 18.7, 23.6, 13.8, 12, 13.7, 12.2],\n",
       " [56.4, 44.5, 17.9, 21.6, 12.1]]\n",
       "----------------------------------------------------------------\n",
       "type: 20000 * var * float64</pre>"
      ],
      "text/plain": [
       "<Array [[35.8, 26.1, 20.1, ..., 11.2, 13.3], ...] type='20000 * var * float64'>"
      ]
     },
     "execution_count": 7,
     "metadata": {},
     "output_type": "execute_result"
    }
   ],
   "source": [
    "files.jet_pt.compute()"
   ]
  },
  {
   "cell_type": "markdown",
   "metadata": {},
   "source": [
    "This throws a `NotImplemented` error. I really hope this does not come back to bite us!"
   ]
  },
  {
   "cell_type": "code",
   "execution_count": 8,
   "metadata": {},
   "outputs": [],
   "source": [
    "# # Quick construction, no other imports needed:\n",
    "# h = (\n",
    "#     Hist.new.Reg(20, 0, 200, name=\"x\", label=\"Jet $p_T$\")\n",
    "#     .Int64()\n",
    "# )\n",
    "# r2 = h.fill(dak.flatten(files.jet_pt, axis=-1))"
   ]
  },
  {
   "cell_type": "code",
   "execution_count": 9,
   "metadata": {},
   "outputs": [],
   "source": [
    "# r2.compute()"
   ]
  }
 ],
 "metadata": {
  "kernelspec": {
   "display_name": "xaod_servicex",
   "language": "python",
   "name": "python3"
  },
  "language_info": {
   "codemirror_mode": {
    "name": "ipython",
    "version": 3
   },
   "file_extension": ".py",
   "mimetype": "text/x-python",
   "name": "python",
   "nbconvert_exporter": "python",
   "pygments_lexer": "ipython3",
   "version": "3.10.8"
  }
 },
 "nbformat": 4,
 "nbformat_minor": 2
}
