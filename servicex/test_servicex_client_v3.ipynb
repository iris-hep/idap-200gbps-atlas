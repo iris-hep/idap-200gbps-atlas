{
 "cells": [
  {
   "cell_type": "code",
   "execution_count": 1,
   "metadata": {},
   "outputs": [],
   "source": [
    "from servicex import ServiceXSpec, General, Sample\n",
    "from servicex.uproot_raw.uproot_raw import UprootRawQuery\n",
    "from servicex.func_adl.func_adl_dataset import FuncADLQuery\n",
    "from func_adl_servicex_xaodr22 import FuncADLQueryPHYSLITE\n",
    "from servicex.servicex_client import deliver\n",
    "import json\n",
    "from func_adl_servicex_xaodr22 import (\n",
    "    cpp_float,\n",
    "    cpp_int,\n",
    "    cpp_vfloat,\n",
    "    cpp_vint,\n",
    ")"
   ]
  },
  {
   "cell_type": "code",
   "execution_count": 2,
   "metadata": {},
   "outputs": [],
   "source": [
    "# for atlasr22\n",
    "funcadl_query = FuncADLQueryPHYSLITE()\n",
    "funcadl_query = funcadl_query.Select(lambda e: {\n",
    "        \"evt\": e.EventInfo(\"EventInfo\"),\n",
    "        \"jet\": e.Jets(),\n",
    "    })\n",
    "funcadl_query = funcadl_query.Select(lambda ei: {\n",
    "            \"event_number\": ei.evt.eventNumber(),  # type: ignore\n",
    "            \"run_number\": ei.evt.runNumber(),  # type: ignore\n",
    "            \"jet_pt\": ei.jet.Select(lambda j: j.pt() / 1000),  # type: ignore\n",
    "            \"jet_eta\": ei.jet.Select(lambda j: j.eta()),  # type: ignore\n",
    "            \"jet_phi\": ei.jet.Select(lambda j: j.phi()),  # type: ignore\n",
    "            \"jet_m\": ei.jet.Select(lambda j: j.m()),  # type: ignore\n",
    "            \"jet_EnergyPerSampling\":\n",
    "                ei.jet.Select(  # type: ignore\n",
    "                    lambda j: j.getAttribute[cpp_vfloat](\"EnergyPerSampling\")\n",
    "                ),\n",
    "            \"jet_SumPtTrkPt500\":\n",
    "                ei.jet.Select(  # type: ignore\n",
    "                    lambda j: j.getAttribute[cpp_vfloat](\"SumPtTrkPt500\")\n",
    "                ),\n",
    "            \"jet_TrackWidthPt1000\":\n",
    "                ei.jet.Select(  # type: ignore\n",
    "                    lambda j: j.getAttribute[cpp_vfloat](\"TrackWidthPt1000\")\n",
    "                ),\n",
    "            \"jet_NumTrkPt500\":\n",
    "                ei.jet.Select(  # type: ignore\n",
    "                    lambda j: j.getAttribute[cpp_vint](\"NumTrkPt500\")\n",
    "                ),\n",
    "            \"jet_NumTrkPt1000\":\n",
    "                ei.jet.Select(  # type: ignore\n",
    "                    lambda j: j.getAttribute[cpp_vint](\"NumTrkPt1000\")\n",
    "                ),\n",
    "            \"jet_SumPtChargedPFOPt500\":\n",
    "                ei.jet.Select(  # type: ignore\n",
    "                    lambda j: j.getAttribute[cpp_vfloat](\"SumPtChargedPFOPt500\")\n",
    "                ),\n",
    "            \"jet_Timing\":\n",
    "                ei.jet.Select(  # type: ignore\n",
    "                    lambda j: j.getAttribute[cpp_float](\"Timing\")\n",
    "                ),\n",
    "            \"jet_JetConstitScaleMomentum_eta\":\n",
    "                ei.jet.Select(  # type: ignore\n",
    "                    lambda j: j.getAttribute[cpp_float](\"JetConstitScaleMomentum_eta\")\n",
    "                ),\n",
    "            \"jet_ActiveArea4vec_eta\":\n",
    "                ei.jet.Select(  # type: ignore\n",
    "                    lambda j: j.getAttribute[cpp_float](\"ActiveArea4vec_eta\")\n",
    "                ),\n",
    "            \"jet_DetectorEta\":\n",
    "                ei.jet.Select(  # type: ignore\n",
    "                    lambda j: j.getAttribute[cpp_float](\"DetectorEta\")\n",
    "                ),\n",
    "            \"jet_JetConstitScaleMomentum_phi\":\n",
    "                ei.jet.Select(  # type: ignore\n",
    "                    lambda j: j.getAttribute[cpp_float](\"JetConstitScaleMomentum_phi\")\n",
    "                ),\n",
    "            \"jet_ActiveArea4vec_phi\":\n",
    "                ei.jet.Select(  # type: ignore\n",
    "                    lambda j: j.getAttribute[cpp_float](\"ActiveArea4vec_phi\")\n",
    "                ),\n",
    "            \"jet_JetConstitScaleMomentum_m\":\n",
    "                ei.jet.Select(  # type: ignore\n",
    "                    lambda j: j.getAttribute[cpp_float](\"JetConstitScaleMomentum_m\")\n",
    "                ),\n",
    "            \"jet_JetConstitScaleMomentum_pt\":\n",
    "                ei.jet.Select(  # type: ignore\n",
    "                    lambda j: j.getAttribute[cpp_float](\"JetConstitScaleMomentum_pt\")\n",
    "                ),\n",
    "            \"jet_Width\":\n",
    "                ei.jet.Select(  # type: ignore\n",
    "                    lambda j: j.getAttribute[cpp_float](\"Width\")\n",
    "                ),\n",
    "            \"jet_EMFrac\":\n",
    "                ei.jet.Select(  # type: ignore\n",
    "                    lambda j: j.getAttribute[cpp_float](\"EMFrac\")\n",
    "                ),\n",
    "            \"jet_ActiveArea4vec_m\":\n",
    "                ei.jet.Select(  # type: ignore\n",
    "                    lambda j: j.getAttribute[cpp_float](\"ActiveArea4vec_m\")\n",
    "                ),\n",
    "            \"jet_DFCommonJets_QGTagger_TracksWidth\":\n",
    "                ei.jet.Select(  # type: ignore\n",
    "                    lambda j: j.getAttribute[cpp_float](\"DFCommonJets_QGTagger_TracksWidth\")\n",
    "                ),\n",
    "            \"jet_JVFCorr\":\n",
    "                ei.jet.Select(  # type: ignore\n",
    "                    lambda j: j.getAttribute[cpp_float](\"JVFCorr\")\n",
    "                ),\n",
    "            \"jet_DFCommonJets_QGTagger_TracksC1\":\n",
    "                ei.jet.Select(  # type: ignore\n",
    "                    lambda j: j.getAttribute[cpp_float](\"DFCommonJets_QGTagger_TracksC1\")\n",
    "                ),\n",
    "            \"jet_PSFrac\":\n",
    "                ei.jet.Select(  # type: ignore\n",
    "                    lambda j: j.getAttribute[cpp_float](\"PSFrac\")\n",
    "                ),\n",
    "            \"jet_DFCommonJets_QGTagger_NTracks\":\n",
    "                ei.jet.Select(  # type: ignore\n",
    "                    lambda j: j.getAttribute[cpp_int](\"DFCommonJets_QGTagger_NTracks\")\n",
    "                ),\n",
    "            \"jet_DFCommonJets_fJvt\":\n",
    "                ei.jet.Select(  # type: ignore\n",
    "                    lambda j: j.getAttribute[cpp_float](\"DFCommonJets_fJvt\")\n",
    "                ),\n",
    "            \"jet_PartonTruthLabelID\":\n",
    "                ei.jet.Select(  # type: ignore\n",
    "                    lambda j: j.getAttribute[cpp_int](\"PartonTruthLabelID\")\n",
    "                ),\n",
    "            \"jet_HadronConeExclExtendedTruthLabelID\":\n",
    "                ei.jet.Select(  # type: ignore\n",
    "                    lambda j: j.getAttribute[cpp_int](\"HadronConeExclExtendedTruthLabelID\")\n",
    "                ),\n",
    "            \"jet_ConeTruthLabelID\":\n",
    "                ei.jet.Select(  # type: ignore\n",
    "                    lambda j: j.getAttribute[cpp_int](\"ConeTruthLabelID\")\n",
    "                ),\n",
    "            \"jet_HadronConeExclTruthLabelID\":\n",
    "                ei.jet.Select(  # type: ignore\n",
    "                    lambda j: j.getAttribute[cpp_int](\"HadronConeExclTruthLabelID\")\n",
    "                ),\n",
    "            \"jet_ActiveArea4vec_pt\":\n",
    "                ei.jet.Select(  # type: ignore\n",
    "                    lambda j: j.getAttribute[cpp_float](\"ActiveArea4vec_pt\")\n",
    "                ),\n",
    "        })"
   ]
  },
  {
   "cell_type": "code",
   "execution_count": 5,
   "metadata": {},
   "outputs": [],
   "source": [
    "spec = ServiceXSpec(\n",
    "        General=General(\n",
    "            ServiceX=\"uc-af\",\n",
    "            Codegen=\"atlasr22\",\n",
    "            OutputFormat=\"root-file\",\n",
    "            Delivery=\"LocalCache\"\n",
    "        ),\n",
    "        Sample=[\n",
    "            Sample(\n",
    "                Name=\"test\",\n",
    "                RucioDID=\"mc20_13TeV:mc20_13TeV.345705.Sherpa_222_NNPDF30NNLO_ggllll_0M4l130.deriv.DAOD_PHYSLITE.e6213_s3681_r13167_p6026\",\n",
    "                Query=funcadl_query,\n",
    "                IgnoreLocalCache=False\n",
    "            )\n",
    "        ]\n",
    "    )"
   ]
  },
  {
   "cell_type": "code",
   "execution_count": 6,
   "metadata": {},
   "outputs": [
    {
     "data": {
      "text/html": [
       "<pre style=\"white-space:pre;overflow-x:auto;line-height:normal;font-family:Menlo,'DejaVu Sans Mono',consolas,'Courier New',monospace\">Returning code generators from cache\n",
       "</pre>\n"
      ],
      "text/plain": [
       "Returning code generators from cache\n"
      ]
     },
     "metadata": {},
     "output_type": "display_data"
    },
    {
     "data": {
      "application/vnd.jupyter.widget-view+json": {
       "model_id": "cd4a4029641f40c6ba0580d848fba911",
       "version_major": 2,
       "version_minor": 0
      },
      "text/plain": [
       "Output()"
      ]
     },
     "metadata": {},
     "output_type": "display_data"
    },
    {
     "data": {
      "text/html": [
       "<pre style=\"white-space:pre;overflow-x:auto;line-height:normal;font-family:Menlo,'DejaVu Sans Mono',consolas,'Courier New',monospace\"><span style=\"font-weight: bold\">ServiceX Transform </span><span style=\"color: #ffff00; text-decoration-color: #ffff00; font-weight: bold\">5c16d806-40ac-4e5e-a4b7-08e312236b5e</span>\n",
       "</pre>\n"
      ],
      "text/plain": [
       "\u001b[1mServiceX Transform \u001b[0m\u001b[1;93m5c16d806-40ac-4e5e-a4b7-08e312236b5e\u001b[0m\n"
      ]
     },
     "metadata": {},
     "output_type": "display_data"
    },
    {
     "data": {
      "text/html": [
       "<pre style=\"white-space:pre;overflow-x:auto;line-height:normal;font-family:Menlo,'DejaVu Sans Mono',consolas,'Courier New',monospace\">Transforms completed successfully\n",
       "</pre>\n"
      ],
      "text/plain": [
       "Transforms completed successfully\n"
      ]
     },
     "metadata": {},
     "output_type": "display_data"
    },
    {
     "data": {
      "text/html": [
       "<pre style=\"white-space:pre;overflow-x:auto;line-height:normal;font-family:Menlo,'DejaVu Sans Mono',consolas,'Courier New',monospace\"></pre>\n"
      ],
      "text/plain": []
     },
     "metadata": {},
     "output_type": "display_data"
    },
    {
     "data": {
      "text/html": [
       "<pre style=\"white-space:pre;overflow-x:auto;line-height:normal;font-family:Menlo,'DejaVu Sans Mono',consolas,'Courier New',monospace\">\n",
       "</pre>\n"
      ],
      "text/plain": [
       "\n"
      ]
     },
     "metadata": {},
     "output_type": "display_data"
    }
   ],
   "source": [
    "data = deliver(spec)"
   ]
  },
  {
   "cell_type": "code",
   "execution_count": null,
   "metadata": {},
   "outputs": [],
   "source": []
  }
 ],
 "metadata": {
  "kernelspec": {
   "display_name": "xaod_servicex",
   "language": "python",
   "name": "python3"
  },
  "language_info": {
   "codemirror_mode": {
    "name": "ipython",
    "version": 3
   },
   "file_extension": ".py",
   "mimetype": "text/x-python",
   "name": "python",
   "nbconvert_exporter": "python",
   "pygments_lexer": "ipython3",
   "version": "3.9.19"
  }
 },
 "nbformat": 4,
 "nbformat_minor": 2
}
