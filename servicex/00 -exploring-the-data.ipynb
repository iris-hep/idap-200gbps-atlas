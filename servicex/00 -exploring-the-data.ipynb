{
 "cells": [
  {
   "cell_type": "markdown",
   "metadata": {},
   "source": [
    "# Exploring The Data\n",
    "\n",
    "Looking at the data to see how to access enough columns to make this relevant."
   ]
  },
  {
   "cell_type": "code",
   "execution_count": 2,
   "metadata": {},
   "outputs": [
    {
     "ename": "ImportError",
     "evalue": "cannot import name 'SXDSAtlasxAODR22' from 'func_adl_servicex_xaodr21' (c:\\Users\\gordo\\Code\\iris-hep\\idap-200gbps-atlas\\.venv\\lib\\site-packages\\func_adl_servicex_xaodr21\\__init__.py)",
     "output_type": "error",
     "traceback": [
      "\u001b[1;31m---------------------------------------------------------------------------\u001b[0m",
      "\u001b[1;31mImportError\u001b[0m                               Traceback (most recent call last)",
      "Cell \u001b[1;32mIn[2], line 2\u001b[0m\n\u001b[0;32m      1\u001b[0m \u001b[38;5;28;01mfrom\u001b[39;00m \u001b[38;5;21;01mfunc_adl_servicex_xaodr21\u001b[39;00m \u001b[38;5;28;01mimport\u001b[39;00m atlas_release\n\u001b[1;32m----> 2\u001b[0m \u001b[38;5;28;01mfrom\u001b[39;00m \u001b[38;5;21;01mfunc_adl_servicex_xaodr21\u001b[39;00m \u001b[38;5;28;01mimport\u001b[39;00m SXDSAtlasxAODR22\n\u001b[0;32m      4\u001b[0m \u001b[38;5;28mprint\u001b[39m(\u001b[38;5;124mf\u001b[39m\u001b[38;5;124m'\u001b[39m\u001b[38;5;124mUsing release \u001b[39m\u001b[38;5;132;01m{\u001b[39;00matlas_release\u001b[38;5;132;01m}\u001b[39;00m\u001b[38;5;124m'\u001b[39m)\n",
      "\u001b[1;31mImportError\u001b[0m: cannot import name 'SXDSAtlasxAODR22' from 'func_adl_servicex_xaodr21' (c:\\Users\\gordo\\Code\\iris-hep\\idap-200gbps-atlas\\.venv\\lib\\site-packages\\func_adl_servicex_xaodr21\\__init__.py)"
     ]
    }
   ],
   "source": [
    "from func_adl_servicex_xaodr21 import atlas_release\n",
    "# TODO: Update to use R22/23 or whatever.\n",
    "from func_adl_servicex_xaodr21 import SXDSAtlasxAODR21\n",
    "\n",
    "print(f'Using release {atlas_release}')"
   ]
  },
  {
   "cell_type": "markdown",
   "metadata": {},
   "source": [
    "Setup the dataset we will use for testing."
   ]
  },
  {
   "cell_type": "code",
   "execution_count": 3,
   "metadata": {},
   "outputs": [
    {
     "ename": "ServiceXException",
     "evalue": "(ServiceXException(...), 'Unable to find name/type atlasr21 in api_endpoints in servicex.yaml configuration file. Saw only names (default, default, default) and types (xaod, cms_run1_aod, uproot)')",
     "output_type": "error",
     "traceback": [
      "\u001b[1;31m---------------------------------------------------------------------------\u001b[0m",
      "\u001b[1;31mServiceXException\u001b[0m                         Traceback (most recent call last)",
      "Cell \u001b[1;32mIn[3], line 2\u001b[0m\n\u001b[0;32m      1\u001b[0m ttbar_all \u001b[38;5;241m=\u001b[39m \u001b[38;5;124m\"\u001b[39m\u001b[38;5;124mmc23_13p6TeV.601229.PhPy8EG_A14_ttbar_hdamp258p75_SingleLep.deriv.DAOD_PHYSLITE.e8514_s4162_r14622_p6026\u001b[39m\u001b[38;5;124m\"\u001b[39m\n\u001b[1;32m----> 2\u001b[0m ds \u001b[38;5;241m=\u001b[39m \u001b[43mSXDSAtlasxAODR21\u001b[49m\u001b[43m(\u001b[49m\u001b[43mttbar_all\u001b[49m\u001b[43m,\u001b[49m\u001b[43m \u001b[49m\u001b[43mbackend\u001b[49m\u001b[38;5;241;43m=\u001b[39;49m\u001b[38;5;124;43m'\u001b[39;49m\u001b[38;5;124;43matlasr21\u001b[39;49m\u001b[38;5;124;43m'\u001b[39;49m\u001b[43m)\u001b[49m\n",
      "File \u001b[1;32mc:\\Users\\gordo\\Code\\iris-hep\\idap-200gbps-atlas\\.venv\\lib\\site-packages\\func_adl_servicex_xaodr21\\sx_dataset.py:13\u001b[0m, in \u001b[0;36mSXDSAtlasxAODR21.__init__\u001b[1;34m(self, sx, backend)\u001b[0m\n\u001b[0;32m      9\u001b[0m \u001b[38;5;28;01mdef\u001b[39;00m \u001b[38;5;21m__init__\u001b[39m(\u001b[38;5;28mself\u001b[39m, sx: Union[ServiceXDataset, DatasetType], backend\u001b[38;5;241m=\u001b[39m\u001b[38;5;124m\"\u001b[39m\u001b[38;5;124matlasr21\u001b[39m\u001b[38;5;124m\"\u001b[39m):\n\u001b[0;32m     10\u001b[0m \u001b[38;5;250m    \u001b[39m\u001b[38;5;124;03m\"\"\"\u001b[39;00m\n\u001b[0;32m     11\u001b[0m \u001b[38;5;124;03m    Create a servicex dataset sequence from a servicex dataset.\u001b[39;00m\n\u001b[0;32m     12\u001b[0m \u001b[38;5;124;03m    \"\"\"\u001b[39;00m\n\u001b[1;32m---> 13\u001b[0m     \u001b[38;5;28;43msuper\u001b[39;49m\u001b[43m(\u001b[49m\u001b[43m)\u001b[49m\u001b[38;5;241;43m.\u001b[39;49m\u001b[38;5;21;43m__init__\u001b[39;49m\u001b[43m(\u001b[49m\u001b[43msx\u001b[49m\u001b[43m,\u001b[49m\u001b[43m \u001b[49m\u001b[43mbackend\u001b[49m\u001b[43m,\u001b[49m\u001b[43m \u001b[49m\u001b[43mitem_type\u001b[49m\u001b[38;5;241;43m=\u001b[39;49m\u001b[43mEvent\u001b[49m\u001b[43m)\u001b[49m\n",
      "File \u001b[1;32mc:\\Users\\gordo\\Code\\iris-hep\\idap-200gbps-atlas\\.venv\\lib\\site-packages\\func_adl_servicex\\ServiceX.py:279\u001b[0m, in \u001b[0;36mServiceXSourceCPPBase.__init__\u001b[1;34m(self, sx, backend_name, item_type)\u001b[0m\n\u001b[0;32m    267\u001b[0m \u001b[38;5;28;01mdef\u001b[39;00m \u001b[38;5;21m__init__\u001b[39m(\n\u001b[0;32m    268\u001b[0m     \u001b[38;5;28mself\u001b[39m,\n\u001b[0;32m    269\u001b[0m     sx: Union[ServiceXDataset, DatasetType],\n\u001b[0;32m    270\u001b[0m     backend_name: \u001b[38;5;28mstr\u001b[39m,\n\u001b[0;32m    271\u001b[0m     item_type: \u001b[38;5;28mtype\u001b[39m \u001b[38;5;241m=\u001b[39m Any,\n\u001b[0;32m    272\u001b[0m ):\n\u001b[0;32m    273\u001b[0m \u001b[38;5;250m    \u001b[39m\u001b[38;5;124;03m\"\"\"Create a C++ backend data set source\u001b[39;00m\n\u001b[0;32m    274\u001b[0m \n\u001b[0;32m    275\u001b[0m \u001b[38;5;124;03m    Args:\u001b[39;00m\n\u001b[0;32m    276\u001b[0m \u001b[38;5;124;03m        sx (Union[ServiceXDataset, str]): The ServiceX dataset or dataset source.\u001b[39;00m\n\u001b[0;32m    277\u001b[0m \u001b[38;5;124;03m        backend_name (str): The backend type, `xaod`, for example, for the ATLAS R21 xaod\u001b[39;00m\n\u001b[0;32m    278\u001b[0m \u001b[38;5;124;03m    \"\"\"\u001b[39;00m\n\u001b[1;32m--> 279\u001b[0m     \u001b[38;5;28;43msuper\u001b[39;49m\u001b[43m(\u001b[49m\u001b[43m)\u001b[49m\u001b[38;5;241;43m.\u001b[39;49m\u001b[38;5;21;43m__init__\u001b[39;49m\u001b[43m(\u001b[49m\u001b[43msx\u001b[49m\u001b[43m,\u001b[49m\u001b[43m \u001b[49m\u001b[43mbackend_name\u001b[49m\u001b[43m,\u001b[49m\u001b[43m \u001b[49m\u001b[43mitem_type\u001b[49m\u001b[43m)\u001b[49m\n\u001b[0;32m    281\u001b[0m     \u001b[38;5;66;03m# Add the filename\u001b[39;00m\n\u001b[0;32m    282\u001b[0m     \u001b[38;5;28mself\u001b[39m\u001b[38;5;241m.\u001b[39mquery_ast\u001b[38;5;241m.\u001b[39margs\u001b[38;5;241m.\u001b[39mappend(ast\u001b[38;5;241m.\u001b[39mStr(s\u001b[38;5;241m=\u001b[39m\u001b[38;5;124m\"\u001b[39m\u001b[38;5;124mbogus.root\u001b[39m\u001b[38;5;124m\"\u001b[39m))\n",
      "File \u001b[1;32mc:\\Users\\gordo\\Code\\iris-hep\\idap-200gbps-atlas\\.venv\\lib\\site-packages\\func_adl_servicex\\ServiceX.py:69\u001b[0m, in \u001b[0;36mServiceXDatasetSourceBase.__init__\u001b[1;34m(self, sx, backend_name, item_type)\u001b[0m\n\u001b[0;32m     67\u001b[0m \u001b[38;5;66;03m# Get the base created\u001b[39;00m\n\u001b[0;32m     68\u001b[0m \u001b[38;5;28;01mif\u001b[39;00m \u001b[38;5;28misinstance\u001b[39m(sx, (\u001b[38;5;28mstr\u001b[39m, Iterable)):\n\u001b[1;32m---> 69\u001b[0m     ds \u001b[38;5;241m=\u001b[39m \u001b[43mServiceXDataset\u001b[49m\u001b[43m(\u001b[49m\u001b[43msx\u001b[49m\u001b[43m,\u001b[49m\u001b[43m \u001b[49m\u001b[43mbackend_name\u001b[49m\u001b[38;5;241;43m=\u001b[39;49m\u001b[43mbackend_name\u001b[49m\u001b[43m)\u001b[49m\n\u001b[0;32m     70\u001b[0m \u001b[38;5;28;01melse\u001b[39;00m:\n\u001b[0;32m     71\u001b[0m     ds \u001b[38;5;241m=\u001b[39m sx\n",
      "File \u001b[1;32mc:\\Users\\gordo\\Code\\iris-hep\\idap-200gbps-atlas\\.venv\\lib\\site-packages\\servicex\\servicex.py:285\u001b[0m, in \u001b[0;36mServiceXDataset.__init__\u001b[1;34m(self, dataset, backend_name, backend_type, codegen, image, max_workers, result_destination, servicex_adaptor, minio_adaptor, cache_adaptor, status_callback_factory, local_log, session_generator, config_adaptor, data_convert_adaptor, ignore_cache)\u001b[0m\n\u001b[0;32m    271\u001b[0m \u001b[38;5;28mself\u001b[39m\u001b[38;5;241m.\u001b[39m_cache \u001b[38;5;241m=\u001b[39m (\n\u001b[0;32m    272\u001b[0m     Cache(\n\u001b[0;32m    273\u001b[0m         get_configured_cache_path(config\u001b[38;5;241m.\u001b[39msettings),\n\u001b[1;32m   (...)\u001b[0m\n\u001b[0;32m    280\u001b[0m     \u001b[38;5;28;01melse\u001b[39;00m cache_adaptor\n\u001b[0;32m    281\u001b[0m )\n\u001b[0;32m    283\u001b[0m \u001b[38;5;28;01mif\u001b[39;00m \u001b[38;5;129;01mnot\u001b[39;00m servicex_adaptor:\n\u001b[0;32m    284\u001b[0m     \u001b[38;5;66;03m# Given servicex adaptor is none, this should be ok. Fixes type checkers\u001b[39;00m\n\u001b[1;32m--> 285\u001b[0m     end_point, token \u001b[38;5;241m=\u001b[39m \u001b[43mconfig\u001b[49m\u001b[38;5;241;43m.\u001b[39;49m\u001b[43mget_servicex_adaptor_config\u001b[49m\u001b[43m(\u001b[49m\n\u001b[0;32m    286\u001b[0m \u001b[43m        \u001b[49m\u001b[43mbackend_name\u001b[49m\u001b[43m,\u001b[49m\u001b[43m \u001b[49m\u001b[43mbackend_type\u001b[49m\u001b[38;5;241;43m=\u001b[39;49m\u001b[43mbackend_type\u001b[49m\n\u001b[0;32m    287\u001b[0m \u001b[43m    \u001b[49m\u001b[43m)\u001b[49m\n\u001b[0;32m    288\u001b[0m     servicex_adaptor \u001b[38;5;241m=\u001b[39m ServiceXAdaptor(end_point, token)\n\u001b[0;32m    289\u001b[0m \u001b[38;5;28mself\u001b[39m\u001b[38;5;241m.\u001b[39m_servicex_adaptor \u001b[38;5;241m=\u001b[39m servicex_adaptor\n",
      "File \u001b[1;32mc:\\Users\\gordo\\Code\\iris-hep\\idap-200gbps-atlas\\.venv\\lib\\site-packages\\servicex\\servicex_config.py:217\u001b[0m, in \u001b[0;36mServiceXConfigAdaptor.get_servicex_adaptor_config\u001b[1;34m(self, backend_name, backend_type)\u001b[0m\n\u001b[0;32m    202\u001b[0m \u001b[38;5;28;01mdef\u001b[39;00m \u001b[38;5;21mget_servicex_adaptor_config\u001b[39m(\n\u001b[0;32m    203\u001b[0m     \u001b[38;5;28mself\u001b[39m,\n\u001b[0;32m    204\u001b[0m     backend_name: Optional[\u001b[38;5;28mstr\u001b[39m] \u001b[38;5;241m=\u001b[39m \u001b[38;5;28;01mNone\u001b[39;00m,\n\u001b[0;32m    205\u001b[0m     backend_type: Optional[\u001b[38;5;28mstr\u001b[39m] \u001b[38;5;241m=\u001b[39m \u001b[38;5;28;01mNone\u001b[39;00m,\n\u001b[0;32m    206\u001b[0m ) \u001b[38;5;241m-\u001b[39m\u001b[38;5;241m>\u001b[39m Tuple[\u001b[38;5;28mstr\u001b[39m, Optional[\u001b[38;5;28mstr\u001b[39m]]:\n\u001b[0;32m    207\u001b[0m \u001b[38;5;250m    \u001b[39m\u001b[38;5;124;03m\"\"\"Return the servicex (endpoint, token) from a given backend configuration.\u001b[39;00m\n\u001b[0;32m    208\u001b[0m \n\u001b[0;32m    209\u001b[0m \u001b[38;5;124;03m    Args:\u001b[39;00m\n\u001b[1;32m   (...)\u001b[0m\n\u001b[0;32m    215\u001b[0m \u001b[38;5;124;03m        token (optionally).\u001b[39;00m\n\u001b[0;32m    216\u001b[0m \u001b[38;5;124;03m    \"\"\"\u001b[39;00m\n\u001b[1;32m--> 217\u001b[0m     config \u001b[38;5;241m=\u001b[39m \u001b[38;5;28;43mself\u001b[39;49m\u001b[38;5;241;43m.\u001b[39;49m\u001b[43m_get_backend_info\u001b[49m\u001b[43m(\u001b[49m\u001b[43mbackend_name\u001b[49m\u001b[43m,\u001b[49m\u001b[43m \u001b[49m\u001b[43mbackend_type\u001b[49m\u001b[43m)\u001b[49m\n\u001b[0;32m    219\u001b[0m     endpoint \u001b[38;5;241m=\u001b[39m config[\u001b[38;5;124m\"\u001b[39m\u001b[38;5;124mendpoint\u001b[39m\u001b[38;5;124m\"\u001b[39m]\n\u001b[0;32m    220\u001b[0m     token \u001b[38;5;241m=\u001b[39m config[\u001b[38;5;124m\"\u001b[39m\u001b[38;5;124mtoken\u001b[39m\u001b[38;5;124m\"\u001b[39m] \u001b[38;5;28;01mif\u001b[39;00m \u001b[38;5;124m\"\u001b[39m\u001b[38;5;124mtoken\u001b[39m\u001b[38;5;124m\"\u001b[39m \u001b[38;5;129;01min\u001b[39;00m config \u001b[38;5;28;01melse\u001b[39;00m \u001b[38;5;28;01mNone\u001b[39;00m\n",
      "File \u001b[1;32mc:\\Users\\gordo\\Code\\iris-hep\\idap-200gbps-atlas\\.venv\\lib\\site-packages\\servicex\\servicex_config.py:148\u001b[0m, in \u001b[0;36mServiceXConfigAdaptor._get_backend_info\u001b[1;34m(self, backend_name, backend_type)\u001b[0m\n\u001b[0;32m    137\u001b[0m         seen_types \u001b[38;5;241m=\u001b[39m [\n\u001b[0;32m    138\u001b[0m             \u001b[38;5;28mstr\u001b[39m(ep[\u001b[38;5;124m\"\u001b[39m\u001b[38;5;124mtype\u001b[39m\u001b[38;5;124m\"\u001b[39m]\u001b[38;5;241m.\u001b[39mas_str_expanded())\n\u001b[0;32m    139\u001b[0m             \u001b[38;5;28;01mfor\u001b[39;00m ep \u001b[38;5;129;01min\u001b[39;00m endpoints\n\u001b[0;32m    140\u001b[0m             \u001b[38;5;28;01mif\u001b[39;00m ep[\u001b[38;5;124m\"\u001b[39m\u001b[38;5;124mtype\u001b[39m\u001b[38;5;124m\"\u001b[39m]\u001b[38;5;241m.\u001b[39mexists()\n\u001b[0;32m    141\u001b[0m         ]\n\u001b[0;32m    142\u001b[0m         seen_names \u001b[38;5;241m=\u001b[39m [\n\u001b[0;32m    143\u001b[0m             \u001b[38;5;28mstr\u001b[39m(ep[\u001b[38;5;124m\"\u001b[39m\u001b[38;5;124mname\u001b[39m\u001b[38;5;124m\"\u001b[39m]\u001b[38;5;241m.\u001b[39mas_str_expanded())\n\u001b[0;32m    144\u001b[0m             \u001b[38;5;28;01mfor\u001b[39;00m ep \u001b[38;5;129;01min\u001b[39;00m endpoints\n\u001b[0;32m    145\u001b[0m             \u001b[38;5;28;01mif\u001b[39;00m ep[\u001b[38;5;124m\"\u001b[39m\u001b[38;5;124mname\u001b[39m\u001b[38;5;124m\"\u001b[39m]\u001b[38;5;241m.\u001b[39mexists()\n\u001b[0;32m    146\u001b[0m         ]\n\u001b[1;32m--> 148\u001b[0m         \u001b[38;5;28;01mraise\u001b[39;00m ServiceXException(\n\u001b[0;32m    149\u001b[0m             \u001b[38;5;124mf\u001b[39m\u001b[38;5;124m\"\u001b[39m\u001b[38;5;124mUnable to find name/type \u001b[39m\u001b[38;5;132;01m{\u001b[39;00mbackend_name\u001b[38;5;132;01m}\u001b[39;00m\u001b[38;5;124m \u001b[39m\u001b[38;5;124m\"\u001b[39m\n\u001b[0;32m    150\u001b[0m             \u001b[38;5;124m\"\u001b[39m\u001b[38;5;124min api_endpoints in servicex.yaml configuration file. Saw\u001b[39m\u001b[38;5;124m\"\u001b[39m\n\u001b[0;32m    151\u001b[0m             \u001b[38;5;124mf\u001b[39m\u001b[38;5;124m'\u001b[39m\u001b[38;5;124m only names (\u001b[39m\u001b[38;5;132;01m{\u001b[39;00m\u001b[38;5;124m\"\u001b[39m\u001b[38;5;124m, \u001b[39m\u001b[38;5;124m\"\u001b[39m\u001b[38;5;241m.\u001b[39mjoin(seen_names)\u001b[38;5;132;01m}\u001b[39;00m\u001b[38;5;124m) and types \u001b[39m\u001b[38;5;124m'\u001b[39m\n\u001b[0;32m    152\u001b[0m             \u001b[38;5;124mf\u001b[39m\u001b[38;5;124m'\u001b[39m\u001b[38;5;124m(\u001b[39m\u001b[38;5;132;01m{\u001b[39;00m\u001b[38;5;124m\"\u001b[39m\u001b[38;5;124m, \u001b[39m\u001b[38;5;124m\"\u001b[39m\u001b[38;5;241m.\u001b[39mjoin(seen_types)\u001b[38;5;132;01m}\u001b[39;00m\u001b[38;5;124m)\u001b[39m\u001b[38;5;124m'\u001b[39m\n\u001b[0;32m    153\u001b[0m         )\n\u001b[0;32m    155\u001b[0m \u001b[38;5;66;03m# Nope - now we are going to have to just use the first one there.\u001b[39;00m\n\u001b[0;32m    156\u001b[0m \u001b[38;5;28;01melse\u001b[39;00m:\n\u001b[0;32m    157\u001b[0m     \u001b[38;5;28;01mfor\u001b[39;00m ep \u001b[38;5;129;01min\u001b[39;00m endpoints:\n",
      "\u001b[1;31mServiceXException\u001b[0m: (ServiceXException(...), 'Unable to find name/type atlasr21 in api_endpoints in servicex.yaml configuration file. Saw only names (default, default, default) and types (xaod, cms_run1_aod, uproot)')"
     ]
    }
   ],
   "source": [
    "ttbar_all = \"mc23_13p6TeV.601229.PhPy8EG_A14_ttbar_hdamp258p75_SingleLep.deriv.DAOD_PHYSLITE.e8514_s4162_r14622_p6026\"\n",
    "ds = SXDSAtlasxAODR21(ttbar_all, backend='atlasr24')"
   ]
  },
  {
   "cell_type": "code",
   "execution_count": null,
   "metadata": {},
   "outputs": [],
   "source": []
  }
 ],
 "metadata": {
  "kernelspec": {
   "display_name": ".venv",
   "language": "python",
   "name": "python3"
  },
  "language_info": {
   "codemirror_mode": {
    "name": "ipython",
    "version": 3
   },
   "file_extension": ".py",
   "mimetype": "text/x-python",
   "name": "python",
   "nbconvert_exporter": "python",
   "pygments_lexer": "ipython3",
   "version": "3.10.10"
  }
 },
 "nbformat": 4,
 "nbformat_minor": 2
}
