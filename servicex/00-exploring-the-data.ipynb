{
 "cells": [
  {
   "cell_type": "markdown",
   "metadata": {},
   "source": [
    "# Exploring The Data\n",
    "\n",
    "Looking at the data to see how to access enough columns to make this relevant."
   ]
  },
  {
   "cell_type": "code",
   "execution_count": 1,
   "metadata": {},
   "outputs": [
    {
     "name": "stdout",
     "output_type": "stream",
     "text": [
      "Using release 22.2.107\n"
     ]
    }
   ],
   "source": [
    "from func_adl_servicex_xaodr22 import atlas_release\n",
    "from func_adl_servicex_xaodr22 import SXDSAtlasxAODR22PHYSLITE\n",
    "\n",
    "from hist.dask import Hist\n",
    "import dask_awkward as dak\n",
    "\n",
    "print(f'Using release {atlas_release}')"
   ]
  },
  {
   "cell_type": "markdown",
   "metadata": {},
   "source": [
    "Setup the dataset we will use for testing."
   ]
  },
  {
   "cell_type": "code",
   "execution_count": 2,
   "metadata": {},
   "outputs": [],
   "source": [
    "ttbar_all_rucio_dataset_name = \"mc23_13p6TeV.601229.PhPy8EG_A14_ttbar_hdamp258p75_SingleLep.deriv.DAOD_PHYSLITE.e8514_s4162_r14622_p6026\"\n",
    "ttbar_all = f\"rucio://{ttbar_all_rucio_dataset_name}?files=4\"\n",
    "ds = SXDSAtlasxAODR22PHYSLITE(ttbar_all, backend='atlasr22')\n",
    "\n",
    "ds.return_qastle = True"
   ]
  },
  {
   "cell_type": "markdown",
   "metadata": {},
   "source": [
    "## ServiceX Query\n",
    "\n",
    "Do an event-level query - so lists of jets, met, etc, all at the top level."
   ]
  },
  {
   "cell_type": "code",
   "execution_count": 4,
   "metadata": {},
   "outputs": [],
   "source": [
    "# TODO: The EventInfo argument should default correctly\n",
    "# TODO: dataclass should be supported so as not to lose type-following!\n",
    "query = (ds\n",
    "         .Select(lambda e: {\n",
    "             'evt': e.EventInfo(\"EventInfo\"),\n",
    "             'jet': e.Jets()\n",
    "             })\n",
    "         .Select(lambda ei: {\n",
    "             'event_number': ei.evt.eventNumber(),\n",
    "             'run_number': ei.evt.runNumber(),\n",
    "             'jet_pt': ei.jet.Select(lambda j: j.pt()/1000),\n",
    "             'jet_energy_sampling': ei.jet.Select(lambda j: j.getAttributeVectorFloat(\"EnergyPerSampling\")),\n",
    "         })\n",
    ")"
   ]
  },
  {
   "cell_type": "markdown",
   "metadata": {},
   "source": [
    "We do not have tight integration into `dask_awkward` until there is extra code working, so lets grab all the data."
   ]
  },
  {
   "cell_type": "code",
   "execution_count": 5,
   "metadata": {},
   "outputs": [
    {
     "data": {
      "text/plain": [
       "\"(call Select (call Select (call MetaData (call MetaData (call EventDataset 'bogus.root') (dict (list 'metadata_type' 'name' 'include_files' 'container_type' 'contains_collection' 'link_libraries') (list 'add_atlas_event_collection_info' 'EventInfo' (list 'xAODEventInfo/versions/EventInfo_v1.h') 'xAOD::EventInfo_v1' False (list 'xAODEventInfo')))) (dict (list 'metadata_type' 'name' 'include_files' 'container_type' 'element_type' 'contains_collection' 'link_libraries') (list 'add_atlas_event_collection_info' 'Jets' (list 'xAODJet/JetContainer.h') 'DataVector<xAOD::Jet_v1>' 'xAOD::Jet_v1' True (list 'xAODJet')))) (lambda (list e) (dict (list 'evt' 'jet') (list (call (attr e 'EventInfo') 'EventInfo') (call (attr e 'Jets') 'AnalysisJets'))))) (lambda (list ei) (dict (list 'event_number' 'run_number' 'jet_pt' 'jet_energy_sampling') (list (call (attr (attr ei 'evt') 'eventNumber')) (call (attr (attr ei 'evt') 'runNumber')) (call (attr (attr ei 'jet') 'Select') (lambda (list j) (/ (call (attr j 'pt')) 1000))) (call (attr (attr ei 'jet') 'Select') (lambda (list j) (call (attr j 'getAttributeVectorFloat') 'EnergyPerSampling')))))))\""
      ]
     },
     "execution_count": 5,
     "metadata": {},
     "output_type": "execute_result"
    }
   ],
   "source": [
    "# Start by grabbing the data as an awkward array\n",
    "# TODO: Files should remain in the S3 cache and be read directly from there\n",
    "qastle_text = query.value()\n",
    "qastle_text"
   ]
  },
  {
   "cell_type": "code",
   "execution_count": 6,
   "metadata": {},
   "outputs": [
    {
     "data": {
      "application/vnd.jupyter.widget-view+json": {
       "model_id": "f0e05bc4a02c41f88e539d4ec4574b08",
       "version_major": 2,
       "version_minor": 0
      },
      "text/plain": [
       "First Request:   0%|          | 0/9000000000.0 [00:00]"
      ]
     },
     "metadata": {},
     "output_type": "display_data"
    },
    {
     "data": {
      "application/vnd.jupyter.widget-view+json": {
       "model_id": "dfbe57c5c57f43749239bc54f1f7e5a8",
       "version_major": 2,
       "version_minor": 0
      },
      "text/plain": [
       "        First Request Downloaded:   0%|          | 0/9000000000.0 [00:00]"
      ]
     },
     "metadata": {},
     "output_type": "display_data"
    },
    {
     "data": {
      "text/plain": [
       "[WindowsPath('C:/Users/gordo/AppData/Local/Temp/servicex_gordo/data/2ab284a4-01ad-466a-ae21-13f02aa70f33/e603ae32a8ae0b03a73b04211b9d7cb4-TE.37223155._000309.pool.root.1'),\n",
       " WindowsPath('C:/Users/gordo/AppData/Local/Temp/servicex_gordo/data/2ab284a4-01ad-466a-ae21-13f02aa70f33/37845c405fe1b9e4c6ac080e5328d900-TE.37223155._000289.pool.root.1'),\n",
       " WindowsPath('C:/Users/gordo/AppData/Local/Temp/servicex_gordo/data/2ab284a4-01ad-466a-ae21-13f02aa70f33/84ff6ddd812ac4c37755811d3ea96436-TE.37223155._000310.pool.root.1')]"
      ]
     },
     "execution_count": 6,
     "metadata": {},
     "output_type": "execute_result"
    }
   ],
   "source": [
    "from servicex import ServiceXDataset\n",
    "ds_prime = ServiceXDataset(ttbar_all, backend_name='atlasr22')\n",
    "# TODO: Why does `get_data_parquet` return no files, but `get_data_rootfiles` does?\n",
    "# Download the files locally\n",
    "files = ds_prime.get_data_rootfiles(qastle_text, title=\"First Request\")\n",
    "# Get a URL so we can open over the internet\n",
    "# files = ds_prime.get_data_rootfiles_uri(qastle_text, title=\"First Request\")\n",
    "# files = [f.url for f in files]\n",
    "\n",
    "files"
   ]
  },
  {
   "cell_type": "code",
   "execution_count": null,
   "metadata": {},
   "outputs": [],
   "source": [
    "import uproot\n",
    "data = uproot.dask({\n",
    "    f: 'atlas_xaod_tree'\n",
    "    for f in files\n",
    "})"
   ]
  },
  {
   "cell_type": "markdown",
   "metadata": {},
   "source": [
    "## Plots\n",
    "\n",
    "Next, lets make plots of everything"
   ]
  },
  {
   "cell_type": "code",
   "execution_count": null,
   "metadata": {},
   "outputs": [],
   "source": [
    "# Quick construction, no other imports needed:\n",
    "h = (\n",
    "    Hist.new.Reg(20, 0, 100000000, name=\"x\", label=\"x-axis\")\n",
    "    .Int64()\n",
    ")\n",
    "r1 = h.fill(data.event_number)"
   ]
  },
  {
   "cell_type": "code",
   "execution_count": null,
   "metadata": {},
   "outputs": [],
   "source": [
    "# Quick construction, no other imports needed:\n",
    "h = (\n",
    "    Hist.new.Reg(20, 0, 200, name=\"x\", label=\"Jet $p_T$\")\n",
    "    .Int64()\n",
    ")\n",
    "r2 = h.fill(dak.flatten(data.jet_pt))"
   ]
  },
  {
   "cell_type": "code",
   "execution_count": null,
   "metadata": {},
   "outputs": [],
   "source": [
    "r1.compute()"
   ]
  },
  {
   "cell_type": "code",
   "execution_count": null,
   "metadata": {},
   "outputs": [],
   "source": [
    "r2.compute()"
   ]
  }
 ],
 "metadata": {
  "kernelspec": {
   "display_name": ".venv",
   "language": "python",
   "name": "python3"
  },
  "language_info": {
   "codemirror_mode": {
    "name": "ipython",
    "version": 3
   },
   "file_extension": ".py",
   "mimetype": "text/x-python",
   "name": "python",
   "nbconvert_exporter": "python",
   "pygments_lexer": "ipython3",
   "version": "3.10.8"
  }
 },
 "nbformat": 4,
 "nbformat_minor": 2
}
