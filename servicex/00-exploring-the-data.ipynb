{
 "cells": [
  {
   "cell_type": "markdown",
   "metadata": {},
   "source": [
    "# Exploring The Data\n",
    "\n",
    "Looking at the data to see how to access enough columns to make this relevant."
   ]
  },
  {
   "cell_type": "code",
   "execution_count": 1,
   "metadata": {},
   "outputs": [
    {
     "name": "stdout",
     "output_type": "stream",
     "text": [
      "Using release 22.2.107\n"
     ]
    }
   ],
   "source": [
    "from func_adl_servicex_xaodr22 import atlas_release\n",
    "from func_adl_servicex_xaodr22 import SXDSAtlasxAODR22PHYSLITE\n",
    "\n",
    "from hist.dask import Hist\n",
    "import dask_awkward as dak\n",
    "\n",
    "print(f'Using release {atlas_release}')"
   ]
  },
  {
   "cell_type": "markdown",
   "metadata": {},
   "source": [
    "Setup the dataset we will use for testing."
   ]
  },
  {
   "cell_type": "code",
   "execution_count": 2,
   "metadata": {},
   "outputs": [],
   "source": [
    "ttbar_all_rucio_dataset_name = \"mc23_13p6TeV.601229.PhPy8EG_A14_ttbar_hdamp258p75_SingleLep.deriv.DAOD_PHYSLITE.e8514_s4162_r14622_p6026\"\n",
    "ttbar_all = f\"rucio://{ttbar_all_rucio_dataset_name}?files=4\"\n",
    "ds = SXDSAtlasxAODR22PHYSLITE(ttbar_all, backend='atlasr22')\n",
    "\n",
    "ds.return_qastle = True"
   ]
  },
  {
   "cell_type": "markdown",
   "metadata": {},
   "source": [
    "## ServiceX Query\n",
    "\n",
    "Do an event-level query - so lists of jets, met, etc, all at the top level."
   ]
  },
  {
   "cell_type": "code",
   "execution_count": 3,
   "metadata": {},
   "outputs": [],
   "source": [
    "# TODO: The EventInfo argument should default correctly\n",
    "# TODO: dataclass should be supported so as not to lose type-following!\n",
    "query = (ds\n",
    "         .Select(lambda e: {\n",
    "             'evt': e.EventInfo(\"EventInfo\"),\n",
    "             'jet': e.Jets()\n",
    "             })\n",
    "         .Select(lambda ei: {\n",
    "             'event_number': ei.evt.eventNumber(),\n",
    "             'run_number': ei.evt.runNumber(),\n",
    "             'jet_pt': ei.jet.Select(lambda j: j.pt()/1000)\n",
    "         })\n",
    ")"
   ]
  },
  {
   "cell_type": "markdown",
   "metadata": {},
   "source": [
    "We do not have tight integration into `dask_awkward` until there is extra code working, so lets grab all the data."
   ]
  },
  {
   "cell_type": "code",
   "execution_count": 4,
   "metadata": {},
   "outputs": [
    {
     "data": {
      "text/plain": [
       "\"(call Select (call Select (call MetaData (call MetaData (call EventDataset 'bogus.root') (dict (list 'metadata_type' 'name' 'include_files' 'container_type' 'contains_collection' 'link_libraries') (list 'add_atlas_event_collection_info' 'EventInfo' (list 'xAODEventInfo/versions/EventInfo_v1.h') 'xAOD::EventInfo_v1' False (list 'xAODEventInfo')))) (dict (list 'metadata_type' 'name' 'include_files' 'container_type' 'element_type' 'contains_collection' 'link_libraries') (list 'add_atlas_event_collection_info' 'Jets' (list 'xAODJet/JetContainer.h') 'DataVector<xAOD::Jet_v1>' 'xAOD::Jet_v1' True (list 'xAODJet')))) (lambda (list e) (dict (list 'evt' 'jet') (list (call (attr e 'EventInfo') 'EventInfo') (call (attr e 'Jets') 'AnalysisJets'))))) (lambda (list ei) (dict (list 'event_number' 'run_number' 'jet_pt') (list (call (attr (attr ei 'evt') 'eventNumber')) (call (attr (attr ei 'evt') 'runNumber')) (call (attr (attr ei 'jet') 'Select') (lambda (list j) (/ (call (attr j 'pt')) 1000)))))))\""
      ]
     },
     "execution_count": 4,
     "metadata": {},
     "output_type": "execute_result"
    }
   ],
   "source": [
    "# Start by grabbing the data as an awkward array\n",
    "# TODO: Files should remain in the S3 cache and be read directly from there\n",
    "qastle_text = query.value()\n",
    "qastle_text"
   ]
  },
  {
   "cell_type": "code",
   "execution_count": 5,
   "metadata": {},
   "outputs": [
    {
     "ename": "ServiceXException",
     "evalue": "(ServiceXException(...), 'ServiceX access token request rejected: 500')",
     "output_type": "error",
     "traceback": [
      "\u001b[1;31m---------------------------------------------------------------------------\u001b[0m",
      "\u001b[1;31mServiceXException\u001b[0m                         Traceback (most recent call last)",
      "Cell \u001b[1;32mIn[5], line 5\u001b[0m\n\u001b[0;32m      2\u001b[0m ds_prime \u001b[38;5;241m=\u001b[39m ServiceXDataset(ttbar_all, backend_name\u001b[38;5;241m=\u001b[39m\u001b[38;5;124m'\u001b[39m\u001b[38;5;124matlasr22\u001b[39m\u001b[38;5;124m'\u001b[39m)\n\u001b[0;32m      3\u001b[0m \u001b[38;5;66;03m# TODO: Why does `get_data_parquet` return no files, but `get_data_rootfiles` does?\u001b[39;00m\n\u001b[0;32m      4\u001b[0m \u001b[38;5;66;03m# Download the files locally\u001b[39;00m\n\u001b[1;32m----> 5\u001b[0m files \u001b[38;5;241m=\u001b[39m \u001b[43mds_prime\u001b[49m\u001b[38;5;241;43m.\u001b[39;49m\u001b[43mget_data_rootfiles\u001b[49m\u001b[43m(\u001b[49m\u001b[43mqastle_text\u001b[49m\u001b[43m,\u001b[49m\u001b[43m \u001b[49m\u001b[43mtitle\u001b[49m\u001b[38;5;241;43m=\u001b[39;49m\u001b[38;5;124;43m\"\u001b[39;49m\u001b[38;5;124;43mFirst Request\u001b[39;49m\u001b[38;5;124;43m\"\u001b[39;49m\u001b[43m)\u001b[49m\n\u001b[0;32m      6\u001b[0m \u001b[38;5;66;03m# Get a URL so we can open over the internet\u001b[39;00m\n\u001b[0;32m      7\u001b[0m \u001b[38;5;66;03m# files = ds_prime.get_data_rootfiles_uri(qastle_text, title=\"First Request\")\u001b[39;00m\n\u001b[0;32m      8\u001b[0m \u001b[38;5;66;03m# files = [f.url for f in files]\u001b[39;00m\n\u001b[0;32m     10\u001b[0m files\n",
      "File \u001b[1;32mc:\\Users\\gordo\\Code\\iris-hep\\idap-200gbps-atlas\\.venv\\lib\\site-packages\\make_it_sync\\func_wrapper.py:57\u001b[0m, in \u001b[0;36mmake_sync.<locals>.wrapped_call\u001b[1;34m(*args, **kwargs)\u001b[0m\n\u001b[0;32m     54\u001b[0m \u001b[38;5;28;01mif\u001b[39;00m v \u001b[38;5;129;01mis\u001b[39;00m \u001b[38;5;28;01mNone\u001b[39;00m:\n\u001b[0;32m     55\u001b[0m     \u001b[38;5;28;01mraise\u001b[39;00m \u001b[38;5;167;01mNotImplementedError\u001b[39;00m(\n\u001b[0;32m     56\u001b[0m         \u001b[38;5;124mf\u001b[39m\u001b[38;5;124m'\u001b[39m\u001b[38;5;124mFunction \u001b[39m\u001b[38;5;132;01m{\u001b[39;00mfunc_name\u001b[38;5;132;01m}\u001b[39;00m\u001b[38;5;124m is not implemented by \u001b[39m\u001b[38;5;132;01m{\u001b[39;00margs[\u001b[38;5;241m0\u001b[39m]\u001b[38;5;241m.\u001b[39m\u001b[38;5;18m__name__\u001b[39m\u001b[38;5;132;01m}\u001b[39;00m\u001b[38;5;124m'\u001b[39m)\n\u001b[1;32m---> 57\u001b[0m \u001b[38;5;28;01mreturn\u001b[39;00m _sync_version_of_function(v, \u001b[38;5;241m*\u001b[39m(args[\u001b[38;5;241m1\u001b[39m:]), \u001b[38;5;241m*\u001b[39m\u001b[38;5;241m*\u001b[39mkwargs)\n",
      "File \u001b[1;32mc:\\Users\\gordo\\Code\\iris-hep\\idap-200gbps-atlas\\.venv\\lib\\site-packages\\make_it_sync\\func_wrapper.py:26\u001b[0m, in \u001b[0;36m_sync_version_of_function\u001b[1;34m(fn, *args, **kwargs)\u001b[0m\n\u001b[0;32m     23\u001b[0m exector \u001b[38;5;241m=\u001b[39m ThreadPoolExecutor(max_workers\u001b[38;5;241m=\u001b[39m\u001b[38;5;241m1\u001b[39m)\n\u001b[0;32m     24\u001b[0m future \u001b[38;5;241m=\u001b[39m exector\u001b[38;5;241m.\u001b[39msubmit(get_data_wrapper, \u001b[38;5;241m*\u001b[39margs, \u001b[38;5;241m*\u001b[39m\u001b[38;5;241m*\u001b[39mkwargs)\n\u001b[1;32m---> 26\u001b[0m \u001b[38;5;28;01mreturn\u001b[39;00m \u001b[43mfuture\u001b[49m\u001b[38;5;241;43m.\u001b[39;49m\u001b[43mresult\u001b[49m\u001b[43m(\u001b[49m\u001b[43m)\u001b[49m\n",
      "File \u001b[1;32m~\\AppData\\Local\\Programs\\Python\\Python310\\lib\\concurrent\\futures\\_base.py:458\u001b[0m, in \u001b[0;36mFuture.result\u001b[1;34m(self, timeout)\u001b[0m\n\u001b[0;32m    456\u001b[0m     \u001b[38;5;28;01mraise\u001b[39;00m CancelledError()\n\u001b[0;32m    457\u001b[0m \u001b[38;5;28;01melif\u001b[39;00m \u001b[38;5;28mself\u001b[39m\u001b[38;5;241m.\u001b[39m_state \u001b[38;5;241m==\u001b[39m FINISHED:\n\u001b[1;32m--> 458\u001b[0m     \u001b[38;5;28;01mreturn\u001b[39;00m \u001b[38;5;28;43mself\u001b[39;49m\u001b[38;5;241;43m.\u001b[39;49m\u001b[43m__get_result\u001b[49m\u001b[43m(\u001b[49m\u001b[43m)\u001b[49m\n\u001b[0;32m    459\u001b[0m \u001b[38;5;28;01melse\u001b[39;00m:\n\u001b[0;32m    460\u001b[0m     \u001b[38;5;28;01mraise\u001b[39;00m \u001b[38;5;167;01mTimeoutError\u001b[39;00m()\n",
      "File \u001b[1;32m~\\AppData\\Local\\Programs\\Python\\Python310\\lib\\concurrent\\futures\\_base.py:403\u001b[0m, in \u001b[0;36mFuture.__get_result\u001b[1;34m(self)\u001b[0m\n\u001b[0;32m    401\u001b[0m \u001b[38;5;28;01mif\u001b[39;00m \u001b[38;5;28mself\u001b[39m\u001b[38;5;241m.\u001b[39m_exception:\n\u001b[0;32m    402\u001b[0m     \u001b[38;5;28;01mtry\u001b[39;00m:\n\u001b[1;32m--> 403\u001b[0m         \u001b[38;5;28;01mraise\u001b[39;00m \u001b[38;5;28mself\u001b[39m\u001b[38;5;241m.\u001b[39m_exception\n\u001b[0;32m    404\u001b[0m     \u001b[38;5;28;01mfinally\u001b[39;00m:\n\u001b[0;32m    405\u001b[0m         \u001b[38;5;66;03m# Break a reference cycle with the exception in self._exception\u001b[39;00m\n\u001b[0;32m    406\u001b[0m         \u001b[38;5;28mself\u001b[39m \u001b[38;5;241m=\u001b[39m \u001b[38;5;28;01mNone\u001b[39;00m\n",
      "File \u001b[1;32m~\\AppData\\Local\\Programs\\Python\\Python310\\lib\\concurrent\\futures\\thread.py:58\u001b[0m, in \u001b[0;36m_WorkItem.run\u001b[1;34m(self)\u001b[0m\n\u001b[0;32m     55\u001b[0m     \u001b[38;5;28;01mreturn\u001b[39;00m\n\u001b[0;32m     57\u001b[0m \u001b[38;5;28;01mtry\u001b[39;00m:\n\u001b[1;32m---> 58\u001b[0m     result \u001b[38;5;241m=\u001b[39m \u001b[38;5;28mself\u001b[39m\u001b[38;5;241m.\u001b[39mfn(\u001b[38;5;241m*\u001b[39m\u001b[38;5;28mself\u001b[39m\u001b[38;5;241m.\u001b[39margs, \u001b[38;5;241m*\u001b[39m\u001b[38;5;241m*\u001b[39m\u001b[38;5;28mself\u001b[39m\u001b[38;5;241m.\u001b[39mkwargs)\n\u001b[0;32m     59\u001b[0m \u001b[38;5;28;01mexcept\u001b[39;00m \u001b[38;5;167;01mBaseException\u001b[39;00m \u001b[38;5;28;01mas\u001b[39;00m exc:\n\u001b[0;32m     60\u001b[0m     \u001b[38;5;28mself\u001b[39m\u001b[38;5;241m.\u001b[39mfuture\u001b[38;5;241m.\u001b[39mset_exception(exc)\n",
      "File \u001b[1;32mc:\\Users\\gordo\\Code\\iris-hep\\idap-200gbps-atlas\\.venv\\lib\\site-packages\\make_it_sync\\func_wrapper.py:21\u001b[0m, in \u001b[0;36m_sync_version_of_function.<locals>.get_data_wrapper\u001b[1;34m(*args, **kwargs)\u001b[0m\n\u001b[0;32m     19\u001b[0m asyncio\u001b[38;5;241m.\u001b[39mset_event_loop(loop)\n\u001b[0;32m     20\u001b[0m \u001b[38;5;28;01massert\u001b[39;00m \u001b[38;5;129;01mnot\u001b[39;00m loop\u001b[38;5;241m.\u001b[39mis_running()\n\u001b[1;32m---> 21\u001b[0m \u001b[38;5;28;01mreturn\u001b[39;00m \u001b[43mloop\u001b[49m\u001b[38;5;241;43m.\u001b[39;49m\u001b[43mrun_until_complete\u001b[49m\u001b[43m(\u001b[49m\u001b[43mfn\u001b[49m\u001b[43m(\u001b[49m\u001b[38;5;241;43m*\u001b[39;49m\u001b[43margs\u001b[49m\u001b[43m,\u001b[49m\u001b[43m \u001b[49m\u001b[38;5;241;43m*\u001b[39;49m\u001b[38;5;241;43m*\u001b[39;49m\u001b[43mkwargs\u001b[49m\u001b[43m)\u001b[49m\u001b[43m)\u001b[49m\n",
      "File \u001b[1;32m~\\AppData\\Local\\Programs\\Python\\Python310\\lib\\asyncio\\base_events.py:649\u001b[0m, in \u001b[0;36mBaseEventLoop.run_until_complete\u001b[1;34m(self, future)\u001b[0m\n\u001b[0;32m    646\u001b[0m \u001b[38;5;28;01mif\u001b[39;00m \u001b[38;5;129;01mnot\u001b[39;00m future\u001b[38;5;241m.\u001b[39mdone():\n\u001b[0;32m    647\u001b[0m     \u001b[38;5;28;01mraise\u001b[39;00m \u001b[38;5;167;01mRuntimeError\u001b[39;00m(\u001b[38;5;124m'\u001b[39m\u001b[38;5;124mEvent loop stopped before Future completed.\u001b[39m\u001b[38;5;124m'\u001b[39m)\n\u001b[1;32m--> 649\u001b[0m \u001b[38;5;28;01mreturn\u001b[39;00m \u001b[43mfuture\u001b[49m\u001b[38;5;241;43m.\u001b[39;49m\u001b[43mresult\u001b[49m\u001b[43m(\u001b[49m\u001b[43m)\u001b[49m\n",
      "File \u001b[1;32mc:\\Users\\gordo\\Code\\iris-hep\\idap-200gbps-atlas\\.venv\\lib\\site-packages\\servicex\\servicex_utils.py:51\u001b[0m, in \u001b[0;36m_wrap_in_memory_sx_cache.<locals>.cached_version_of_fn\u001b[1;34m(*args, **kwargs)\u001b[0m\n\u001b[0;32m     49\u001b[0m \u001b[38;5;28;01mtry\u001b[39;00m:\n\u001b[0;32m     50\u001b[0m     logger\u001b[38;5;241m.\u001b[39mdebug(\u001b[38;5;124mf\u001b[39m\u001b[38;5;124m\"\u001b[39m\u001b[38;5;132;01m{\u001b[39;00mh\u001b[38;5;132;01m}\u001b[39;00m\u001b[38;5;124m - processing request\u001b[39m\u001b[38;5;124m\"\u001b[39m)\n\u001b[1;32m---> 51\u001b[0m     result \u001b[38;5;241m=\u001b[39m \u001b[38;5;28;01mawait\u001b[39;00m fn(\u001b[38;5;241m*\u001b[39margs, \u001b[38;5;241m*\u001b[39m\u001b[38;5;241m*\u001b[39mkwargs)\n\u001b[0;32m     52\u001b[0m     sx\u001b[38;5;241m.\u001b[39m_cache\u001b[38;5;241m.\u001b[39mset_inmem(h, result)\n\u001b[0;32m     53\u001b[0m \u001b[38;5;28;01mfinally\u001b[39;00m:\n",
      "File \u001b[1;32mc:\\Users\\gordo\\Code\\iris-hep\\idap-200gbps-atlas\\.venv\\lib\\site-packages\\servicex\\servicex.py:363\u001b[0m, in \u001b[0;36mServiceXDataset.get_data_rootfiles_async\u001b[1;34m(self, selection_query, title)\u001b[0m\n\u001b[0;32m    358\u001b[0m \u001b[38;5;129m@functools\u001b[39m\u001b[38;5;241m.\u001b[39mwraps(ServiceXABC\u001b[38;5;241m.\u001b[39mget_data_rootfiles_async, updated\u001b[38;5;241m=\u001b[39m())\n\u001b[0;32m    359\u001b[0m \u001b[38;5;129m@_wrap_in_memory_sx_cache\u001b[39m\n\u001b[0;32m    360\u001b[0m \u001b[38;5;28;01masync\u001b[39;00m \u001b[38;5;28;01mdef\u001b[39;00m \u001b[38;5;21mget_data_rootfiles_async\u001b[39m(\n\u001b[0;32m    361\u001b[0m     \u001b[38;5;28mself\u001b[39m, selection_query: \u001b[38;5;28mstr\u001b[39m, title: Optional[\u001b[38;5;28mstr\u001b[39m] \u001b[38;5;241m=\u001b[39m \u001b[38;5;28;01mNone\u001b[39;00m\n\u001b[0;32m    362\u001b[0m ) \u001b[38;5;241m-\u001b[39m\u001b[38;5;241m>\u001b[39m List[Path]:\n\u001b[1;32m--> 363\u001b[0m     \u001b[38;5;28;01mreturn\u001b[39;00m \u001b[38;5;28;01mawait\u001b[39;00m \u001b[38;5;28mself\u001b[39m\u001b[38;5;241m.\u001b[39m_file_return(selection_query, \u001b[38;5;124m\"\u001b[39m\u001b[38;5;124mroot-file\u001b[39m\u001b[38;5;124m\"\u001b[39m, title)\n",
      "File \u001b[1;32mc:\\Users\\gordo\\Code\\iris-hep\\idap-200gbps-atlas\\.venv\\lib\\site-packages\\servicex\\servicex.py:592\u001b[0m, in \u001b[0;36mServiceXDataset._file_return\u001b[1;34m(self, selection_query, data_format, title)\u001b[0m\n\u001b[0;32m    589\u001b[0m \u001b[38;5;28;01masync\u001b[39;00m \u001b[38;5;28;01mdef\u001b[39;00m \u001b[38;5;21mconvert_to_file\u001b[39m(f: Path) \u001b[38;5;241m-\u001b[39m\u001b[38;5;241m>\u001b[39m Path:\n\u001b[0;32m    590\u001b[0m     \u001b[38;5;28;01mreturn\u001b[39;00m f\n\u001b[1;32m--> 592\u001b[0m \u001b[38;5;28;01mreturn\u001b[39;00m \u001b[38;5;28;01mawait\u001b[39;00m \u001b[38;5;28mself\u001b[39m\u001b[38;5;241m.\u001b[39m_data_return(\n\u001b[0;32m    593\u001b[0m     selection_query, convert_to_file, title, data_format\n\u001b[0;32m    594\u001b[0m )\n",
      "File \u001b[1;32mc:\\Users\\gordo\\Code\\iris-hep\\idap-200gbps-atlas\\.venv\\lib\\site-packages\\backoff\\_async.py:151\u001b[0m, in \u001b[0;36mretry_exception.<locals>.retry\u001b[1;34m(*args, **kwargs)\u001b[0m\n\u001b[0;32m    142\u001b[0m details \u001b[38;5;241m=\u001b[39m {\n\u001b[0;32m    143\u001b[0m     \u001b[38;5;124m\"\u001b[39m\u001b[38;5;124mtarget\u001b[39m\u001b[38;5;124m\"\u001b[39m: target,\n\u001b[0;32m    144\u001b[0m     \u001b[38;5;124m\"\u001b[39m\u001b[38;5;124margs\u001b[39m\u001b[38;5;124m\"\u001b[39m: args,\n\u001b[1;32m   (...)\u001b[0m\n\u001b[0;32m    147\u001b[0m     \u001b[38;5;124m\"\u001b[39m\u001b[38;5;124melapsed\u001b[39m\u001b[38;5;124m\"\u001b[39m: elapsed,\n\u001b[0;32m    148\u001b[0m }\n\u001b[0;32m    150\u001b[0m \u001b[38;5;28;01mtry\u001b[39;00m:\n\u001b[1;32m--> 151\u001b[0m     ret \u001b[38;5;241m=\u001b[39m \u001b[38;5;28;01mawait\u001b[39;00m target(\u001b[38;5;241m*\u001b[39margs, \u001b[38;5;241m*\u001b[39m\u001b[38;5;241m*\u001b[39mkwargs)\n\u001b[0;32m    152\u001b[0m \u001b[38;5;28;01mexcept\u001b[39;00m exception \u001b[38;5;28;01mas\u001b[39;00m e:\n\u001b[0;32m    153\u001b[0m     giveup_result \u001b[38;5;241m=\u001b[39m \u001b[38;5;28;01mawait\u001b[39;00m giveup(e)\n",
      "File \u001b[1;32mc:\\Users\\gordo\\Code\\iris-hep\\idap-200gbps-atlas\\.venv\\lib\\site-packages\\backoff\\_async.py:151\u001b[0m, in \u001b[0;36mretry_exception.<locals>.retry\u001b[1;34m(*args, **kwargs)\u001b[0m\n\u001b[0;32m    142\u001b[0m details \u001b[38;5;241m=\u001b[39m {\n\u001b[0;32m    143\u001b[0m     \u001b[38;5;124m\"\u001b[39m\u001b[38;5;124mtarget\u001b[39m\u001b[38;5;124m\"\u001b[39m: target,\n\u001b[0;32m    144\u001b[0m     \u001b[38;5;124m\"\u001b[39m\u001b[38;5;124margs\u001b[39m\u001b[38;5;124m\"\u001b[39m: args,\n\u001b[1;32m   (...)\u001b[0m\n\u001b[0;32m    147\u001b[0m     \u001b[38;5;124m\"\u001b[39m\u001b[38;5;124melapsed\u001b[39m\u001b[38;5;124m\"\u001b[39m: elapsed,\n\u001b[0;32m    148\u001b[0m }\n\u001b[0;32m    150\u001b[0m \u001b[38;5;28;01mtry\u001b[39;00m:\n\u001b[1;32m--> 151\u001b[0m     ret \u001b[38;5;241m=\u001b[39m \u001b[38;5;28;01mawait\u001b[39;00m target(\u001b[38;5;241m*\u001b[39margs, \u001b[38;5;241m*\u001b[39m\u001b[38;5;241m*\u001b[39mkwargs)\n\u001b[0;32m    152\u001b[0m \u001b[38;5;28;01mexcept\u001b[39;00m exception \u001b[38;5;28;01mas\u001b[39;00m e:\n\u001b[0;32m    153\u001b[0m     giveup_result \u001b[38;5;241m=\u001b[39m \u001b[38;5;28;01mawait\u001b[39;00m giveup(e)\n",
      "File \u001b[1;32mc:\\Users\\gordo\\Code\\iris-hep\\idap-200gbps-atlas\\.venv\\lib\\site-packages\\servicex\\servicex.py:721\u001b[0m, in \u001b[0;36mServiceXDataset._data_return\u001b[1;34m(self, selection_query, converter, title, data_format)\u001b[0m\n\u001b[0;32m    687\u001b[0m \u001b[38;5;129m@on_exception\u001b[39m(backoff\u001b[38;5;241m.\u001b[39mconstant, ServiceXUnknownRequestID, interval\u001b[38;5;241m=\u001b[39m\u001b[38;5;241m0.1\u001b[39m, max_tries\u001b[38;5;241m=\u001b[39m\u001b[38;5;241m3\u001b[39m)\n\u001b[0;32m    688\u001b[0m \u001b[38;5;129m@on_exception\u001b[39m(\n\u001b[0;32m    689\u001b[0m     backoff\u001b[38;5;241m.\u001b[39mconstant,\n\u001b[1;32m   (...)\u001b[0m\n\u001b[0;32m    699\u001b[0m     data_format: \u001b[38;5;28mstr\u001b[39m \u001b[38;5;241m=\u001b[39m \u001b[38;5;124m\"\u001b[39m\u001b[38;5;124mroot-file\u001b[39m\u001b[38;5;124m\"\u001b[39m,\n\u001b[0;32m    700\u001b[0m ) \u001b[38;5;241m-\u001b[39m\u001b[38;5;241m>\u001b[39m List[Any]:\n\u001b[0;32m    701\u001b[0m \u001b[38;5;250m    \u001b[39m\u001b[38;5;124;03m\"\"\"Given a query, return the data, in a unique order, that hold\u001b[39;00m\n\u001b[0;32m    702\u001b[0m \u001b[38;5;124;03m    the data for the query.\u001b[39;00m\n\u001b[0;32m    703\u001b[0m \n\u001b[1;32m   (...)\u001b[0m\n\u001b[0;32m    719\u001b[0m \u001b[38;5;124;03m                            on the converter call.\u001b[39;00m\n\u001b[0;32m    720\u001b[0m \u001b[38;5;124;03m    \"\"\"\u001b[39;00m\n\u001b[1;32m--> 721\u001b[0m     all_data \u001b[38;5;241m=\u001b[39m {\n\u001b[0;32m    722\u001b[0m         f\u001b[38;5;241m.\u001b[39mfile: f\u001b[38;5;241m.\u001b[39mdata\n\u001b[0;32m    723\u001b[0m         \u001b[38;5;28;01masync\u001b[39;00m \u001b[38;5;28;01mfor\u001b[39;00m f \u001b[38;5;129;01min\u001b[39;00m \u001b[38;5;28mself\u001b[39m\u001b[38;5;241m.\u001b[39m_stream_return(\n\u001b[0;32m    724\u001b[0m             selection_query, title, converter, data_format\n\u001b[0;32m    725\u001b[0m         )\n\u001b[0;32m    726\u001b[0m     }\n\u001b[0;32m    728\u001b[0m     \u001b[38;5;66;03m# Finally, we need them in the proper order so we append them\u001b[39;00m\n\u001b[0;32m    729\u001b[0m     \u001b[38;5;66;03m# all together\u001b[39;00m\n\u001b[0;32m    730\u001b[0m     ordered_data \u001b[38;5;241m=\u001b[39m [all_data[k] \u001b[38;5;28;01mfor\u001b[39;00m k \u001b[38;5;129;01min\u001b[39;00m \u001b[38;5;28msorted\u001b[39m(all_data\u001b[38;5;241m.\u001b[39mkeys())]\n",
      "File \u001b[1;32mc:\\Users\\gordo\\Code\\iris-hep\\idap-200gbps-atlas\\.venv\\lib\\site-packages\\servicex\\servicex.py:721\u001b[0m, in \u001b[0;36m<dictcomp>\u001b[1;34m(.0)\u001b[0m\n\u001b[0;32m    687\u001b[0m \u001b[38;5;129m@on_exception\u001b[39m(backoff\u001b[38;5;241m.\u001b[39mconstant, ServiceXUnknownRequestID, interval\u001b[38;5;241m=\u001b[39m\u001b[38;5;241m0.1\u001b[39m, max_tries\u001b[38;5;241m=\u001b[39m\u001b[38;5;241m3\u001b[39m)\n\u001b[0;32m    688\u001b[0m \u001b[38;5;129m@on_exception\u001b[39m(\n\u001b[0;32m    689\u001b[0m     backoff\u001b[38;5;241m.\u001b[39mconstant,\n\u001b[1;32m   (...)\u001b[0m\n\u001b[0;32m    699\u001b[0m     data_format: \u001b[38;5;28mstr\u001b[39m \u001b[38;5;241m=\u001b[39m \u001b[38;5;124m\"\u001b[39m\u001b[38;5;124mroot-file\u001b[39m\u001b[38;5;124m\"\u001b[39m,\n\u001b[0;32m    700\u001b[0m ) \u001b[38;5;241m-\u001b[39m\u001b[38;5;241m>\u001b[39m List[Any]:\n\u001b[0;32m    701\u001b[0m \u001b[38;5;250m    \u001b[39m\u001b[38;5;124;03m\"\"\"Given a query, return the data, in a unique order, that hold\u001b[39;00m\n\u001b[0;32m    702\u001b[0m \u001b[38;5;124;03m    the data for the query.\u001b[39;00m\n\u001b[0;32m    703\u001b[0m \n\u001b[1;32m   (...)\u001b[0m\n\u001b[0;32m    719\u001b[0m \u001b[38;5;124;03m                            on the converter call.\u001b[39;00m\n\u001b[0;32m    720\u001b[0m \u001b[38;5;124;03m    \"\"\"\u001b[39;00m\n\u001b[1;32m--> 721\u001b[0m     all_data \u001b[38;5;241m=\u001b[39m {\n\u001b[0;32m    722\u001b[0m         f\u001b[38;5;241m.\u001b[39mfile: f\u001b[38;5;241m.\u001b[39mdata\n\u001b[0;32m    723\u001b[0m         \u001b[38;5;28;01masync\u001b[39;00m \u001b[38;5;28;01mfor\u001b[39;00m f \u001b[38;5;129;01min\u001b[39;00m \u001b[38;5;28mself\u001b[39m\u001b[38;5;241m.\u001b[39m_stream_return(\n\u001b[0;32m    724\u001b[0m             selection_query, title, converter, data_format\n\u001b[0;32m    725\u001b[0m         )\n\u001b[0;32m    726\u001b[0m     }\n\u001b[0;32m    728\u001b[0m     \u001b[38;5;66;03m# Finally, we need them in the proper order so we append them\u001b[39;00m\n\u001b[0;32m    729\u001b[0m     \u001b[38;5;66;03m# all together\u001b[39;00m\n\u001b[0;32m    730\u001b[0m     ordered_data \u001b[38;5;241m=\u001b[39m [all_data[k] \u001b[38;5;28;01mfor\u001b[39;00m k \u001b[38;5;129;01min\u001b[39;00m \u001b[38;5;28msorted\u001b[39m(all_data\u001b[38;5;241m.\u001b[39mkeys())]\n",
      "File \u001b[1;32mc:\\Users\\gordo\\Code\\iris-hep\\idap-200gbps-atlas\\.venv\\lib\\site-packages\\servicex\\servicex.py:764\u001b[0m, in \u001b[0;36mServiceXDataset._stream_return\u001b[1;34m(self, selection_query, title, converter, data_format)\u001b[0m\n\u001b[0;32m    741\u001b[0m \u001b[38;5;250m\u001b[39m\u001b[38;5;124;03m\"\"\"Given a query, return the data, in the order it arrives back\u001b[39;00m\n\u001b[0;32m    742\u001b[0m \u001b[38;5;124;03mconverted as appropriate.\u001b[39;00m\n\u001b[0;32m    743\u001b[0m \n\u001b[1;32m   (...)\u001b[0m\n\u001b[0;32m    757\u001b[0m \u001b[38;5;124;03m                        on the converter call.\u001b[39;00m\n\u001b[0;32m    758\u001b[0m \u001b[38;5;124;03m\"\"\"\u001b[39;00m\n\u001b[0;32m    759\u001b[0m as_data \u001b[38;5;241m=\u001b[39m (\n\u001b[0;32m    760\u001b[0m     StreamInfoData(f\u001b[38;5;241m.\u001b[39mfile, \u001b[38;5;28;01mawait\u001b[39;00m asyncio\u001b[38;5;241m.\u001b[39mensure_future(converter(f\u001b[38;5;241m.\u001b[39mpath)))\n\u001b[0;32m    761\u001b[0m     \u001b[38;5;28;01masync\u001b[39;00m \u001b[38;5;28;01mfor\u001b[39;00m f \u001b[38;5;129;01min\u001b[39;00m \u001b[38;5;28mself\u001b[39m\u001b[38;5;241m.\u001b[39m_stream_local_files(selection_query, title, data_format)\n\u001b[0;32m    762\u001b[0m )  \u001b[38;5;66;03m# type: ignore\u001b[39;00m\n\u001b[1;32m--> 764\u001b[0m \u001b[38;5;28;01masync\u001b[39;00m \u001b[38;5;28;01mfor\u001b[39;00m r \u001b[38;5;129;01min\u001b[39;00m as_data:\n\u001b[0;32m    765\u001b[0m     \u001b[38;5;28;01myield\u001b[39;00m r\n",
      "File \u001b[1;32mc:\\Users\\gordo\\Code\\iris-hep\\idap-200gbps-atlas\\.venv\\lib\\site-packages\\servicex\\servicex.py:759\u001b[0m, in \u001b[0;36m<genexpr>\u001b[1;34m(.0)\u001b[0m\n\u001b[0;32m    734\u001b[0m \u001b[38;5;28;01masync\u001b[39;00m \u001b[38;5;28;01mdef\u001b[39;00m \u001b[38;5;21m_stream_return\u001b[39m(\n\u001b[0;32m    735\u001b[0m     \u001b[38;5;28mself\u001b[39m,\n\u001b[0;32m    736\u001b[0m     selection_query: \u001b[38;5;28mstr\u001b[39m,\n\u001b[1;32m   (...)\u001b[0m\n\u001b[0;32m    739\u001b[0m     data_format: \u001b[38;5;28mstr\u001b[39m \u001b[38;5;241m=\u001b[39m \u001b[38;5;124m\"\u001b[39m\u001b[38;5;124mroot-file\u001b[39m\u001b[38;5;124m\"\u001b[39m,\n\u001b[0;32m    740\u001b[0m ) \u001b[38;5;241m-\u001b[39m\u001b[38;5;241m>\u001b[39m AsyncIterator[StreamInfoData]:\n\u001b[0;32m    741\u001b[0m \u001b[38;5;250m    \u001b[39m\u001b[38;5;124;03m\"\"\"Given a query, return the data, in the order it arrives back\u001b[39;00m\n\u001b[0;32m    742\u001b[0m \u001b[38;5;124;03m    converted as appropriate.\u001b[39;00m\n\u001b[0;32m    743\u001b[0m \n\u001b[1;32m   (...)\u001b[0m\n\u001b[0;32m    757\u001b[0m \u001b[38;5;124;03m                            on the converter call.\u001b[39;00m\n\u001b[0;32m    758\u001b[0m \u001b[38;5;124;03m    \"\"\"\u001b[39;00m\n\u001b[1;32m--> 759\u001b[0m     as_data \u001b[38;5;241m=\u001b[39m (\n\u001b[0;32m    760\u001b[0m         StreamInfoData(f\u001b[38;5;241m.\u001b[39mfile, \u001b[38;5;28;01mawait\u001b[39;00m asyncio\u001b[38;5;241m.\u001b[39mensure_future(converter(f\u001b[38;5;241m.\u001b[39mpath)))\n\u001b[0;32m    761\u001b[0m         \u001b[38;5;28;01masync\u001b[39;00m \u001b[38;5;28;01mfor\u001b[39;00m f \u001b[38;5;129;01min\u001b[39;00m \u001b[38;5;28mself\u001b[39m\u001b[38;5;241m.\u001b[39m_stream_local_files(selection_query, title, data_format)\n\u001b[0;32m    762\u001b[0m     )  \u001b[38;5;66;03m# type: ignore\u001b[39;00m\n\u001b[0;32m    764\u001b[0m     \u001b[38;5;28;01masync\u001b[39;00m \u001b[38;5;28;01mfor\u001b[39;00m r \u001b[38;5;129;01min\u001b[39;00m as_data:\n\u001b[0;32m    765\u001b[0m         \u001b[38;5;28;01myield\u001b[39;00m r\n",
      "File \u001b[1;32mc:\\Users\\gordo\\Code\\iris-hep\\idap-200gbps-atlas\\.venv\\lib\\site-packages\\servicex\\servicex.py:799\u001b[0m, in \u001b[0;36mServiceXDataset._stream_local_files\u001b[1;34m(self, selection_query, title, data_format)\u001b[0m\n\u001b[0;32m    791\u001b[0m \u001b[38;5;66;03m# Get all the files\u001b[39;00m\n\u001b[0;32m    792\u001b[0m as_files \u001b[38;5;241m=\u001b[39m (\n\u001b[0;32m    793\u001b[0m     f\n\u001b[0;32m    794\u001b[0m     \u001b[38;5;28;01masync\u001b[39;00m \u001b[38;5;28;01mfor\u001b[39;00m f \u001b[38;5;129;01min\u001b[39;00m \u001b[38;5;28mself\u001b[39m\u001b[38;5;241m.\u001b[39m_get_files(\n\u001b[0;32m    795\u001b[0m         selection_query, data_format, notifier, title\n\u001b[0;32m    796\u001b[0m     )\n\u001b[0;32m    797\u001b[0m )  \u001b[38;5;66;03m# type: ignore\u001b[39;00m\n\u001b[1;32m--> 799\u001b[0m \u001b[38;5;28;01masync\u001b[39;00m \u001b[38;5;28;01mfor\u001b[39;00m name, a_path \u001b[38;5;129;01min\u001b[39;00m as_files:\n\u001b[0;32m    800\u001b[0m     \u001b[38;5;28;01myield\u001b[39;00m StreamInfoPath(name, Path(\u001b[38;5;28;01mawait\u001b[39;00m a_path))\n",
      "File \u001b[1;32mc:\\Users\\gordo\\Code\\iris-hep\\idap-200gbps-atlas\\.venv\\lib\\site-packages\\servicex\\servicex.py:792\u001b[0m, in \u001b[0;36m<genexpr>\u001b[1;34m(.0)\u001b[0m\n\u001b[0;32m    789\u001b[0m notifier \u001b[38;5;241m=\u001b[39m \u001b[38;5;28mself\u001b[39m\u001b[38;5;241m.\u001b[39m_create_notifier(title, \u001b[38;5;28;01mTrue\u001b[39;00m)\n\u001b[0;32m    791\u001b[0m \u001b[38;5;66;03m# Get all the files\u001b[39;00m\n\u001b[1;32m--> 792\u001b[0m as_files \u001b[38;5;241m=\u001b[39m (\n\u001b[0;32m    793\u001b[0m     f\n\u001b[0;32m    794\u001b[0m     \u001b[38;5;28;01masync\u001b[39;00m \u001b[38;5;28;01mfor\u001b[39;00m f \u001b[38;5;129;01min\u001b[39;00m \u001b[38;5;28mself\u001b[39m\u001b[38;5;241m.\u001b[39m_get_files(\n\u001b[0;32m    795\u001b[0m         selection_query, data_format, notifier, title\n\u001b[0;32m    796\u001b[0m     )\n\u001b[0;32m    797\u001b[0m )  \u001b[38;5;66;03m# type: ignore\u001b[39;00m\n\u001b[0;32m    799\u001b[0m \u001b[38;5;28;01masync\u001b[39;00m \u001b[38;5;28;01mfor\u001b[39;00m name, a_path \u001b[38;5;129;01min\u001b[39;00m as_files:\n\u001b[0;32m    800\u001b[0m     \u001b[38;5;28;01myield\u001b[39;00m StreamInfoPath(name, Path(\u001b[38;5;28;01mawait\u001b[39;00m a_path))\n",
      "File \u001b[1;32mc:\\Users\\gordo\\Code\\iris-hep\\idap-200gbps-atlas\\.venv\\lib\\site-packages\\servicex\\servicex.py:838\u001b[0m, in \u001b[0;36mServiceXDataset._get_files\u001b[1;34m(self, selection_query, data_format, notifier, title)\u001b[0m\n\u001b[0;32m    834\u001b[0m query \u001b[38;5;241m=\u001b[39m \u001b[38;5;28mself\u001b[39m\u001b[38;5;241m.\u001b[39m_build_json_query(selection_query, data_format, title)\n\u001b[0;32m    836\u001b[0m \u001b[38;5;28;01masync\u001b[39;00m \u001b[38;5;28;01mwith\u001b[39;00m aiohttp\u001b[38;5;241m.\u001b[39mClientSession() \u001b[38;5;28;01mas\u001b[39;00m client:\n\u001b[0;32m    837\u001b[0m     \u001b[38;5;66;03m# Get a request id - which might be cached, but if not, submit it.\u001b[39;00m\n\u001b[1;32m--> 838\u001b[0m     request_id \u001b[38;5;241m=\u001b[39m \u001b[38;5;28;01mawait\u001b[39;00m \u001b[38;5;28mself\u001b[39m\u001b[38;5;241m.\u001b[39m_get_request_id(client, query)\n\u001b[0;32m    840\u001b[0m     \u001b[38;5;66;03m# Make sure cache status exists (user could have deleted, see #176)\u001b[39;00m\n\u001b[0;32m    841\u001b[0m     \u001b[38;5;28;01mif\u001b[39;00m \u001b[38;5;129;01mnot\u001b[39;00m \u001b[38;5;28mself\u001b[39m\u001b[38;5;241m.\u001b[39m_cache\u001b[38;5;241m.\u001b[39mquery_status_exists(request_id):\n",
      "File \u001b[1;32mc:\\Users\\gordo\\Code\\iris-hep\\idap-200gbps-atlas\\.venv\\lib\\site-packages\\servicex\\servicex.py:911\u001b[0m, in \u001b[0;36mServiceXDataset._get_request_id\u001b[1;34m(self, client, query)\u001b[0m\n\u001b[0;32m    909\u001b[0m request_id \u001b[38;5;241m=\u001b[39m \u001b[38;5;28mself\u001b[39m\u001b[38;5;241m.\u001b[39m_cache\u001b[38;5;241m.\u001b[39mlookup_query(query)\n\u001b[0;32m    910\u001b[0m \u001b[38;5;28;01mif\u001b[39;00m request_id \u001b[38;5;129;01mis\u001b[39;00m \u001b[38;5;28;01mNone\u001b[39;00m:\n\u001b[1;32m--> 911\u001b[0m     request_info \u001b[38;5;241m=\u001b[39m \u001b[38;5;28;01mawait\u001b[39;00m \u001b[38;5;28mself\u001b[39m\u001b[38;5;241m.\u001b[39m_servicex_adaptor\u001b[38;5;241m.\u001b[39msubmit_query(client, query)\n\u001b[0;32m    912\u001b[0m     request_id \u001b[38;5;241m=\u001b[39m request_info[\u001b[38;5;124m\"\u001b[39m\u001b[38;5;124mrequest_id\u001b[39m\u001b[38;5;124m\"\u001b[39m]\n\u001b[0;32m    913\u001b[0m     \u001b[38;5;28mself\u001b[39m\u001b[38;5;241m.\u001b[39m_cache\u001b[38;5;241m.\u001b[39mset_query(query, request_id)\n",
      "File \u001b[1;32mc:\\Users\\gordo\\Code\\iris-hep\\idap-200gbps-atlas\\.venv\\lib\\site-packages\\servicex\\servicex_adaptor.py:60\u001b[0m, in \u001b[0;36mServiceXAdaptor.submit_query\u001b[1;34m(self, client, json_query)\u001b[0m\n\u001b[0;32m     53\u001b[0m \u001b[38;5;28;01masync\u001b[39;00m \u001b[38;5;28;01mdef\u001b[39;00m \u001b[38;5;21msubmit_query\u001b[39m(\n\u001b[0;32m     54\u001b[0m     \u001b[38;5;28mself\u001b[39m, client: aiohttp\u001b[38;5;241m.\u001b[39mClientSession, json_query: Dict[\u001b[38;5;28mstr\u001b[39m, \u001b[38;5;28mstr\u001b[39m]\n\u001b[0;32m     55\u001b[0m ) \u001b[38;5;241m-\u001b[39m\u001b[38;5;241m>\u001b[39m Dict[\u001b[38;5;28mstr\u001b[39m, \u001b[38;5;28mstr\u001b[39m]:\n\u001b[0;32m     56\u001b[0m \u001b[38;5;250m    \u001b[39m\u001b[38;5;124;03m\"\"\"\u001b[39;00m\n\u001b[0;32m     57\u001b[0m \u001b[38;5;124;03m    Submit a query to ServiceX, and return a request ID\u001b[39;00m\n\u001b[0;32m     58\u001b[0m \u001b[38;5;124;03m    \"\"\"\u001b[39;00m\n\u001b[1;32m---> 60\u001b[0m     headers \u001b[38;5;241m=\u001b[39m \u001b[38;5;28;01mawait\u001b[39;00m \u001b[38;5;28mself\u001b[39m\u001b[38;5;241m.\u001b[39m_get_authorization(client)\n\u001b[0;32m     62\u001b[0m     \u001b[38;5;28;01masync\u001b[39;00m \u001b[38;5;28;01mwith\u001b[39;00m client\u001b[38;5;241m.\u001b[39mpost(\n\u001b[0;32m     63\u001b[0m         \u001b[38;5;124mf\u001b[39m\u001b[38;5;124m\"\u001b[39m\u001b[38;5;132;01m{\u001b[39;00m\u001b[38;5;28mself\u001b[39m\u001b[38;5;241m.\u001b[39m_endpoint\u001b[38;5;132;01m}\u001b[39;00m\u001b[38;5;124m/servicex/transformation\u001b[39m\u001b[38;5;124m\"\u001b[39m,\n\u001b[0;32m     64\u001b[0m         headers\u001b[38;5;241m=\u001b[39mheaders,\n\u001b[0;32m     65\u001b[0m         json\u001b[38;5;241m=\u001b[39mjson_query,\n\u001b[0;32m     66\u001b[0m     ) \u001b[38;5;28;01mas\u001b[39;00m response:\n\u001b[0;32m     67\u001b[0m         status \u001b[38;5;241m=\u001b[39m response\u001b[38;5;241m.\u001b[39mstatus\n",
      "File \u001b[1;32mc:\\Users\\gordo\\Code\\iris-hep\\idap-200gbps-atlas\\.venv\\lib\\site-packages\\servicex\\servicex_adaptor.py:50\u001b[0m, in \u001b[0;36mServiceXAdaptor._get_authorization\u001b[1;34m(self, client)\u001b[0m\n\u001b[0;32m     48\u001b[0m now \u001b[38;5;241m=\u001b[39m datetime\u001b[38;5;241m.\u001b[39mutcnow()\u001b[38;5;241m.\u001b[39mtimestamp()\n\u001b[0;32m     49\u001b[0m \u001b[38;5;28;01mif\u001b[39;00m \u001b[38;5;129;01mnot\u001b[39;00m \u001b[38;5;28mself\u001b[39m\u001b[38;5;241m.\u001b[39m_token \u001b[38;5;129;01mor\u001b[39;00m jwt\u001b[38;5;241m.\u001b[39mdecode(\u001b[38;5;28mself\u001b[39m\u001b[38;5;241m.\u001b[39m_token, verify\u001b[38;5;241m=\u001b[39m\u001b[38;5;28;01mFalse\u001b[39;00m)[\u001b[38;5;124m\"\u001b[39m\u001b[38;5;124mexp\u001b[39m\u001b[38;5;124m\"\u001b[39m] \u001b[38;5;241m-\u001b[39m now \u001b[38;5;241m<\u001b[39m \u001b[38;5;241m0\u001b[39m:\n\u001b[1;32m---> 50\u001b[0m     \u001b[38;5;28;01mawait\u001b[39;00m \u001b[38;5;28mself\u001b[39m\u001b[38;5;241m.\u001b[39m_get_token(client)\n\u001b[0;32m     51\u001b[0m \u001b[38;5;28;01mreturn\u001b[39;00m {\u001b[38;5;124m\"\u001b[39m\u001b[38;5;124mAuthorization\u001b[39m\u001b[38;5;124m\"\u001b[39m: \u001b[38;5;124mf\u001b[39m\u001b[38;5;124m\"\u001b[39m\u001b[38;5;124mBearer \u001b[39m\u001b[38;5;132;01m{\u001b[39;00m\u001b[38;5;28mself\u001b[39m\u001b[38;5;241m.\u001b[39m_token\u001b[38;5;132;01m}\u001b[39;00m\u001b[38;5;124m\"\u001b[39m}\n",
      "File \u001b[1;32mc:\\Users\\gordo\\Code\\iris-hep\\idap-200gbps-atlas\\.venv\\lib\\site-packages\\servicex\\servicex_adaptor.py:41\u001b[0m, in \u001b[0;36mServiceXAdaptor._get_token\u001b[1;34m(self, client)\u001b[0m\n\u001b[0;32m     39\u001b[0m     \u001b[38;5;28mself\u001b[39m\u001b[38;5;241m.\u001b[39m_token \u001b[38;5;241m=\u001b[39m j[\u001b[38;5;124m\"\u001b[39m\u001b[38;5;124maccess_token\u001b[39m\u001b[38;5;124m\"\u001b[39m]\n\u001b[0;32m     40\u001b[0m \u001b[38;5;28;01melse\u001b[39;00m:\n\u001b[1;32m---> 41\u001b[0m     \u001b[38;5;28;01mraise\u001b[39;00m ServiceXException(\n\u001b[0;32m     42\u001b[0m         \u001b[38;5;124mf\u001b[39m\u001b[38;5;124m\"\u001b[39m\u001b[38;5;124mServiceX access token request rejected: \u001b[39m\u001b[38;5;132;01m{\u001b[39;00mstatus\u001b[38;5;132;01m}\u001b[39;00m\u001b[38;5;124m\"\u001b[39m\n\u001b[0;32m     43\u001b[0m     )\n",
      "\u001b[1;31mServiceXException\u001b[0m: (ServiceXException(...), 'ServiceX access token request rejected: 500')"
     ]
    }
   ],
   "source": [
    "from servicex import ServiceXDataset\n",
    "ds_prime = ServiceXDataset(ttbar_all, backend_name='atlasr22')\n",
    "# TODO: Why does `get_data_parquet` return no files, but `get_data_rootfiles` does?\n",
    "# Download the files locally\n",
    "files = ds_prime.get_data_rootfiles(qastle_text, title=\"First Request\")\n",
    "# Get a URL so we can open over the internet\n",
    "# files = ds_prime.get_data_rootfiles_uri(qastle_text, title=\"First Request\")\n",
    "# files = [f.url for f in files]\n",
    "\n",
    "files"
   ]
  },
  {
   "cell_type": "code",
   "execution_count": null,
   "metadata": {},
   "outputs": [],
   "source": [
    "import uproot\n",
    "data = uproot.dask({\n",
    "    f: 'atlas_xaod_tree'\n",
    "    for f in files\n",
    "})"
   ]
  },
  {
   "cell_type": "markdown",
   "metadata": {},
   "source": [
    "## Plots\n",
    "\n",
    "Next, lets make plots of everything"
   ]
  },
  {
   "cell_type": "code",
   "execution_count": null,
   "metadata": {},
   "outputs": [],
   "source": [
    "# Quick construction, no other imports needed:\n",
    "h = (\n",
    "    Hist.new.Reg(20, 0, 100000000, name=\"x\", label=\"x-axis\")\n",
    "    .Int64()\n",
    ")\n",
    "r1 = h.fill(data.event_number)"
   ]
  },
  {
   "cell_type": "code",
   "execution_count": null,
   "metadata": {},
   "outputs": [],
   "source": [
    "# Quick construction, no other imports needed:\n",
    "h = (\n",
    "    Hist.new.Reg(20, 0, 200, name=\"x\", label=\"Jet $p_T$\")\n",
    "    .Int64()\n",
    ")\n",
    "r2 = h.fill(dak.flatten(data.jet_pt))"
   ]
  },
  {
   "cell_type": "code",
   "execution_count": null,
   "metadata": {},
   "outputs": [],
   "source": [
    "r1.compute()"
   ]
  },
  {
   "cell_type": "code",
   "execution_count": null,
   "metadata": {},
   "outputs": [],
   "source": [
    "r2.compute()"
   ]
  }
 ],
 "metadata": {
  "kernelspec": {
   "display_name": ".venv",
   "language": "python",
   "name": "python3"
  },
  "language_info": {
   "codemirror_mode": {
    "name": "ipython",
    "version": 3
   },
   "file_extension": ".py",
   "mimetype": "text/x-python",
   "name": "python",
   "nbconvert_exporter": "python",
   "pygments_lexer": "ipython3",
   "version": "3.10.10"
  }
 },
 "nbformat": 4,
 "nbformat_minor": 2
}
