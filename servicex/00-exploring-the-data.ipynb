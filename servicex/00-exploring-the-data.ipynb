{
 "cells": [
  {
   "cell_type": "markdown",
   "metadata": {},
   "source": [
    "# Exploring The Data\n",
    "\n",
    "Looking at the data to see how to access enough columns to make this relevant."
   ]
  },
  {
   "cell_type": "code",
   "execution_count": 1,
   "metadata": {},
   "outputs": [
    {
     "name": "stdout",
     "output_type": "stream",
     "text": [
      "Using release 22.2.107\n"
     ]
    }
   ],
   "source": [
    "from func_adl_servicex_xaodr22 import atlas_release\n",
    "from func_adl_servicex_xaodr22 import SXDSAtlasxAODR22PHYSLITE\n",
    "\n",
    "from hist.dask import Hist\n",
    "import dask_awkward as dak\n",
    "\n",
    "print(f'Using release {atlas_release}')"
   ]
  },
  {
   "cell_type": "markdown",
   "metadata": {},
   "source": [
    "Setup the dataset we will use for testing."
   ]
  },
  {
   "cell_type": "code",
   "execution_count": 2,
   "metadata": {},
   "outputs": [],
   "source": [
    "ttbar_all_rucio_dataset_name = \"mc23_13p6TeV.601229.PhPy8EG_A14_ttbar_hdamp258p75_SingleLep.deriv.DAOD_PHYSLITE.e8514_s4162_r14622_p6026\"\n",
    "ttbar_all = f\"rucio://{ttbar_all_rucio_dataset_name}?files=4\"\n",
    "ds = SXDSAtlasxAODR22PHYSLITE(ttbar_all, backend='atlasr22')\n",
    "\n",
    "ds.return_qastle = True"
   ]
  },
  {
   "cell_type": "markdown",
   "metadata": {},
   "source": [
    "## ServiceX Query\n",
    "\n",
    "Do an event-level query - so lists of jets, met, etc, all at the top level."
   ]
  },
  {
   "cell_type": "code",
   "execution_count": 3,
   "metadata": {},
   "outputs": [],
   "source": [
    "# TODO: The EventInfo argument should default correctly\n",
    "# TODO: dataclass should be supported so as not to lose type-following!\n",
    "query = (ds\n",
    "         .Select(lambda e: {\n",
    "             'evt': e.EventInfo(\"EventInfo\"),\n",
    "             'jet': e.Jets()\n",
    "             })\n",
    "         .Select(lambda ei: {\n",
    "             'event_number': ei.evt.eventNumber(),\n",
    "             'run_number': ei.evt.runNumber(),\n",
    "             'jet_pt': ei.jet.Select(lambda j: j.pt()/1000)\n",
    "         })\n",
    ")"
   ]
  },
  {
   "cell_type": "markdown",
   "metadata": {},
   "source": [
    "We do not have tight integration into `dask_awkward` until there is extra code working, so lets grab all the data."
   ]
  },
  {
   "cell_type": "code",
   "execution_count": 4,
   "metadata": {},
   "outputs": [
    {
     "data": {
      "text/plain": [
       "\"(call Select (call Select (call MetaData (call MetaData (call EventDataset 'bogus.root') (dict (list 'metadata_type' 'name' 'include_files' 'container_type' 'contains_collection' 'link_libraries') (list 'add_atlas_event_collection_info' 'EventInfo' (list 'xAODEventInfo/versions/EventInfo_v1.h') 'xAOD::EventInfo_v1' False (list 'xAODEventInfo')))) (dict (list 'metadata_type' 'name' 'include_files' 'container_type' 'element_type' 'contains_collection' 'link_libraries') (list 'add_atlas_event_collection_info' 'Jets' (list 'xAODJet/JetContainer.h') 'DataVector<xAOD::Jet_v1>' 'xAOD::Jet_v1' True (list 'xAODJet')))) (lambda (list e) (dict (list 'evt' 'jet') (list (call (attr e 'EventInfo') 'EventInfo') (call (attr e 'Jets') 'AnalysisJets'))))) (lambda (list ei) (dict (list 'event_number' 'run_number' 'jet_pt') (list (call (attr (attr ei 'evt') 'eventNumber')) (call (attr (attr ei 'evt') 'runNumber')) (call (attr (attr ei 'jet') 'Select') (lambda (list j) (/ (call (attr j 'pt')) 1000)))))))\""
      ]
     },
     "execution_count": 4,
     "metadata": {},
     "output_type": "execute_result"
    }
   ],
   "source": [
    "# Start by grabbing the data as an awkward array\n",
    "# TODO: Files should remain in the S3 cache and be read directly from there\n",
    "qastle_text = query.value()\n",
    "qastle_text"
   ]
  },
  {
   "cell_type": "code",
   "execution_count": 5,
   "metadata": {},
   "outputs": [
    {
     "data": {
      "text/plain": [
       "[WindowsPath('C:/Users/gordo/AppData/Local/Temp/servicex_gordo/data/44019aa7-a499-4634-bea8-ba11990f913b/e603ae32a8ae0b03a73b04211b9d7cb4-TE.37223155._000309.pool.root.1'),\n",
       " WindowsPath('C:/Users/gordo/AppData/Local/Temp/servicex_gordo/data/44019aa7-a499-4634-bea8-ba11990f913b/fbc1aae998bd37a62d243384e3dfc208-TE.37223155._000125.pool.root.1'),\n",
       " WindowsPath('C:/Users/gordo/AppData/Local/Temp/servicex_gordo/data/44019aa7-a499-4634-bea8-ba11990f913b/37845c405fe1b9e4c6ac080e5328d900-TE.37223155._000289.pool.root.1'),\n",
       " WindowsPath('C:/Users/gordo/AppData/Local/Temp/servicex_gordo/data/44019aa7-a499-4634-bea8-ba11990f913b/84ff6ddd812ac4c37755811d3ea96436-TE.37223155._000310.pool.root.1')]"
      ]
     },
     "execution_count": 5,
     "metadata": {},
     "output_type": "execute_result"
    }
   ],
   "source": [
    "from servicex import ServiceXDataset\n",
    "ds_prime = ServiceXDataset(ttbar_all, backend_name='atlasr22')\n",
    "# TODO: Why does `get_data_parquet` return no files, but `get_data_rootfiles` does?\n",
    "# Download the files locally\n",
    "files = ds_prime.get_data_rootfiles(qastle_text, title=\"First Request\")\n",
    "# Get a URL so we can open over the internet\n",
    "# files = ds_prime.get_data_rootfiles_uri(qastle_text, title=\"First Request\")\n",
    "# files = [f.url for f in files]\n",
    "\n",
    "files"
   ]
  },
  {
   "cell_type": "code",
   "execution_count": 6,
   "metadata": {},
   "outputs": [],
   "source": [
    "import uproot\n",
    "data = uproot.dask({\n",
    "    f: 'atlas_xaod_tree'\n",
    "    for f in files\n",
    "})"
   ]
  },
  {
   "cell_type": "markdown",
   "metadata": {},
   "source": [
    "## Plots\n",
    "\n",
    "Next, lets make plots of everything"
   ]
  },
  {
   "cell_type": "code",
   "execution_count": 7,
   "metadata": {},
   "outputs": [],
   "source": [
    "# Quick construction, no other imports needed:\n",
    "h = (\n",
    "    Hist.new.Reg(20, 0, 100000000, name=\"x\", label=\"x-axis\")\n",
    "    .Int64()\n",
    ")\n",
    "r1 = h.fill(data.event_number)"
   ]
  },
  {
   "cell_type": "code",
   "execution_count": 8,
   "metadata": {},
   "outputs": [],
   "source": [
    "# Quick construction, no other imports needed:\n",
    "h = (\n",
    "    Hist.new.Reg(20, 0, 200, name=\"x\", label=\"Jet $p_T$\")\n",
    "    .Int64()\n",
    ")\n",
    "r2 = h.fill(dak.flatten(data.jet_pt))"
   ]
  },
  {
   "cell_type": "code",
   "execution_count": 9,
   "metadata": {},
   "outputs": [
    {
     "data": {
      "text/html": [
       "<html>\n",
       "<div style=\"display:flex; align-items:center;\">\n",
       "<div style=\"width:290px;\">\n",
       "<svg xmlns=\"http://www.w3.org/2000/svg\" viewBox=\"-10 -105 270 120\">\n",
       "<line x1=\"-5\" y1=\"0\" x2=\"255\" y2=\"0\" style=\"fill:none;stroke-width:2;stroke:currentColor\"/>\n",
       "<text text-anchor=\"middle\" x=\"0\" y=\"15\" style=\"fill:currentColor;\">\n",
       "0\n",
       "</text>\n",
       "<text text-anchor=\"middle\" x=\"250\" y=\"15\" style=\"fill:currentColor;\">\n",
       "1e+08\n",
       "</text>\n",
       "<text text-anchor=\"middle\" x=\"125.0\" y=\"15\" style=\"fill:currentColor;\">\n",
       "x-axis\n",
       "</text>\n",
       "<polyline points=\"  0,0   0,-0 12.5,-0 12.5,-0  25,-0  25,-0 37.5,-0 37.5,-0  50,-0  50,-0 62.5,-0 62.5,-0  75,-0  75,-0 87.5,-0 87.5,-0 100,-0 100,-0 112.5,-0 112.5,-0 125,-0 125,-0 137.5,-0 137.5,-2.35 150,-2.35 150,-87.1 162.5,-87.1 162.5,-78.8 175,-78.8 175,-76.5 187.5,-76.5 187.5,-100 200,-100 200,-2.35 212.5,-2.35 212.5,-0 225,-0 225,-0 237.5,-0 237.5,-0 250,-0 250,0\" style=\"fill:none; stroke:currentColor;\"/>\n",
       "</svg>\n",
       "</div>\n",
       "<div style=\"flex=grow:1;\">\n",
       "Regular(20, 0, 1e+08, name='x', label='x-axis')<br/>\n",
       "<hr style=\"margin-top:.2em; margin-bottom:.2em;\"/>\n",
       "Int64() Σ=590000.0\n",
       "\n",
       "</div>\n",
       "</div>\n",
       "</html>"
      ],
      "text/plain": [
       "Hist(Regular(20, 0, 1e+08, name='x', label='x-axis'), storage=Int64()) # Sum: 590000.0"
      ]
     },
     "execution_count": 9,
     "metadata": {},
     "output_type": "execute_result"
    }
   ],
   "source": [
    "r1.compute()"
   ]
  },
  {
   "cell_type": "code",
   "execution_count": 10,
   "metadata": {},
   "outputs": [
    {
     "data": {
      "text/html": [
       "<html>\n",
       "<div style=\"display:flex; align-items:center;\">\n",
       "<div style=\"width:290px;\">\n",
       "<svg xmlns=\"http://www.w3.org/2000/svg\" viewBox=\"-10 -105 270 120\">\n",
       "<line x1=\"-5\" y1=\"0\" x2=\"255\" y2=\"0\" style=\"fill:none;stroke-width:2;stroke:currentColor\"/>\n",
       "<text text-anchor=\"middle\" x=\"0\" y=\"15\" style=\"fill:currentColor;\">\n",
       "0\n",
       "</text>\n",
       "<text text-anchor=\"middle\" x=\"250\" y=\"15\" style=\"fill:currentColor;\">\n",
       "200\n",
       "</text>\n",
       "<text text-anchor=\"middle\" x=\"125.0\" y=\"15\" style=\"fill:currentColor;\">\n",
       "Jet $p_T$\n",
       "</text>\n",
       "<polyline points=\"  0,0   0,-1.99 12.5,-1.99 12.5,-100  25,-100  25,-59.3 37.5,-59.3 37.5,-31  50,-31  50,-22 62.5,-22 62.5,-17.2  75,-17.2  75,-13.6 87.5,-13.6 87.5,-10.6 100,-10.6 100,-8.35 112.5,-8.35 112.5,-6.52 125,-6.52 125,-5.11 137.5,-5.11 137.5,-3.96 150,-3.96 150,-3.06 162.5,-3.06 162.5,-2.37 175,-2.37 175,-1.86 187.5,-1.86 187.5,-1.44 200,-1.44 200,-1.15 212.5,-1.15 212.5,-0.897 225,-0.897 225,-0.734 237.5,-0.734 237.5,-0.583 250,-0.583 250,0\" style=\"fill:none; stroke:currentColor;\"/>\n",
       "</svg>\n",
       "</div>\n",
       "<div style=\"flex=grow:1;\">\n",
       "Regular(20, 0, 200, name='x', label='Jet $p_T$')<br/>\n",
       "<hr style=\"margin-top:.2em; margin-bottom:.2em;\"/>\n",
       "Int64() Σ=5643591.0 <em>(5705961.0 with flow)</em>\n",
       "\n",
       "</div>\n",
       "</div>\n",
       "</html>"
      ],
      "text/plain": [
       "Hist(Regular(20, 0, 200, name='x', label='Jet $p_T$'), storage=Int64()) # Sum: 5643591.0 (5705961.0 with flow)"
      ]
     },
     "execution_count": 10,
     "metadata": {},
     "output_type": "execute_result"
    }
   ],
   "source": [
    "r2.compute()"
   ]
  }
 ],
 "metadata": {
  "kernelspec": {
   "display_name": ".venv",
   "language": "python",
   "name": "python3"
  },
  "language_info": {
   "codemirror_mode": {
    "name": "ipython",
    "version": 3
   },
   "file_extension": ".py",
   "mimetype": "text/x-python",
   "name": "python",
   "nbconvert_exporter": "python",
   "pygments_lexer": "ipython3",
   "version": "3.10.8"
  }
 },
 "nbformat": 4,
 "nbformat_minor": 2
}
